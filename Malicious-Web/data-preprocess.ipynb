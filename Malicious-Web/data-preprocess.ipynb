{
 "cells": [
  {
   "cell_type": "code",
   "execution_count": 1,
   "id": "10039837",
   "metadata": {},
   "outputs": [
    {
     "name": "stderr",
     "output_type": "stream",
     "text": [
      "/home/fishmon/.conda/envs/unsloth_env/lib/python3.11/site-packages/tqdm/auto.py:21: TqdmWarning: IProgress not found. Please update jupyter and ipywidgets. See https://ipywidgets.readthedocs.io/en/stable/user_install.html\n",
      "  from .autonotebook import tqdm as notebook_tqdm\n"
     ]
    }
   ],
   "source": [
    "import json\n",
    "import pandas as pd\n",
    "from pathlib import Path\n",
    "from jsonschema import validate, ValidationError\n",
    "from datasets import Dataset"
   ]
  },
  {
   "cell_type": "code",
   "execution_count": 2,
   "id": "473b0932",
   "metadata": {},
   "outputs": [],
   "source": [
    "# Define the schema for the classification dictionary (outside the function is cleaner)\n",
    "classification_schema = {\n",
    "    \"type\": \"object\",\n",
    "    \"properties\": {\n",
    "        \"answer\": {\"type\": \"integer\", \"minimum\": 0, \"maximum\": 3},\n",
    "        \"classification\": {\"type\": \"string\"},\n",
    "        \"reason\": {\"type\": \"string\"},\n",
    "        \"confidence\": {\"type\": \"integer\", \"minimum\": 0, \"maximum\": 100}\n",
    "    },\n",
    "    \"required\": [\"answer\", \"classification\", \"reason\", \"confidence\"]\n",
    "}\n",
    "\n",
    "def to_sharegpt_with_thought(system, input_suffix, dataset) -> Dataset:\n",
    "    \"\"\"\n",
    "    Convert website classification dataset to ShareGPT format including reasoning ('thought'),\n",
    "    with JSON validation and enhanced error handling, specifically checking for unhashable types.\n",
    "    Returns a Hugging Face Dataset object.\n",
    "    \n",
    "    Args:\n",
    "        system (str): System prompt\n",
    "        input_suffix (str): Suffix to append to the human message (can be empty if not needed)\n",
    "        dataset (pd.DataFrame): Input DataFrame with columns:\n",
    "            ['Domain', 'Content', 'Label', 'classification', 'reason', 'confidence', 'thought']\n",
    "            \n",
    "    Returns:\n",
    "        datasets.Dataset: Hugging Face Dataset with a 'conversations' column, \n",
    "                          where each row contains a list representing one conversation.\n",
    "                          Returns an empty Dataset if input dataset is empty or all rows fail.\n",
    "    \"\"\"\n",
    "    if not isinstance(dataset, pd.DataFrame) or dataset.empty:\n",
    "        print(\"Input is not a valid or non-empty DataFrame. Returning empty Dataset.\")\n",
    "        # Return an empty Dataset with the expected structure\n",
    "        return Dataset.from_dict({\"conversations\": []}) \n",
    "        \n",
    "    # This list will temporarily hold the conversation lists\n",
    "    conversation_data_list = [] \n",
    "    error_count = 0\n",
    "    processed_count = 0\n",
    "\n",
    "    human_template = f\"{input_suffix}\\nDomain: {{domain}}, Content: \\\"{{content}}\\\"\"\n",
    "    if not input_suffix:\n",
    "         human_template = f\"Domain: {{domain}}, Content: \\\"{{content}}\\\"\"\n",
    "\n",
    "    print(f\"Starting conversion for {len(dataset)} rows...\")\n",
    "\n",
    "    for idx, row in dataset.iterrows():\n",
    "        try:\n",
    "            # --- Data Extraction and Basic Type Check ---\n",
    "            domain = row.get('Domain', 'N/A') \n",
    "            content = str(row['Content']) if pd.notna(row['Content']) else \"\" \n",
    "            thought_text = str(row['thought']).strip() if pd.notna(row['thought']) else \"No thought provided.\"\n",
    "            \n",
    "            label = row['Label']\n",
    "            classification = row['classification']\n",
    "            reason = row['reason']\n",
    "            confidence = row['confidence']\n",
    "\n",
    "            if pd.isna(label) or pd.isna(classification) or pd.isna(reason) or pd.isna(confidence):\n",
    "                 raise ValueError(\"One or more required classification fields are NaN\")\n",
    "\n",
    "            if isinstance(label, (list, dict)) or \\\n",
    "               isinstance(classification, (list, dict)) or \\\n",
    "               isinstance(reason, (list, dict)) or \\\n",
    "               isinstance(confidence, (list, dict)):\n",
    "                 raise TypeError(\"One or more classification fields contain unhashable list/dict types\")\n",
    "\n",
    "            human_value = human_template.format(domain=domain, content=content)\n",
    "            \n",
    "            # --- Prepare and Validate Classification Dictionary ---\n",
    "            classification_dict = {\n",
    "                \"answer\": int(label), \n",
    "                \"classification\": str(classification),\n",
    "                \"reason\": str(reason), \n",
    "                \"confidence\": int(confidence)\n",
    "            }\n",
    "            validate(instance=classification_dict, schema=classification_schema) \n",
    "            \n",
    "            # --- Serialize and Format Output ---\n",
    "            final_json_str = json.dumps(classification_dict, ensure_ascii=False, indent=2) \n",
    "            gpt_value = f\"<think>\\n{thought_text}\\n</think>\\n```json\\n{final_json_str}\\n```\"\n",
    "            \n",
    "            # This is the list for a single conversation\n",
    "            conversation = [\n",
    "                {\"from\": \"system\", \"value\": system},\n",
    "                {\"from\": \"human\", \"value\": human_value},\n",
    "                {\"from\": \"gpt\", \"value\": gpt_value} \n",
    "            ]\n",
    "            \n",
    "            # Append the conversation list to our temporary list\n",
    "            conversation_data_list.append(conversation) \n",
    "            processed_count += 1\n",
    "\n",
    "        # --- Error Handling ---\n",
    "        except (ValidationError, ValueError, TypeError) as e: \n",
    "            error_count += 1\n",
    "            # Avoid printing excessive errors if many occur\n",
    "            if error_count < 20 or error_count % 100 == 0: \n",
    "                 print(f\"Error processing row {idx} (Domain: {domain}): {type(e).__name__} - {str(e)}\")\n",
    "            continue \n",
    "        except Exception as e: \n",
    "             error_count += 1\n",
    "             if error_count < 20 or error_count % 100 == 0:\n",
    "                 print(f\"UNEXPECTED Error processing row {idx} (Domain: {domain}): {type(e).__name__} - {str(e)}\")\n",
    "             continue\n",
    "\n",
    "    print(f\"\\nConversion finished.\")\n",
    "    print(f\"Successfully processed: {processed_count} rows\")\n",
    "    print(f\"Errors encountered: {error_count} rows\")\n",
    "\n",
    "    # --- Convert the list of conversation lists to a Hugging Face Dataset ---\n",
    "    if conversation_data_list:\n",
    "        # Create the dictionary format expected by from_dict\n",
    "        hf_dataset_dict = {\"conversations\": conversation_data_list} \n",
    "        # Create and return the Dataset object\n",
    "        return Dataset.from_dict(hf_dataset_dict)\n",
    "    else:\n",
    "        print(\"No valid data processed. Returning empty Dataset.\")\n",
    "        # Return an empty Dataset with the expected structure\n",
    "        return Dataset.from_dict({\"conversations\": []})"
   ]
  },
  {
   "cell_type": "code",
   "execution_count": 3,
   "id": "ca07748d",
   "metadata": {},
   "outputs": [
    {
     "name": "stdout",
     "output_type": "stream",
     "text": [
      "Starting conversion for 776 rows...\n",
      "\n",
      "Conversion finished.\n",
      "Successfully processed: 776 rows\n",
      "Errors encountered: 0 rows\n",
      "\n",
      "Output Type: <class 'datasets.arrow_dataset.Dataset'>\n",
      "Dataset Info:\n",
      "Dataset({\n",
      "    features: ['conversations'],\n",
      "    num_rows: 776\n",
      "})\n"
     ]
    }
   ],
   "source": [
    "df = pd.read_csv('./dataset/harmful.csv')\n",
    "with open('./prompt/labelling_promptv4.txt', 'r', encoding='utf-8') as f:\n",
    "    system_prompt = f.read()\n",
    "\n",
    "# Convert to ShareGPT format with Unicode preservation\n",
    "dataset = to_sharegpt_with_thought(\n",
    "    system=system_prompt,\n",
    "    input_suffix=\"Classify the given URL as 0 (benign), 1 (gambling), 2 (pornography), or 3 (harmful). Output MUST be JSON.\\n\",\n",
    "    dataset=df\n",
    ")\n",
    "\n",
    "# Now you can check the type and print the Dataset info\n",
    "print(\"\\nOutput Type:\", type(dataset))\n",
    "print(\"Dataset Info:\")\n",
    "print(dataset)"
   ]
  },
  {
   "cell_type": "code",
   "execution_count": null,
   "id": "3e9d4a89",
   "metadata": {},
   "outputs": [],
   "source": [
    "print(f\"Saving {len(dataset)} conversations to JSONL...\")\n",
    "# Save dataset in JSONL format\n",
    "try:\n",
    "    # with open('./dataset/harmful_sharegpt_thought2.jsonl', 'w', encoding='utf-8') as f:\n",
    "    #     # Iterate directly through the list of conversation lists\n",
    "    #     for conversation_list in dataset: \n",
    "    #         f.write(json.dumps(conversation_list, ensure_ascii=False) + '\\n')\n",
    "    with open('./dataset/harmful_sharegpt_thought2.jsonl', 'w', encoding='utf-8') as f:\n",
    "        for item in dataset:\n",
    "            f.write(json.dumps(item['conversations'], ensure_ascii=False) + '\\n')\n",
    "    print(\"Successfully saved data to harmful_sharegpt_thought3.jsonl\")\n",
    "except Exception as e:\n",
    "     print(f\"Error saving JSONL file: {e}\")"
   ]
  },
  {
   "cell_type": "code",
   "execution_count": 4,
   "id": "a71590d2",
   "metadata": {},
   "outputs": [
    {
     "data": {
      "text/plain": [
       "[{'from': 'system',\n",
       "  'value': 'You are an Expert Website Classifier tasked with categorizing websites (using provided Domain & Content) into distinct categories: **0 - Benign**, **1 - Gambling**, **2 - Pornography**, or **3 - Harmful**. Output strict JSON including classification, reason, and a point-based confidence score (0-100). This aids a sophisticated website prediction system for digital safety.\\n\\n### **Categories & Definitions:**\\n\\n-   **0 - Benign:** General info, news, entertainment, services, e-commerce, educational sites, blogs, informational pages, and general entertainment sites. No gambling/porn themes.\\n    -   **Includes:** Educational discussion of sensitive topics (drugs, gambling, adult, illegal), suggestive content (dating, lingerie) *without* explicit material, drugs for educational or news purposes (e.g., addiction recovery, medical cannabis research).\\n\\n-   **1 - Gambling:** Promotes/facilitates betting, casino, poker, lottery, wagering. Includes online betting platforms, casinos, poker sites, lottery sites, and any website that encourages or provides means for users to wager money on games of chance or skill.\\n    -   **Keywords:** betting, casino, poker, odds, jackpot, slots, roulette, judi, slot gacor, togel, similar gambling-related terminology within their domain name or content.\\n    \\n-   **2 - Pornography:** These are websites that contain explicit sexual content intended to cause arousal. Explicit sexual content (images, videos, text) for arousal. Immoral content (bestiality, child exploitation). or links to such materials. \\n    -   **Keywords:** porn, bokep, sex, xxx, adult, nude, erotic, explicit video/photo.\\n\\n- **3 - Harmful**: Websites that does not fall to Benign, Gambling, and Pornography category. These websites engage in or promote activities harmful to users or violating laws/regulations, including:\\n    - Malware Distribution: Hosting/downloading computer viruses, worms, ransomware, spyware, etc.\\n    - Cybercrime: Phishing kits, hacking tools, stolen data markets, carding forums.\\n    - Extremism & Terrorism: Content inciting violence, extremist ideologies, or terrorist recruitment.\\n    - Violations of Indonesian Law:\\n        - Insults, defamation, blackmail, or threats.\\n        - Hoaxes/misleading news, hate speech, or incitement of violence.\\n    - Copyright Infringement/Piracy: Illegal software/cracks, torrents, pirated media.\\n    - Drugs/Narcotics: Sale/promotion of illegal drugs (e.g., cocaine, heroin) or unregulated pharmaceuticals.\\n    - Weapons: Sale of illegal firearms, explosives, or weapons.\\n    - Other Illegal Activities: Counterfeit goods, money laundering, human trafficking.\\n    - **Examples:**  \\n        - Illegal: `darknet-drugs.com` (drug sales), `pirated-movies.id` (piracy).  \\n        - Harmful: `extremist-forum.net` (terrorism recruitment), `hackers-tools.org` (phishing kits).  \\n        - Scam/phishng: `hadiah-telkomsel7.blogspot.com` (non-genuine website).\\n    - **Keywords**:\\nmalware, ransomware, phishing, hack, terrorism, jual narkoba, senjata ilegal, konten SARA, berita bohong, ancaman, pembajakan, cracked software, carding, darknet.\\n    - **Exceptions:** \\n        - Licensed/unlicensed gambling → **1 - Gambling**; scams → **3 - Harmful**.\\n\\n\\n### **Input Data Context:**\\n\\nYou will be provided with data entries, each consisting of two primary fields:\\n\\n*   **Domain:** The domain name or URL of the website (e.g., `example.com`, `gamble-site.net`). This can provide hints about the website\\'s purpose.\\n*   **Content:**  The textual content scraped from the website. This content offers detailed information about the website\\'s topics, services, and themes.\\n\\n### **Labeling Instructions:**\\n\\nAnalyze both the **Domain** and the **Content** provided. Use keywords and contextual clues from both to determine the most appropriate category for the website.  Consider the primary purpose and content focus of the website when classifying.\\n\\n### **Confidence Assessment Guidelines: Point-Based System (Total Possible Points: 100)**\\n\\nTo determine the **confidence** level (0-100) for your classification, evaluate the following factors and sum up the points.  The total points will directly correspond to the confidence percentage (e.g., 95 points = 95% confidence).\\n\\n#### **I. Keyword Strength and Relevance (Maximum 40 Points)**\\n*   **(40 Points):  Exceptional Keyword Strength: Explicit and Overwhelming Keywords in BOTH Domain and Content:** Presence of extremely explicit and overwhelmingly strong keywords that are *unquestionably* indicative of a specific category in *both* the domain name AND the website content. These keywords leave absolutely no doubt about the website\\'s nature. (e.g., Domain: `casino-royal-betting.com`, Content:  \"Gamble now and win HUGE jackpots on slots, poker, roulette! Real money betting!\").  This represents the absolute strongest keyword signal possible.\\n*   **(35 Points): Clear and Strong Keywords in BOTH Domain and Content:**  Presence of highly explicit keywords strongly indicative of a specific category in both the domain name AND the website content. (e.g., Domain: `bet.com`, Content:  \"Bet on sports and casino games!\").\\n*   **(25 Points): Strong Keywords in EITHER Domain OR Content:** Presence of highly explicit keywords strongly indicative of a specific category in EITHER the domain name OR the website content, but not both.\\n*   **(15 Points): Some Relevant Keywords:** Presence of keywords related to a category, but they are less explicit, less frequent, or require more contextual interpretation in either domain or content.\\n*   **(0 Points): Weak or Generic Keywords:** Lack of clear category-specific keywords in both domain and content. Keywords are generic and do not strongly suggest any specific category.\\n\\n#### **II. Domain and Content Alignment (Maximum 30 Points)**\\n\\n*   **(30 Points): Strong Domain and Content Alignment:** Domain name strongly and unambiguously suggests a category, and the website content consistently and explicitly reinforces that category.  They tell the same clear story.\\n*   **(15 Points): Partial Domain and Content Alignment:** Domain name and content generally point towards the same category, but the alignment might be less direct, slightly ambiguous, or require some interpretation to connect them.\\n*   **(0 Points): Domain-Content Mismatch or No Alignment:** Domain name suggests one thing, but the content is unclear, suggests something different, or there\\'s no clear connection between the domain and the content\\'s apparent purpose.\\n\\n#### **III. Content Clarity and Unambiguity (Maximum 20 Points)**\\n\\n*   **(20 Points): Unambiguous and Explicit Content:** The website content is very clear, direct, and leaves virtually no room for interpretation. It unambiguously falls into one of the defined categories.\\n*   **(10 Points): Content Requires Some Interpretation:** The content generally points to a category, but requires some interpretation to confidently assign it.  There might be subtle hints, implied meanings, or a need to infer the primary purpose.\\n*   **(0 Points): Ambiguous or Conflicting Content:** The website content is vague, contradictory, or could be reasonably interpreted in multiple ways, making it difficult to confidently assign a category.\\n\\n#### **IV. Category Indicator Strength (Maximum 10 Points)**\\n\\n*   **(10 Points): Multiple Strong Category Indicators:** Presence of numerous strong and clear indicators for a specific category throughout the domain and content (e.g., for Pornography: explicit keywords, descriptions of sexual acts, calls to action to view adult content, age verification prompts).\\n*   **(5 Points): Some Category Indicators Present:** Presence of a few indicators for a category, but they are not overwhelmingly strong or numerous.\\n*   **(0 Points): Lack of Category Indicators:** Few or no clear indicators for any of the defined categories are present in the domain and content.\\n\\n#### **Calculation:**\\n\\n1.  For each of the four sections (I-IV), assess the website and select the point value that best describes the presence of the described factors.\\n2.  Sum up the points from all four sections.\\n3.  The total sum represents the confidence level in percentage (%).\\n\\n#### **Confidence Level Ranges (for reference - already implicitly defined by points):**\\n\\n*   **High Confidence (80-100 Points):**  Strong evidence across multiple factors pointing clearly to a category.\\n*   **Medium Confidence (50-79 Points):** Moderate evidence, some ambiguity or less directness in indicators.\\n*   **Low Confidence (0-49 Points):** Weak or conflicting evidence, high uncertainty about the correct category.\\n\\n#### **Example:**\\n\\nLet\\'s say you are classifying `lucky-slots-online.com` with content about slot games and bonuses.\\n\\n*   **I. Keyword Strength:** Strong keywords in both Domain and Content (e.g., \"slots,\" \"online,\" \"win,\" \"bonuses\") - **25 Points**\\n*   **II. Domain-Content Alignment:** Domain and content strongly align with Gambling - **30 Points**\\n*   **III. Content Clarity:** Content is very clear about gambling activities - **20 Points**\\n*   **IV. Category Indicators:** Multiple indicators of gambling (games, bonuses, calls to action) - **10 Points**\\n\\n**Total Points: 25 + 30 + 20 + 10 = 85 Points.  Confidence: 85%**\\n\\n#### **Using this Point System:**\\n\\nWhen generating the \"reason\" for your classification, you can now also briefly mention the points you assigned for each section to justify the final confidence score. For example:\\n\\n```json\\n{\\n  \"answer\": 1,\\n  \"classification\": \"Gambling\",\\n  \"reason\": \"Strong keywords in domain and content (25 pts), strong domain-content alignment (30 pts), clear gambling content (20 pts), multiple category indicators (10 pts). Total 85 points.\",\\n  \"confidence\": 85\\n}\\n```\\n\\n### **Output Requirements: STRICTLY ADHERE TO JSON FORMAT**\\n\\nFor each website, you **MUST** provide your classification in the following **JSON format ONLY**.  **No other format is acceptable.**\\n\\n```json\\n{\\n  \"answer\": (integer: 0, 1, 2, or 3),\\n  \"classification\": (string: \"Benign\", \"Gambling\", \"Pornography\", or \"Harmful\"),\\n  \"reason\": (string: \"Brief explanation of the classification using keywords and hints from the domain and content.\"),\\n  \"confidence\": (integer: 0 to 100, \"Level of confidence in the classification\")\\n}\\n```\\n\\n**Example Input and Expected Output:**\\n\\n**1st Sample**\\n\\n**Input Data:**\\n\\n```\\nDomain: news-today.info\\nContent: Welcome to News Today! Get the latest breaking news, top stories, and in-depth analysis from around the world. Covering politics, business, technology, sports, and culture. Stay informed with News Today - your source for reliable journalism.\\n```\\n\\n**Expected Output:**\\n\\n```json\\n{\\n  \"answer\": 0,\\n  \"classification\": \"Benign\",\\n  \"reason\": \"Domain \\'news-today.info\\' and content mention \\'breaking news,\\' \\'top stories,\\' \\'analysis,\\' \\'reliable journalism,\\' indicating a general information/news website. Strong keywords in domain and content (35 pts), strong domain-content alignment (30 pts), unambiguous content (20 pts), some category indicators (5 pts). Total 90 points.\",\\n  \"confidence\": 90\\n}\\n```\\n\\n**2nd Sample:**\\n\\n**Input Data:**\\n\\n```\\nDomain: lucky-slots-online.com\\nContent:  Spin to win big at Lucky Slots Online! Play hundreds of exciting slot games, claim your bonuses, and join the fun.  Licensed and regulated for your safety. 24/7 customer support available. Join now and get 100 free spins!\\n```\\n\\n**Expected Output:**\\n\\n```json\\n{\\n  \"answer\": 1,\\n  \"classification\": \"Gambling\",\\n  \"reason\": \"Domain \\'lucky-slots-online.com\\' and content include keywords like \\'slots,\\' \\'win,\\' \\'casino,\\' \\'bonuses,\\' \\'free spins,\\' indicating a gambling website.\",\\n  \"confidence\": 100\\n}\\n```\\n\\n**3rd Sample**\\n\\n**Input Data:**\\n\\n```\\nDomain: adult-pleasures.net\\nContent:  Experience the hottest adult entertainment online. Unlimited access to exclusive videos and photos. 18+ only. Join our community of pleasure seekers today!\\n```\\n\\n**Expected Output:**\\n\\n```json\\n{\\n  \"answer\": 2,\\n  \"classification\": \"Pornography\",\\n  \"reason\": \"Domain \\'adult-pleasures.net\\' and content include explicit terms like \\'adult entertainment,\\' \\'exclusive videos,\\' \\'photos,\\' \\'18+ only,\\' and \\'pleasure seekers,\\' indicating a pornography website. Strong keywords in both domain and content (25 pts), strong domain-content alignment (30 pts), unambiguous content (20 pts), multiple category indicators (10 pts). Total 85 points.\",\\n  \"confidence\": 85\\n}\\n```\\n**4th Sample**\\n\\n**Input Data:**\\n\\n```\\nDomain: project420.com\\nContent:  Welcome to Project420.com an ongoing community marijuana, hemp search engine and your gateway to 420 products, services and information from all over the world. Marijuana seeds, super bongs, high tech growing marijuana books, contests, communities, cool people and tons of 420 fun.  Potent marijuana websites are added frequently.  Let\\'s help each other grow.  Use the table of contents located to the left and begin your search of 420 world wide websites.\\n```\\n\\n**Expected Output:**\\n\\n```json\\n{\\n  \"answer\": 3,\\n  \"classification\": \"Harmful\",\\n  \"reason\": \"Domain \\'project420.com\\' and content include keywords like \\'marijuana seeds,\\' \\'growing marijuana,\\' and \\'420 products,\\' indicating promotion of illegal drugs under Indonesian law (UU ITE). Strong keywords in content (25 pts), Partial Domain and Content Alignment (15 pts), clear harmful intent (20 pts), multiple indicators (10 pts). Total 70 points.\",\\n  \"confidence\": 70\\n}\\n```\\n**Execution:**\\nProcess the provided website data (input fields: `Domain`, `Content`). Apply the classification categories, definitions, and confidence point system accurately. Generate the mandatory JSON output for each entry. Begin classification now.'},\n",
       " {'from': 'human',\n",
       "  'value': 'Classify the given URL as 0 (benign), 1 (gambling), 2 (pornography), or 3 (harmful). Output MUST be JSON.\\n\\nDomain: https://proton46.ru, Content: \"Ссылка на сайт блэкспрут в тор - kraken 6at kraken7at- Кракен зайти официальный сайт Введите капчу Войти KRAKEN18.AT - рабочая ссылка на официальный магазин Перейти на Kraken Вход на Kraken через TOR Вход на Kraken Telegram зеркало кракен kraken17.at kraken18.at кракен зайти на сайт Ссылка на сайт блэкспрут в тор Покупатели защищены авто-гарантом. В даркнете есть немало сайтов, которые эксплуатируют «уязвимости нулевого дня» дыры, о которых разработчикам ещё не известно. Подробный обзор официального рабочее Способы заработка Торговый терминал Пополнение счета и вывод денег Бонусы. SecureDrop разработан для того, чтобы осведомители могли безопасно и анонимно обмениваться информацией с журналистами. Раньше покупал на Мега, а сейчас решил. Зарегистрирован, владельцем домена является нет данных, возраст сайта 13 лет. Какие товары продают в даркнет магазине Блэкспрут? «Роскосмос» начнет привлекать инвестиции в проекты на рынке облигаций Технологии и медиа, 01:58. Модульная прихожая гарун комплектация 6 26563 /pics/goods/g Вы можете купить модульная прихожая гарун комплектация 6 по привлекательной цене в магазинах мебели Omg Наличие в магазинах мебели модульная прихожая гарун комплектация 2 19392руб. Адаптивность. И 4 доп. В 2020 году французскими учёными была предпринята попытка доказать профилактическую и терапевтическую роль никотина по отношению к covid-1923. Установить. Onion/ ccPal Финансовые услуги http xykxv6fmblogxgmzjm5wt6akdhm4wewiarjzcngev4tupgjlyugmc7qd. Регистрация Kraken Регистрация на Kraken быстрая как и на всех биржах. Ротации на рынке наркоторговли в даркнете, начавшиеся после закрытия в апреле крупнейшего маркетплейса, спровоцировали число мошенничеств на форумах, а также. Воспользуйтесь поиском или позвоните нам. Короткая ссылка доступна без Тор браузера, вход на сайт доступен с любого браузера. Простая и быстрая верификация. Вспомнил свой 2018 год и сразу 3 или 4 новых дня рождения за апрель и май. Функции магазина, которые выйдут позже: Торговые пре... а торе что это, omg omg онион, https omg omgruzxpnew4af onion, omg omgruzxpnew4af union ссылка на сайт, омг сайт зеркало рабочее, omg omg new, omg omgruzxpnew4af onion ссылка. Площадка Интерфейс omg сайта стал ещё удобней. Через Клирнет переходник под VPN: Теперь на сайт Blacksprut можно зайти еще проще через VPN. На самой бирже Kraken, курс можно посмотреть во вкладке \"Цены\". Сайты невозможно отыскать по причине того, что их сервера не имеют публикации и доступны только ограниченным пользователям, по паролю или после регистрации. Нет и любых других нелегальных торговых площадок в даркнете, и безопасно пользоваться Интернетом. Не работает без JavaScript. Сушоллы В лавке деликатесов для вас представлены живые. В этой серии Вас ждут 4 яркие модницы ЛОЛ Сюрприз ОМГ: Swag, Lady Diva, Neonlicious, Royal Bee (Леди Дива, Сваг, Роял Би, Неон). Кража личных данных также является популярной услугой в Blackspurt. Удобство ОМГ! Загрузить Tor Браузер для iOS Заключение Скачать браузер тор на Айфон, а точнее программы, использующей луковичную технологию, не трудно их можно найти в AppStore и установить в течении нескольких минут. Читайте также: Биржа Bitstamp: регистрация, настройка, отзывы, зеркало Биржа Binance: комиссия, регистрация, отзывы Биржи без верификации: ТОП-5 торговых площадок. Первое, что требуется это пополнить свой личный кошелек. Очень редко это затягивается на часы. Пожалуйста, подождите. Вы также можете использовать его в даркнете, так как он имеет ссылки. Площадка Отзывы сайт OMG Омг сайт действительно крутой. Ссылка на сайт блэкспрут в тор - Зеркала крамп Аккаунт покупателя Блэкспрут Маркета Регистрация Регистрация на сайте или на официальном сайте m осуществляется через Тор браузер. Поддержка шопа BlackSprut Сотрудники саппорта на связи 24/7, 7 дней на неделю. Это может затруднить правоохранительным органам отслеживание денег и выявление лиц, причастных к незаконной деятельности. Площадка Blacksprut как магазин для отмывания денег. В дальнейшем вам придется оплатить аренду и, конечно, добросовестно работать. Однако также важно отметить, что даркнет постоянно развивается, и новые торговые площадки и сервисы могут появиться после закрытия существующих. Что касается обзоров рынка, найти достоверную информацию также сложно, так как многие комментарии и обзоры, размещенные на форумах и других сайтах, могут быть поддельными или предвзятыми. В целом, лучше всего подходить к рынку Блэкспрут с осторожностью и осознавать связанные с этим риски. В заключение, сайт Blacksprut является нелегальной торговой площадкой в даркнете, где пользователи могут покупать и продавать различные нелегальные товары и услуги. Короткая ссылка доступна без Тор браузера, вход на сайт доступен с любого браузера. Onion/ Две нижние ссылки с длинным доменом в зоне Onion открываются исключительно через TOR Браузер. Какие нелегальные услуги распространяются в даркнете через сайт Блекспрут? В связи с этим, использование площадки Blacksprut в Darknet может повлечь за собой юридические последствия или угрозу безопасности личных данных. 2021 Блэкспрут - Тор Onion). Даркнет - это часть интернета, который не подвергается регуляции и не защищен от незаконных действий. Такое бывает из-за блокировок (да, даже в Даркнете некоторые адреса блокируются) или DDoS-атак. Поэтому если вы пользуетесь такой платформой, то вы рискуете попасть в проблемы с правоохранительными органами. Это связано с тем, что анонимность даркнета затрудняет проверку личности отдельных лиц и организаций, а также может быть сложно разрешить споры или вернуть потерянные средства. Также важно осознавать риски и юридические последствия, связанные с даркнетом, и проявлять осторожность и здравый смысл при использовании Интернета. Несмотря на опасности и незаконные действия, связанные с даркнетом, многие люди продолжают его использовать по разным причинам. То же самое относится и к другим незаконным предметам или услугам, которые можно найти в даркнете. Это противоречит законам практически всем странам нашей планеты. Вход на сайт Blacksprut Market Onion. Анонимность и доступность даркнета делают его привлекательным для тех, кто хочет покупать нелегальные товары, не опасаясь быть пойманным. Официальные ссылки и онион зеркала открываются только с использованием сервисов VPN и Tor Browser. Покупателям и клиентам Блекспрут следует быть осторожным, так как покупка и продажа таких товаров является противозаконной и может повлечь за собой серьезные последствия, включая тюремное заключение. Важно помнить, что доступ или участие в любых действиях в даркнете не только незаконны, но и чрезвычайно опасны и могут привести к серьезным личным и юридическим последствиям. Кроме того, правоохранительные органы могут также преследовать операторов и администраторов m, а также любые физические витрины или другие места, связанные с рынком. Рекомендуется избегать использования таких площадок и следить за своей безопасностью в Интернете. Darknet является анонимным сетевым пространством, в котором многие действия не закрыты от злоумышленников. Вход на сайт Блекспрут Для входа на Блэкспрут Маркет, каждый раз придется вводить защитный код (Капча он достаточно прост, поэтому это не станет проблемой. Это затрудняет правоохранительным органам отслеживание транзакций, совершенных через криптовалюты. Кампания по информированию общественности: они также проводят кампании по информированию общественности, чтобы информировать граждан об опасностях торговых площадок даркнета и отговаривать людей от их использования. Иногда зеркала недоступны для входа. Некоммерческие организации. Так же, пользование площадкой blacksprut в даркнете связано с риском выложения личных данных, так как в даркнете нет гарантий безопасности. Как пополнить счёт в личном кабинете Блэкспрут? Конечно, Блэкспрут сайт не идеален, та же Мега будет по круче, если сравнивать функционал и прочее. Еще одна нелегальная услуга, предлагаемая на Блэкспруте, это хакерские услуги. Площадка Blacksprut также может быть использована для нелега... ьностью. Маркетплейс Blacksprut Market является нелегальным, потому что он реализует и продает запрещенные вещества и услуги, такие как наркотики, оружие, мошеннические программы и прочие нелегальные предложения. Рынок даркнета, известный как Blackspurt, предлагает множество нелегальных товаров и услуг: Это могут быть наркотики различных типов, такие как марихуана, кокаин и даже фентанил. В заключение, хотя даркнет может предложить чувство анонимности и конфиденциальности, он также является домом для многих незаконных действий и сайтов, таких как Блекспрут. В зависимости от страны и юрисдикции они могут включать штрафы и/или тюремное заключение. Людям важно узнать об опасностях даркнета и незаконных действиях, которые происходят в нем. Это может включать получение личной информации, такой как номера социального страхования, номера кредитных карт и другой конфиденциальной информации, которая может быть использована для совершения мошенничества или других преступлений. Эти услуги часто предлагаются отдельными лицами или группами, обладающими значительными техническими знаниями и готовыми использовать их для нарушения закона. Публикуем настоящие Onion ссылки на официальный сайт Блэкспрут в Даркнете, а также зеркала сайта. Оплата и пополнение счёта Blacksprut Почему сайт Блэкспрут использует в качестве рассчета за товары и услуги в основном криптовалюту? Однако это не оправдывает незаконную деятельность на таких сайтах, как Блекспрут. Главная / Карта сайта Ссылка кракен даркнет маркет Ссылки kraken kraken6.at kraken7.at kraken8.at Омг ссылка на сайт в тор браузере Торговая площадка, наркошоп - вход Наркоплощадка по продаже наркотиков Кракен терпеть работает - это новый рынок вместо гидры. Он запрещен для россиян, по этому мы подготовили несколько способов для обхода блокировок крн. Переходите по рабочим зеркалам для регистрации аккаунта и покупки наркотиков в сети интернет. Мы предоставляем рабочие адреса наркомагазина для регистрации из России и стран СНГ! KRAKEN18.AT \"'},\n",
       " {'from': 'gpt',\n",
       "  'value': '<think>\\nOkay, I need to classify this website into one of the four categories: Benign, Gambling, Pornography, or Harmful. Let\\'s look at the domain and content provided.  The domain is \"proton46.ru\". Not immediately obvious what it\\'s about, but the content is in Russian. Translating parts of it, I see mentions of darknet marketplaces like Blackspurt, Kraken, and OMG. These are known for selling illegal goods such as drugs, weapons, and other prohibited items.  The content discusses how to access these sites using Tor browsers, provides links (like .onion URLs), and talks about purchasing narcotics. There\\'s also mention of services like hacking and data theft. This clearly falls under illegal activities.  Looking at the classification guidelines, category 3 is for harmful websites that engage in or promote illegal activities. Since this site promotes access to darknet markets dealing with drugs and other illegal items, it fits into the Harmful category.  For confidence assessment: - **Keyword Strength**: The content has strong keywords related to darknet, illegal drugs, hacking, etc., both in domain and content (40 points). - **Domain-Content Alignment**: The domain doesn\\'t directly suggest harm, but the content clearly does. Partial alignment (15 points). - **Content Clarity**: The content is explicit about promoting illegal activities (20 points). - **Category Indicators**: Multiple indicators like .onion links, mentions of illegal goods, and Tor access methods (10 points).  Total confidence: 40 + 15 + 20 + 10 = 85 points.  So, the classification is Harmful with high confidence.\\n</think>\\n```json\\n{\\n  \"answer\": 3,\\n  \"classification\": \"Harmful\",\\n  \"reason\": \"The domain \\'proton46.ru\\' and content discuss darknet marketplaces like Blackspurt, Kraken, and OMG, which are known for selling illegal goods such as drugs and weapons. The content provides links to .onion sites and instructions on accessing them via Tor browsers, indicating promotion of harmful activities.\",\\n  \"confidence\": 85\\n}\\n```'}]"
      ]
     },
     "execution_count": 4,
     "metadata": {},
     "output_type": "execute_result"
    }
   ],
   "source": [
    "dataset['conversations'][0]"
   ]
  },
  {
   "cell_type": "code",
   "execution_count": 5,
   "id": "bc5e696c",
   "metadata": {},
   "outputs": [
    {
     "name": "stdout",
     "output_type": "stream",
     "text": [
      "🦥 Unsloth: Will patch your computer to enable 2x faster free finetuning.\n"
     ]
    },
    {
     "name": "stderr",
     "output_type": "stream",
     "text": [
      "WARNING[XFORMERS]: xFormers can't load C++/CUDA extensions. xFormers was built for:\n",
      "    PyTorch 2.5.1 with CUDA 1201 (you have 2.6.0+cu124)\n",
      "    Python  3.11.10 (you have 3.11.11)\n",
      "  Please reinstall xformers (see https://github.com/facebookresearch/xformers#installing-xformers)\n",
      "  Memory-efficient attention, SwiGLU, sparse and more won't be available.\n",
      "  Set XFORMERS_MORE_DETAILS=1 for more details\n"
     ]
    },
    {
     "name": "stdout",
     "output_type": "stream",
     "text": [
      "Unsloth: Failed to patch Gemma3ForConditionalGeneration.\n",
      "🦥 Unsloth Zoo will now patch everything to make training faster!\n"
     ]
    },
    {
     "name": "stderr",
     "output_type": "stream",
     "text": [
      "Unsloth: Standardizing formats (num_proc=16): 100%|██████████| 776/776 [00:01<00:00, 521.86 examples/s]\n"
     ]
    }
   ],
   "source": [
    "from unsloth.chat_templates import standardize_sharegpt\n",
    "dataset = standardize_sharegpt(dataset)"
   ]
  },
  {
   "cell_type": "code",
   "execution_count": 6,
   "id": "741f6d7b",
   "metadata": {},
   "outputs": [
    {
     "data": {
      "text/plain": [
       "[{'content': 'You are an Expert Website Classifier tasked with categorizing websites (using provided Domain & Content) into distinct categories: **0 - Benign**, **1 - Gambling**, **2 - Pornography**, or **3 - Harmful**. Output strict JSON including classification, reason, and a point-based confidence score (0-100). This aids a sophisticated website prediction system for digital safety.\\n\\n### **Categories & Definitions:**\\n\\n-   **0 - Benign:** General info, news, entertainment, services, e-commerce, educational sites, blogs, informational pages, and general entertainment sites. No gambling/porn themes.\\n    -   **Includes:** Educational discussion of sensitive topics (drugs, gambling, adult, illegal), suggestive content (dating, lingerie) *without* explicit material, drugs for educational or news purposes (e.g., addiction recovery, medical cannabis research).\\n\\n-   **1 - Gambling:** Promotes/facilitates betting, casino, poker, lottery, wagering. Includes online betting platforms, casinos, poker sites, lottery sites, and any website that encourages or provides means for users to wager money on games of chance or skill.\\n    -   **Keywords:** betting, casino, poker, odds, jackpot, slots, roulette, judi, slot gacor, togel, similar gambling-related terminology within their domain name or content.\\n    \\n-   **2 - Pornography:** These are websites that contain explicit sexual content intended to cause arousal. Explicit sexual content (images, videos, text) for arousal. Immoral content (bestiality, child exploitation). or links to such materials. \\n    -   **Keywords:** porn, bokep, sex, xxx, adult, nude, erotic, explicit video/photo.\\n\\n- **3 - Harmful**: Websites that does not fall to Benign, Gambling, and Pornography category. These websites engage in or promote activities harmful to users or violating laws/regulations, including:\\n    - Malware Distribution: Hosting/downloading computer viruses, worms, ransomware, spyware, etc.\\n    - Cybercrime: Phishing kits, hacking tools, stolen data markets, carding forums.\\n    - Extremism & Terrorism: Content inciting violence, extremist ideologies, or terrorist recruitment.\\n    - Violations of Indonesian Law:\\n        - Insults, defamation, blackmail, or threats.\\n        - Hoaxes/misleading news, hate speech, or incitement of violence.\\n    - Copyright Infringement/Piracy: Illegal software/cracks, torrents, pirated media.\\n    - Drugs/Narcotics: Sale/promotion of illegal drugs (e.g., cocaine, heroin) or unregulated pharmaceuticals.\\n    - Weapons: Sale of illegal firearms, explosives, or weapons.\\n    - Other Illegal Activities: Counterfeit goods, money laundering, human trafficking.\\n    - **Examples:**  \\n        - Illegal: `darknet-drugs.com` (drug sales), `pirated-movies.id` (piracy).  \\n        - Harmful: `extremist-forum.net` (terrorism recruitment), `hackers-tools.org` (phishing kits).  \\n        - Scam/phishng: `hadiah-telkomsel7.blogspot.com` (non-genuine website).\\n    - **Keywords**:\\nmalware, ransomware, phishing, hack, terrorism, jual narkoba, senjata ilegal, konten SARA, berita bohong, ancaman, pembajakan, cracked software, carding, darknet.\\n    - **Exceptions:** \\n        - Licensed/unlicensed gambling → **1 - Gambling**; scams → **3 - Harmful**.\\n\\n\\n### **Input Data Context:**\\n\\nYou will be provided with data entries, each consisting of two primary fields:\\n\\n*   **Domain:** The domain name or URL of the website (e.g., `example.com`, `gamble-site.net`). This can provide hints about the website\\'s purpose.\\n*   **Content:**  The textual content scraped from the website. This content offers detailed information about the website\\'s topics, services, and themes.\\n\\n### **Labeling Instructions:**\\n\\nAnalyze both the **Domain** and the **Content** provided. Use keywords and contextual clues from both to determine the most appropriate category for the website.  Consider the primary purpose and content focus of the website when classifying.\\n\\n### **Confidence Assessment Guidelines: Point-Based System (Total Possible Points: 100)**\\n\\nTo determine the **confidence** level (0-100) for your classification, evaluate the following factors and sum up the points.  The total points will directly correspond to the confidence percentage (e.g., 95 points = 95% confidence).\\n\\n#### **I. Keyword Strength and Relevance (Maximum 40 Points)**\\n*   **(40 Points):  Exceptional Keyword Strength: Explicit and Overwhelming Keywords in BOTH Domain and Content:** Presence of extremely explicit and overwhelmingly strong keywords that are *unquestionably* indicative of a specific category in *both* the domain name AND the website content. These keywords leave absolutely no doubt about the website\\'s nature. (e.g., Domain: `casino-royal-betting.com`, Content:  \"Gamble now and win HUGE jackpots on slots, poker, roulette! Real money betting!\").  This represents the absolute strongest keyword signal possible.\\n*   **(35 Points): Clear and Strong Keywords in BOTH Domain and Content:**  Presence of highly explicit keywords strongly indicative of a specific category in both the domain name AND the website content. (e.g., Domain: `bet.com`, Content:  \"Bet on sports and casino games!\").\\n*   **(25 Points): Strong Keywords in EITHER Domain OR Content:** Presence of highly explicit keywords strongly indicative of a specific category in EITHER the domain name OR the website content, but not both.\\n*   **(15 Points): Some Relevant Keywords:** Presence of keywords related to a category, but they are less explicit, less frequent, or require more contextual interpretation in either domain or content.\\n*   **(0 Points): Weak or Generic Keywords:** Lack of clear category-specific keywords in both domain and content. Keywords are generic and do not strongly suggest any specific category.\\n\\n#### **II. Domain and Content Alignment (Maximum 30 Points)**\\n\\n*   **(30 Points): Strong Domain and Content Alignment:** Domain name strongly and unambiguously suggests a category, and the website content consistently and explicitly reinforces that category.  They tell the same clear story.\\n*   **(15 Points): Partial Domain and Content Alignment:** Domain name and content generally point towards the same category, but the alignment might be less direct, slightly ambiguous, or require some interpretation to connect them.\\n*   **(0 Points): Domain-Content Mismatch or No Alignment:** Domain name suggests one thing, but the content is unclear, suggests something different, or there\\'s no clear connection between the domain and the content\\'s apparent purpose.\\n\\n#### **III. Content Clarity and Unambiguity (Maximum 20 Points)**\\n\\n*   **(20 Points): Unambiguous and Explicit Content:** The website content is very clear, direct, and leaves virtually no room for interpretation. It unambiguously falls into one of the defined categories.\\n*   **(10 Points): Content Requires Some Interpretation:** The content generally points to a category, but requires some interpretation to confidently assign it.  There might be subtle hints, implied meanings, or a need to infer the primary purpose.\\n*   **(0 Points): Ambiguous or Conflicting Content:** The website content is vague, contradictory, or could be reasonably interpreted in multiple ways, making it difficult to confidently assign a category.\\n\\n#### **IV. Category Indicator Strength (Maximum 10 Points)**\\n\\n*   **(10 Points): Multiple Strong Category Indicators:** Presence of numerous strong and clear indicators for a specific category throughout the domain and content (e.g., for Pornography: explicit keywords, descriptions of sexual acts, calls to action to view adult content, age verification prompts).\\n*   **(5 Points): Some Category Indicators Present:** Presence of a few indicators for a category, but they are not overwhelmingly strong or numerous.\\n*   **(0 Points): Lack of Category Indicators:** Few or no clear indicators for any of the defined categories are present in the domain and content.\\n\\n#### **Calculation:**\\n\\n1.  For each of the four sections (I-IV), assess the website and select the point value that best describes the presence of the described factors.\\n2.  Sum up the points from all four sections.\\n3.  The total sum represents the confidence level in percentage (%).\\n\\n#### **Confidence Level Ranges (for reference - already implicitly defined by points):**\\n\\n*   **High Confidence (80-100 Points):**  Strong evidence across multiple factors pointing clearly to a category.\\n*   **Medium Confidence (50-79 Points):** Moderate evidence, some ambiguity or less directness in indicators.\\n*   **Low Confidence (0-49 Points):** Weak or conflicting evidence, high uncertainty about the correct category.\\n\\n#### **Example:**\\n\\nLet\\'s say you are classifying `lucky-slots-online.com` with content about slot games and bonuses.\\n\\n*   **I. Keyword Strength:** Strong keywords in both Domain and Content (e.g., \"slots,\" \"online,\" \"win,\" \"bonuses\") - **25 Points**\\n*   **II. Domain-Content Alignment:** Domain and content strongly align with Gambling - **30 Points**\\n*   **III. Content Clarity:** Content is very clear about gambling activities - **20 Points**\\n*   **IV. Category Indicators:** Multiple indicators of gambling (games, bonuses, calls to action) - **10 Points**\\n\\n**Total Points: 25 + 30 + 20 + 10 = 85 Points.  Confidence: 85%**\\n\\n#### **Using this Point System:**\\n\\nWhen generating the \"reason\" for your classification, you can now also briefly mention the points you assigned for each section to justify the final confidence score. For example:\\n\\n```json\\n{\\n  \"answer\": 1,\\n  \"classification\": \"Gambling\",\\n  \"reason\": \"Strong keywords in domain and content (25 pts), strong domain-content alignment (30 pts), clear gambling content (20 pts), multiple category indicators (10 pts). Total 85 points.\",\\n  \"confidence\": 85\\n}\\n```\\n\\n### **Output Requirements: STRICTLY ADHERE TO JSON FORMAT**\\n\\nFor each website, you **MUST** provide your classification in the following **JSON format ONLY**.  **No other format is acceptable.**\\n\\n```json\\n{\\n  \"answer\": (integer: 0, 1, 2, or 3),\\n  \"classification\": (string: \"Benign\", \"Gambling\", \"Pornography\", or \"Harmful\"),\\n  \"reason\": (string: \"Brief explanation of the classification using keywords and hints from the domain and content.\"),\\n  \"confidence\": (integer: 0 to 100, \"Level of confidence in the classification\")\\n}\\n```\\n\\n**Example Input and Expected Output:**\\n\\n**1st Sample**\\n\\n**Input Data:**\\n\\n```\\nDomain: news-today.info\\nContent: Welcome to News Today! Get the latest breaking news, top stories, and in-depth analysis from around the world. Covering politics, business, technology, sports, and culture. Stay informed with News Today - your source for reliable journalism.\\n```\\n\\n**Expected Output:**\\n\\n```json\\n{\\n  \"answer\": 0,\\n  \"classification\": \"Benign\",\\n  \"reason\": \"Domain \\'news-today.info\\' and content mention \\'breaking news,\\' \\'top stories,\\' \\'analysis,\\' \\'reliable journalism,\\' indicating a general information/news website. Strong keywords in domain and content (35 pts), strong domain-content alignment (30 pts), unambiguous content (20 pts), some category indicators (5 pts). Total 90 points.\",\\n  \"confidence\": 90\\n}\\n```\\n\\n**2nd Sample:**\\n\\n**Input Data:**\\n\\n```\\nDomain: lucky-slots-online.com\\nContent:  Spin to win big at Lucky Slots Online! Play hundreds of exciting slot games, claim your bonuses, and join the fun.  Licensed and regulated for your safety. 24/7 customer support available. Join now and get 100 free spins!\\n```\\n\\n**Expected Output:**\\n\\n```json\\n{\\n  \"answer\": 1,\\n  \"classification\": \"Gambling\",\\n  \"reason\": \"Domain \\'lucky-slots-online.com\\' and content include keywords like \\'slots,\\' \\'win,\\' \\'casino,\\' \\'bonuses,\\' \\'free spins,\\' indicating a gambling website.\",\\n  \"confidence\": 100\\n}\\n```\\n\\n**3rd Sample**\\n\\n**Input Data:**\\n\\n```\\nDomain: adult-pleasures.net\\nContent:  Experience the hottest adult entertainment online. Unlimited access to exclusive videos and photos. 18+ only. Join our community of pleasure seekers today!\\n```\\n\\n**Expected Output:**\\n\\n```json\\n{\\n  \"answer\": 2,\\n  \"classification\": \"Pornography\",\\n  \"reason\": \"Domain \\'adult-pleasures.net\\' and content include explicit terms like \\'adult entertainment,\\' \\'exclusive videos,\\' \\'photos,\\' \\'18+ only,\\' and \\'pleasure seekers,\\' indicating a pornography website. Strong keywords in both domain and content (25 pts), strong domain-content alignment (30 pts), unambiguous content (20 pts), multiple category indicators (10 pts). Total 85 points.\",\\n  \"confidence\": 85\\n}\\n```\\n**4th Sample**\\n\\n**Input Data:**\\n\\n```\\nDomain: project420.com\\nContent:  Welcome to Project420.com an ongoing community marijuana, hemp search engine and your gateway to 420 products, services and information from all over the world. Marijuana seeds, super bongs, high tech growing marijuana books, contests, communities, cool people and tons of 420 fun.  Potent marijuana websites are added frequently.  Let\\'s help each other grow.  Use the table of contents located to the left and begin your search of 420 world wide websites.\\n```\\n\\n**Expected Output:**\\n\\n```json\\n{\\n  \"answer\": 3,\\n  \"classification\": \"Harmful\",\\n  \"reason\": \"Domain \\'project420.com\\' and content include keywords like \\'marijuana seeds,\\' \\'growing marijuana,\\' and \\'420 products,\\' indicating promotion of illegal drugs under Indonesian law (UU ITE). Strong keywords in content (25 pts), Partial Domain and Content Alignment (15 pts), clear harmful intent (20 pts), multiple indicators (10 pts). Total 70 points.\",\\n  \"confidence\": 70\\n}\\n```\\n**Execution:**\\nProcess the provided website data (input fields: `Domain`, `Content`). Apply the classification categories, definitions, and confidence point system accurately. Generate the mandatory JSON output for each entry. Begin classification now.',\n",
       "  'role': 'system'},\n",
       " {'content': 'Classify the given URL as 0 (benign), 1 (gambling), 2 (pornography), or 3 (harmful). Output MUST be JSON.\\n\\nDomain: https://proton46.ru, Content: \"Ссылка на сайт блэкспрут в тор - kraken 6at kraken7at- Кракен зайти официальный сайт Введите капчу Войти KRAKEN18.AT - рабочая ссылка на официальный магазин Перейти на Kraken Вход на Kraken через TOR Вход на Kraken Telegram зеркало кракен kraken17.at kraken18.at кракен зайти на сайт Ссылка на сайт блэкспрут в тор Покупатели защищены авто-гарантом. В даркнете есть немало сайтов, которые эксплуатируют «уязвимости нулевого дня» дыры, о которых разработчикам ещё не известно. Подробный обзор официального рабочее Способы заработка Торговый терминал Пополнение счета и вывод денег Бонусы. SecureDrop разработан для того, чтобы осведомители могли безопасно и анонимно обмениваться информацией с журналистами. Раньше покупал на Мега, а сейчас решил. Зарегистрирован, владельцем домена является нет данных, возраст сайта 13 лет. Какие товары продают в даркнет магазине Блэкспрут? «Роскосмос» начнет привлекать инвестиции в проекты на рынке облигаций Технологии и медиа, 01:58. Модульная прихожая гарун комплектация 6 26563 /pics/goods/g Вы можете купить модульная прихожая гарун комплектация 6 по привлекательной цене в магазинах мебели Omg Наличие в магазинах мебели модульная прихожая гарун комплектация 2 19392руб. Адаптивность. И 4 доп. В 2020 году французскими учёными была предпринята попытка доказать профилактическую и терапевтическую роль никотина по отношению к covid-1923. Установить. Onion/ ccPal Финансовые услуги http xykxv6fmblogxgmzjm5wt6akdhm4wewiarjzcngev4tupgjlyugmc7qd. Регистрация Kraken Регистрация на Kraken быстрая как и на всех биржах. Ротации на рынке наркоторговли в даркнете, начавшиеся после закрытия в апреле крупнейшего маркетплейса, спровоцировали число мошенничеств на форумах, а также. Воспользуйтесь поиском или позвоните нам. Короткая ссылка доступна без Тор браузера, вход на сайт доступен с любого браузера. Простая и быстрая верификация. Вспомнил свой 2018 год и сразу 3 или 4 новых дня рождения за апрель и май. Функции магазина, которые выйдут позже: Торговые пре... а торе что это, omg omg онион, https omg omgruzxpnew4af onion, omg omgruzxpnew4af union ссылка на сайт, омг сайт зеркало рабочее, omg omg new, omg omgruzxpnew4af onion ссылка. Площадка Интерфейс omg сайта стал ещё удобней. Через Клирнет переходник под VPN: Теперь на сайт Blacksprut можно зайти еще проще через VPN. На самой бирже Kraken, курс можно посмотреть во вкладке \"Цены\". Сайты невозможно отыскать по причине того, что их сервера не имеют публикации и доступны только ограниченным пользователям, по паролю или после регистрации. Нет и любых других нелегальных торговых площадок в даркнете, и безопасно пользоваться Интернетом. Не работает без JavaScript. Сушоллы В лавке деликатесов для вас представлены живые. В этой серии Вас ждут 4 яркие модницы ЛОЛ Сюрприз ОМГ: Swag, Lady Diva, Neonlicious, Royal Bee (Леди Дива, Сваг, Роял Би, Неон). Кража личных данных также является популярной услугой в Blackspurt. Удобство ОМГ! Загрузить Tor Браузер для iOS Заключение Скачать браузер тор на Айфон, а точнее программы, использующей луковичную технологию, не трудно их можно найти в AppStore и установить в течении нескольких минут. Читайте также: Биржа Bitstamp: регистрация, настройка, отзывы, зеркало Биржа Binance: комиссия, регистрация, отзывы Биржи без верификации: ТОП-5 торговых площадок. Первое, что требуется это пополнить свой личный кошелек. Очень редко это затягивается на часы. Пожалуйста, подождите. Вы также можете использовать его в даркнете, так как он имеет ссылки. Площадка Отзывы сайт OMG Омг сайт действительно крутой. Ссылка на сайт блэкспрут в тор - Зеркала крамп Аккаунт покупателя Блэкспрут Маркета Регистрация Регистрация на сайте или на официальном сайте m осуществляется через Тор браузер. Поддержка шопа BlackSprut Сотрудники саппорта на связи 24/7, 7 дней на неделю. Это может затруднить правоохранительным органам отслеживание денег и выявление лиц, причастных к незаконной деятельности. Площадка Blacksprut как магазин для отмывания денег. В дальнейшем вам придется оплатить аренду и, конечно, добросовестно работать. Однако также важно отметить, что даркнет постоянно развивается, и новые торговые площадки и сервисы могут появиться после закрытия существующих. Что касается обзоров рынка, найти достоверную информацию также сложно, так как многие комментарии и обзоры, размещенные на форумах и других сайтах, могут быть поддельными или предвзятыми. В целом, лучше всего подходить к рынку Блэкспрут с осторожностью и осознавать связанные с этим риски. В заключение, сайт Blacksprut является нелегальной торговой площадкой в даркнете, где пользователи могут покупать и продавать различные нелегальные товары и услуги. Короткая ссылка доступна без Тор браузера, вход на сайт доступен с любого браузера. Onion/ Две нижние ссылки с длинным доменом в зоне Onion открываются исключительно через TOR Браузер. Какие нелегальные услуги распространяются в даркнете через сайт Блекспрут? В связи с этим, использование площадки Blacksprut в Darknet может повлечь за собой юридические последствия или угрозу безопасности личных данных. 2021 Блэкспрут - Тор Onion). Даркнет - это часть интернета, который не подвергается регуляции и не защищен от незаконных действий. Такое бывает из-за блокировок (да, даже в Даркнете некоторые адреса блокируются) или DDoS-атак. Поэтому если вы пользуетесь такой платформой, то вы рискуете попасть в проблемы с правоохранительными органами. Это связано с тем, что анонимность даркнета затрудняет проверку личности отдельных лиц и организаций, а также может быть сложно разрешить споры или вернуть потерянные средства. Также важно осознавать риски и юридические последствия, связанные с даркнетом, и проявлять осторожность и здравый смысл при использовании Интернета. Несмотря на опасности и незаконные действия, связанные с даркнетом, многие люди продолжают его использовать по разным причинам. То же самое относится и к другим незаконным предметам или услугам, которые можно найти в даркнете. Это противоречит законам практически всем странам нашей планеты. Вход на сайт Blacksprut Market Onion. Анонимность и доступность даркнета делают его привлекательным для тех, кто хочет покупать нелегальные товары, не опасаясь быть пойманным. Официальные ссылки и онион зеркала открываются только с использованием сервисов VPN и Tor Browser. Покупателям и клиентам Блекспрут следует быть осторожным, так как покупка и продажа таких товаров является противозаконной и может повлечь за собой серьезные последствия, включая тюремное заключение. Важно помнить, что доступ или участие в любых действиях в даркнете не только незаконны, но и чрезвычайно опасны и могут привести к серьезным личным и юридическим последствиям. Кроме того, правоохранительные органы могут также преследовать операторов и администраторов m, а также любые физические витрины или другие места, связанные с рынком. Рекомендуется избегать использования таких площадок и следить за своей безопасностью в Интернете. Darknet является анонимным сетевым пространством, в котором многие действия не закрыты от злоумышленников. Вход на сайт Блекспрут Для входа на Блэкспрут Маркет, каждый раз придется вводить защитный код (Капча он достаточно прост, поэтому это не станет проблемой. Это затрудняет правоохранительным органам отслеживание транзакций, совершенных через криптовалюты. Кампания по информированию общественности: они также проводят кампании по информированию общественности, чтобы информировать граждан об опасностях торговых площадок даркнета и отговаривать людей от их использования. Иногда зеркала недоступны для входа. Некоммерческие организации. Так же, пользование площадкой blacksprut в даркнете связано с риском выложения личных данных, так как в даркнете нет гарантий безопасности. Как пополнить счёт в личном кабинете Блэкспрут? Конечно, Блэкспрут сайт не идеален, та же Мега будет по круче, если сравнивать функционал и прочее. Еще одна нелегальная услуга, предлагаемая на Блэкспруте, это хакерские услуги. Площадка Blacksprut также может быть использована для нелега... ьностью. Маркетплейс Blacksprut Market является нелегальным, потому что он реализует и продает запрещенные вещества и услуги, такие как наркотики, оружие, мошеннические программы и прочие нелегальные предложения. Рынок даркнета, известный как Blackspurt, предлагает множество нелегальных товаров и услуг: Это могут быть наркотики различных типов, такие как марихуана, кокаин и даже фентанил. В заключение, хотя даркнет может предложить чувство анонимности и конфиденциальности, он также является домом для многих незаконных действий и сайтов, таких как Блекспрут. В зависимости от страны и юрисдикции они могут включать штрафы и/или тюремное заключение. Людям важно узнать об опасностях даркнета и незаконных действиях, которые происходят в нем. Это может включать получение личной информации, такой как номера социального страхования, номера кредитных карт и другой конфиденциальной информации, которая может быть использована для совершения мошенничества или других преступлений. Эти услуги часто предлагаются отдельными лицами или группами, обладающими значительными техническими знаниями и готовыми использовать их для нарушения закона. Публикуем настоящие Onion ссылки на официальный сайт Блэкспрут в Даркнете, а также зеркала сайта. Оплата и пополнение счёта Blacksprut Почему сайт Блэкспрут использует в качестве рассчета за товары и услуги в основном криптовалюту? Однако это не оправдывает незаконную деятельность на таких сайтах, как Блекспрут. Главная / Карта сайта Ссылка кракен даркнет маркет Ссылки kraken kraken6.at kraken7.at kraken8.at Омг ссылка на сайт в тор браузере Торговая площадка, наркошоп - вход Наркоплощадка по продаже наркотиков Кракен терпеть работает - это новый рынок вместо гидры. Он запрещен для россиян, по этому мы подготовили несколько способов для обхода блокировок крн. Переходите по рабочим зеркалам для регистрации аккаунта и покупки наркотиков в сети интернет. Мы предоставляем рабочие адреса наркомагазина для регистрации из России и стран СНГ! KRAKEN18.AT \"',\n",
       "  'role': 'user'},\n",
       " {'content': '<think>\\nOkay, I need to classify this website into one of the four categories: Benign, Gambling, Pornography, or Harmful. Let\\'s look at the domain and content provided.  The domain is \"proton46.ru\". Not immediately obvious what it\\'s about, but the content is in Russian. Translating parts of it, I see mentions of darknet marketplaces like Blackspurt, Kraken, and OMG. These are known for selling illegal goods such as drugs, weapons, and other prohibited items.  The content discusses how to access these sites using Tor browsers, provides links (like .onion URLs), and talks about purchasing narcotics. There\\'s also mention of services like hacking and data theft. This clearly falls under illegal activities.  Looking at the classification guidelines, category 3 is for harmful websites that engage in or promote illegal activities. Since this site promotes access to darknet markets dealing with drugs and other illegal items, it fits into the Harmful category.  For confidence assessment: - **Keyword Strength**: The content has strong keywords related to darknet, illegal drugs, hacking, etc., both in domain and content (40 points). - **Domain-Content Alignment**: The domain doesn\\'t directly suggest harm, but the content clearly does. Partial alignment (15 points). - **Content Clarity**: The content is explicit about promoting illegal activities (20 points). - **Category Indicators**: Multiple indicators like .onion links, mentions of illegal goods, and Tor access methods (10 points).  Total confidence: 40 + 15 + 20 + 10 = 85 points.  So, the classification is Harmful with high confidence.\\n</think>\\n```json\\n{\\n  \"answer\": 3,\\n  \"classification\": \"Harmful\",\\n  \"reason\": \"The domain \\'proton46.ru\\' and content discuss darknet marketplaces like Blackspurt, Kraken, and OMG, which are known for selling illegal goods such as drugs and weapons. The content provides links to .onion sites and instructions on accessing them via Tor browsers, indicating promotion of harmful activities.\",\\n  \"confidence\": 85\\n}\\n```',\n",
       "  'role': 'assistant'}]"
      ]
     },
     "execution_count": 6,
     "metadata": {},
     "output_type": "execute_result"
    }
   ],
   "source": [
    "dataset['conversations'][0]"
   ]
  },
  {
   "cell_type": "code",
   "execution_count": 7,
   "id": "6b2260c8",
   "metadata": {},
   "outputs": [
    {
     "name": "stdout",
     "output_type": "stream",
     "text": [
      "\n",
      "Output Type: <class 'datasets.arrow_dataset.Dataset'>\n",
      "Dataset Info:\n",
      "Dataset({\n",
      "    features: ['conversations'],\n",
      "    num_rows: 776\n",
      "})\n"
     ]
    }
   ],
   "source": [
    "print(\"\\nOutput Type:\", type(dataset))\n",
    "print(\"Dataset Info:\")\n",
    "print(dataset)"
   ]
  }
 ],
 "metadata": {
  "kernelspec": {
   "display_name": "Python 3",
   "language": "python",
   "name": "python3"
  },
  "language_info": {
   "codemirror_mode": {
    "name": "ipython",
    "version": 3
   },
   "file_extension": ".py",
   "mimetype": "text/x-python",
   "name": "python",
   "nbconvert_exporter": "python",
   "pygments_lexer": "ipython3",
   "version": "3.11.11"
  }
 },
 "nbformat": 4,
 "nbformat_minor": 5
}
