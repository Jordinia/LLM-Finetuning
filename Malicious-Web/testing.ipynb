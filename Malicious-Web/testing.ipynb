{
 "cells": [
  {
   "cell_type": "code",
   "execution_count": 3,
   "id": "cbef3b35",
   "metadata": {},
   "outputs": [
    {
     "name": "stdout",
     "output_type": "stream",
     "text": [
      "\n",
      "Step     Train Loss   Eval Loss    Learning Rate  \n",
      "--------------------------------------------------\n",
      "10       1.6211       N/A          1.44e-06       \n",
      "10       N/A          0.7532       N/A            \n",
      "20       1.8856       N/A          3.04e-06       \n",
      "20       N/A          0.7404       N/A            \n",
      "30       1.348        N/A          4.640000       \n",
      "30       N/A          0.6999       N/A            \n",
      "40       1.2728       N/A          6.24e-06       \n",
      "40       N/A          0.5967       N/A            \n",
      "50       0.7883       N/A          7.840000       \n",
      "50       N/A          0.4042       N/A            \n",
      "60       0.3356       N/A          9.440000       \n",
      "60       N/A          0.2162       N/A            \n",
      "70       0.2918       N/A          1.104000       \n",
      "70       N/A          0.1340       N/A            \n",
      "80       0.0585       N/A          1.264000       \n",
      "80       N/A          0.1065       N/A            \n",
      "90       0.3766       N/A          1.424000       \n",
      "90       N/A          0.0938       N/A            \n",
      "100      0.1046       N/A          1.584e-0       \n",
      "100      N/A          0.0833       N/A            \n",
      "110      0.0497       N/A          1.744000       \n",
      "110      N/A          0.0666       N/A            \n",
      "120      0.0461       N/A          1.904e-0       \n",
      "120      N/A          0.0676       N/A            \n",
      "130      0.0497       N/A          1.999996       \n",
      "130      N/A          0.0621       N/A            \n",
      "140      0.1088       N/A          1.999958       \n",
      "140      N/A          0.0550       N/A            \n",
      "150      0.0364       N/A          1.999879       \n",
      "150      N/A          0.0503       N/A            \n",
      "160      0.0372       N/A          1.999757       \n",
      "160      N/A          0.0553       N/A            \n",
      "170      0.0345       N/A          1.999594       \n",
      "170      N/A          0.0596       N/A            \n",
      "180      0.0473       N/A          1.999389       \n",
      "180      N/A          0.0475       N/A            \n",
      "190      0.0296       N/A          1.999142       \n",
      "190      N/A          0.0477       N/A            \n",
      "200      0.0286       N/A          1.998853       \n",
      "200      N/A          0.0447       N/A            \n"
     ]
    }
   ],
   "source": [
    "import json\n",
    "\n",
    "# Load the trainer state\n",
    "with open(\"outputs/finetome/checkpoint-200/trainer_state.json\", \"r\") as f:\n",
    "    logs = json.load(f)\n",
    "\n",
    "# Print organized logs\n",
    "print(f\"\\n{'Step':<8} {'Train Loss':<12} {'Eval Loss':<12} {'Learning Rate':<15}\")\n",
    "print(\"-\" * 50)\n",
    "for entry in logs[\"log_history\"]:\n",
    "    step = entry.get(\"step\", \"N/A\")\n",
    "    train_loss = entry.get(\"loss\", \"N/A\")\n",
    "    eval_loss = entry.get(\"eval_loss\", \"N/A\")\n",
    "    lr = entry.get(\"learning_rate\", \"N/A\")\n",
    "    \n",
    "    print(f\"{step:<8} {str(train_loss)[:6]:<12} {str(eval_loss)[:6]:<12} {str(lr)[:8]:<15}\")"
   ]
  }
 ],
 "metadata": {
  "kernelspec": {
   "display_name": "Python 3",
   "language": "python",
   "name": "python3"
  },
  "language_info": {
   "codemirror_mode": {
    "name": "ipython",
    "version": 3
   },
   "file_extension": ".py",
   "mimetype": "text/x-python",
   "name": "python",
   "nbconvert_exporter": "python",
   "pygments_lexer": "ipython3",
   "version": "3.11.11"
  }
 },
 "nbformat": 4,
 "nbformat_minor": 5
}
