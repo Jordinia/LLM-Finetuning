{
 "cells": [
  {
   "cell_type": "markdown",
   "id": "1eea4c6f",
   "metadata": {},
   "source": [
    "## Library"
   ]
  },
  {
   "cell_type": "code",
   "execution_count": 1,
   "id": "10039837",
   "metadata": {},
   "outputs": [
    {
     "name": "stderr",
     "output_type": "stream",
     "text": [
      "/home/fishmon/.conda/envs/unsloth_env/lib/python3.11/site-packages/tqdm/auto.py:21: TqdmWarning: IProgress not found. Please update jupyter and ipywidgets. See https://ipywidgets.readthedocs.io/en/stable/user_install.html\n",
      "  from .autonotebook import tqdm as notebook_tqdm\n"
     ]
    }
   ],
   "source": [
    "import json\n",
    "import pandas as pd\n",
    "from pathlib import Path\n",
    "from jsonschema import validate, ValidationError\n",
    "from datasets import Dataset, load_dataset"
   ]
  },
  {
   "cell_type": "markdown",
   "id": "bdd424d2",
   "metadata": {},
   "source": [
    "## Data Preparation"
   ]
  },
  {
   "cell_type": "code",
   "execution_count": 2,
   "id": "473b0932",
   "metadata": {},
   "outputs": [],
   "source": [
    "# Define the schema for the classification dictionary (outside the function is cleaner)\n",
    "classification_schema = {\n",
    "    \"type\": \"object\",\n",
    "    \"properties\": {\n",
    "        \"answer\": {\"type\": \"integer\", \"minimum\": 0, \"maximum\": 3},\n",
    "        \"classification\": {\"type\": \"string\"},\n",
    "        \"reason\": {\"type\": \"string\"},\n",
    "        \"confidence\": {\"type\": \"integer\", \"minimum\": 0, \"maximum\": 100}\n",
    "    },\n",
    "    \"required\": [\"answer\", \"classification\", \"reason\", \"confidence\"]\n",
    "}\n",
    "\n",
    "def to_sharegpt_with_thought(system, input_suffix, dataset) -> Dataset:\n",
    "    \"\"\"\n",
    "    Convert website classification dataset to ShareGPT format including reasoning ('thought'),\n",
    "    with JSON validation and enhanced error handling, specifically checking for unhashable types.\n",
    "    Returns a Hugging Face Dataset object.\n",
    "    \n",
    "    Args:\n",
    "        system (str): System prompt\n",
    "        input_suffix (str): Suffix to append to the human message (can be empty if not needed)\n",
    "        dataset (pd.DataFrame): Input DataFrame with columns:\n",
    "            ['Domain', 'Content', 'Label', 'classification', 'reason', 'confidence', 'thought']\n",
    "            \n",
    "    Returns:\n",
    "        datasets.Dataset: Hugging Face Dataset with a 'conversations' column, \n",
    "                          where each row contains a list representing one conversation.\n",
    "                          Returns an empty Dataset if input dataset is empty or all rows fail.\n",
    "    \"\"\"\n",
    "    if not isinstance(dataset, pd.DataFrame) or dataset.empty:\n",
    "        print(\"Input is not a valid or non-empty DataFrame. Returning empty Dataset.\")\n",
    "        # Return an empty Dataset with the expected structure\n",
    "        return Dataset.from_dict({\"conversations\": []}) \n",
    "        \n",
    "    # This list will temporarily hold the conversation lists\n",
    "    conversation_data_list = [] \n",
    "    error_count = 0\n",
    "    processed_count = 0\n",
    "\n",
    "    human_template = f\"{input_suffix}\\nDomain: {{domain}}, Content: \\\"{{content}}\\\"\"\n",
    "    if not input_suffix:\n",
    "         human_template = f\"Domain: {{domain}}, Content: \\\"{{content}}\\\"\"\n",
    "\n",
    "    print(f\"Starting conversion for {len(dataset)} rows...\")\n",
    "\n",
    "    for idx, row in dataset.iterrows():\n",
    "        try:\n",
    "            # --- Data Extraction and Basic Type Check ---\n",
    "            domain = row.get('Domain', 'N/A') \n",
    "            content = str(row['Content']) if pd.notna(row['Content']) else \"\" \n",
    "            thought_text = str(row['thought']).strip() if pd.notna(row['thought']) else \"No thought provided.\"\n",
    "            \n",
    "            label = row['Label']\n",
    "            classification = row['classification']\n",
    "            reason = row['reason']\n",
    "            confidence = row['confidence']\n",
    "\n",
    "            if pd.isna(label) or pd.isna(classification) or pd.isna(reason) or pd.isna(confidence):\n",
    "                 raise ValueError(\"One or more required classification fields are NaN\")\n",
    "\n",
    "            if isinstance(label, (list, dict)) or \\\n",
    "               isinstance(classification, (list, dict)) or \\\n",
    "               isinstance(reason, (list, dict)) or \\\n",
    "               isinstance(confidence, (list, dict)):\n",
    "                 raise TypeError(\"One or more classification fields contain unhashable list/dict types\")\n",
    "\n",
    "            human_value = human_template.format(domain=domain, content=content)\n",
    "            \n",
    "            # --- Prepare and Validate Classification Dictionary ---\n",
    "            classification_dict = {\n",
    "                \"answer\": int(label), \n",
    "                \"classification\": str(classification),\n",
    "                \"reason\": str(reason), \n",
    "                \"confidence\": int(confidence)\n",
    "            }\n",
    "            validate(instance=classification_dict, schema=classification_schema) \n",
    "            \n",
    "            # --- Serialize and Format Output ---\n",
    "            final_json_str = json.dumps(classification_dict, ensure_ascii=False, indent=2) \n",
    "            gpt_value = f\"<think>\\n{thought_text}\\n</think>\\n```json\\n{final_json_str}\\n```\"\n",
    "            \n",
    "            # This is the list for a single conversation\n",
    "            conversation = [\n",
    "                {\"from\": \"system\", \"value\": system},\n",
    "                {\"from\": \"human\", \"value\": human_value},\n",
    "                {\"from\": \"gpt\", \"value\": gpt_value} \n",
    "            ]\n",
    "            \n",
    "            # Append the conversation list to our temporary list\n",
    "            conversation_data_list.append(conversation) \n",
    "            processed_count += 1\n",
    "\n",
    "        # --- Error Handling ---\n",
    "        except (ValidationError, ValueError, TypeError) as e: \n",
    "            error_count += 1\n",
    "            # Avoid printing excessive errors if many occur\n",
    "            if error_count < 20 or error_count % 100 == 0: \n",
    "                 print(f\"Error processing row {idx} (Domain: {domain}): {type(e).__name__} - {str(e)}\")\n",
    "            continue \n",
    "        except Exception as e: \n",
    "             error_count += 1\n",
    "             if error_count < 20 or error_count % 100 == 0:\n",
    "                 print(f\"UNEXPECTED Error processing row {idx} (Domain: {domain}): {type(e).__name__} - {str(e)}\")\n",
    "             continue\n",
    "\n",
    "    print(f\"\\nConversion finished.\")\n",
    "    print(f\"Successfully processed: {processed_count} rows\")\n",
    "    print(f\"Errors encountered: {error_count} rows\")\n",
    "\n",
    "    # --- Convert the list of conversation lists to a Hugging Face Dataset ---\n",
    "    if conversation_data_list:\n",
    "        # Create the dictionary format expected by from_dict\n",
    "        hf_dataset_dict = {\"conversations\": conversation_data_list} \n",
    "        # Create and return the Dataset object\n",
    "        return Dataset.from_dict(hf_dataset_dict)\n",
    "    else:\n",
    "        print(\"No valid data processed. Returning empty Dataset.\")\n",
    "        # Return an empty Dataset with the expected structure\n",
    "        return Dataset.from_dict({\"conversations\": []})"
   ]
  },
  {
   "cell_type": "code",
   "execution_count": 3,
   "id": "ca07748d",
   "metadata": {},
   "outputs": [
    {
     "name": "stdout",
     "output_type": "stream",
     "text": [
      "Starting conversion for 776 rows...\n",
      "\n",
      "Conversion finished.\n",
      "Successfully processed: 776 rows\n",
      "Errors encountered: 0 rows\n",
      "\n",
      "Output Type: <class 'datasets.arrow_dataset.Dataset'>\n",
      "Dataset Info:\n",
      "Dataset({\n",
      "    features: ['conversations'],\n",
      "    num_rows: 776\n",
      "})\n"
     ]
    }
   ],
   "source": [
    "df = pd.read_csv('./dataset/harmful.csv')\n",
    "with open('./prompt/labelling_promptv4.txt', 'r', encoding='utf-8') as f:\n",
    "    system_prompt = f.read()\n",
    "\n",
    "# Convert to ShareGPT format with Unicode preservation\n",
    "dataset = to_sharegpt_with_thought(\n",
    "    system=system_prompt,\n",
    "    input_suffix=\"Classify the given URL as 0 (benign), 1 (gambling), 2 (pornography), or 3 (harmful). Output MUST be JSON.\\n\",\n",
    "    dataset=df\n",
    ")\n",
    "\n",
    "# Now you can check the type and print the Dataset info\n",
    "print(\"\\nOutput Type:\", type(dataset))\n",
    "print(\"Dataset Info:\")\n",
    "print(dataset)"
   ]
  },
  {
   "cell_type": "markdown",
   "id": "dbd7f725",
   "metadata": {},
   "source": [
    "### Save ShareGPT JSONL"
   ]
  },
  {
   "cell_type": "code",
   "execution_count": 4,
   "id": "3e9d4a89",
   "metadata": {},
   "outputs": [
    {
     "name": "stdout",
     "output_type": "stream",
     "text": [
      "Saving 776 conversations to JSONL...\n",
      "Successfully saved data to harmful_sharegpt_thought3.jsonl\n"
     ]
    }
   ],
   "source": [
    "print(f\"Saving {len(dataset)} conversations to JSONL...\")\n",
    "\n",
    "try:\n",
    "    with open('./dataset/harmful_sharegpt_thought3.jsonl', 'w', encoding='utf-8') as f:\n",
    "        for item in dataset:\n",
    "            json_line = {\"conversations\": item['conversations']}\n",
    "            f.write(json.dumps(json_line, ensure_ascii=False) + '\\n')\n",
    "    print(\"Successfully saved data to harmful_sharegpt_thought3.jsonl\")\n",
    "except Exception as e:\n",
    "    print(f\"Error saving JSONL file: {e}\")"
   ]
  },
  {
   "cell_type": "code",
   "execution_count": 5,
   "id": "4e2a1c52",
   "metadata": {},
   "outputs": [],
   "source": [
    "import json\n",
    "\n",
    "with open(\"./dataset/harmful_sharegpt_thought3.jsonl\", \"r\", encoding=\"utf-8\") as f:\n",
    "    for i, line in enumerate(f, start=1):\n",
    "        try:\n",
    "            json.loads(line)\n",
    "        except json.JSONDecodeError as e:\n",
    "            print(f\"Error in line {i}: {e}\")"
   ]
  },
  {
   "cell_type": "markdown",
   "id": "3b117069",
   "metadata": {},
   "source": [
    "### Standardize ShareGPT"
   ]
  },
  {
   "cell_type": "code",
   "execution_count": 6,
   "id": "4b6236b0",
   "metadata": {},
   "outputs": [
    {
     "name": "stderr",
     "output_type": "stream",
     "text": [
      "Generating train split: 776 examples [00:00, 31602.26 examples/s]\n"
     ]
    }
   ],
   "source": [
    "from datasets import load_dataset\n",
    "\n",
    "# Load the dataset from JSONL\n",
    "dataset = load_dataset(\"json\", data_files=\"./dataset/harmful_sharegpt_thought3.jsonl\")\n",
    "dataset = dataset[\"train\"]  # Access the 'train' split"
   ]
  },
  {
   "cell_type": "code",
   "execution_count": 7,
   "id": "246101e1",
   "metadata": {},
   "outputs": [
    {
     "name": "stdout",
     "output_type": "stream",
     "text": [
      "\n",
      "Output Type: <class 'datasets.arrow_dataset.Dataset'>\n",
      "Dataset Info:\n",
      "Dataset({\n",
      "    features: ['conversations'],\n",
      "    num_rows: 776\n",
      "})\n"
     ]
    }
   ],
   "source": [
    "print(\"\\nOutput Type:\", type(dataset))\n",
    "print(\"Dataset Info:\")\n",
    "print(dataset)"
   ]
  },
  {
   "cell_type": "code",
   "execution_count": 8,
   "id": "bc5e696c",
   "metadata": {},
   "outputs": [
    {
     "name": "stdout",
     "output_type": "stream",
     "text": [
      "🦥 Unsloth: Will patch your computer to enable 2x faster free finetuning.\n"
     ]
    },
    {
     "name": "stderr",
     "output_type": "stream",
     "text": [
      "WARNING[XFORMERS]: xFormers can't load C++/CUDA extensions. xFormers was built for:\n",
      "    PyTorch 2.5.1 with CUDA 1201 (you have 2.6.0+cu124)\n",
      "    Python  3.11.10 (you have 3.11.11)\n",
      "  Please reinstall xformers (see https://github.com/facebookresearch/xformers#installing-xformers)\n",
      "  Memory-efficient attention, SwiGLU, sparse and more won't be available.\n",
      "  Set XFORMERS_MORE_DETAILS=1 for more details\n"
     ]
    },
    {
     "name": "stdout",
     "output_type": "stream",
     "text": [
      "Unsloth: Failed to patch Gemma3ForConditionalGeneration.\n",
      "🦥 Unsloth Zoo will now patch everything to make training faster!\n"
     ]
    },
    {
     "name": "stderr",
     "output_type": "stream",
     "text": [
      "Unsloth: Standardizing formats (num_proc=16): 100%|██████████| 776/776 [00:00<00:00, 5226.35 examples/s]\n"
     ]
    }
   ],
   "source": [
    "from unsloth.chat_templates import standardize_sharegpt\n",
    "dataset = standardize_sharegpt(dataset)"
   ]
  },
  {
   "cell_type": "markdown",
   "id": "44ece449",
   "metadata": {},
   "source": [
    "### Save ChatML JSONL"
   ]
  },
  {
   "cell_type": "code",
   "execution_count": 9,
   "id": "f025767b",
   "metadata": {},
   "outputs": [
    {
     "name": "stdout",
     "output_type": "stream",
     "text": [
      "Saving 776 standardized conversations to JSONL...\n",
      "Successfully saved standardized data to standardized_sharegpt.jsonl\n"
     ]
    }
   ],
   "source": [
    "print(f\"Saving {len(dataset)} standardized conversations to JSONL...\")\n",
    "# Save standardized dataset in JSONL format\n",
    "try:\n",
    "    with open('./dataset/harmful_chatml_thought.jsonl', 'w', encoding='utf-8') as f:\n",
    "        for item in dataset:\n",
    "            # Wrap each conversation in a dictionary with the key \"conversations\"\n",
    "            json_line = {\"conversations\": item['conversations']}\n",
    "            f.write(json.dumps(json_line, ensure_ascii=False) + '\\n')\n",
    "    print(\"Successfully saved standardized data to standardized_sharegpt.jsonl\")\n",
    "except Exception as e:\n",
    "    print(f\"Error saving JSONL file: {e}\")"
   ]
  },
  {
   "cell_type": "markdown",
   "id": "3d8651d1",
   "metadata": {},
   "source": [
    "## Load Model"
   ]
  },
  {
   "cell_type": "code",
   "execution_count": 10,
   "id": "ca6c0212",
   "metadata": {},
   "outputs": [
    {
     "name": "stdout",
     "output_type": "stream",
     "text": [
      "==((====))==  Unsloth 2025.3.19: Fast Llama patching. Transformers: 4.51.3.\n",
      "   \\\\   /|    NVIDIA GeForce RTX 3090 Ti. Num GPUs = 1. Max memory: 23.551 GB. Platform: Linux.\n",
      "O^O/ \\_/ \\    Torch: 2.6.0+cu124. CUDA: 8.6. CUDA Toolkit: 12.4. Triton: 3.2.0\n",
      "\\        /    Bfloat16 = TRUE. FA [Xformers = None. FA2 = False]\n",
      " \"-____-\"     Free license: http://github.com/unslothai/unsloth\n",
      "Unsloth: Fast downloading is enabled - ignore downloading bars which are red colored!\n"
     ]
    }
   ],
   "source": [
    "from unsloth import FastLanguageModel\n",
    "import torch\n",
    "max_seq_length = 30000 # Choose any! We auto support RoPE Scaling internally!\n",
    "dtype = None # None for auto detection. Float16 for Tesla T4, V100, Bfloat16 for Ampere+\n",
    "load_in_4bit = True # Use 4bit quantization to reduce memory usage. Can be False.\n",
    "\n",
    "model, tokenizer = FastLanguageModel.from_pretrained(\n",
    "    model_name = \"unsloth/Llama-3.2-3B-bnb-4bit\", # or choose \"unsloth/Llama-3.2-1B-Instruct\"\n",
    "    max_seq_length = max_seq_length,\n",
    "    dtype = dtype,\n",
    "    load_in_4bit = load_in_4bit,\n",
    "    # token = \"hf_...\", # use one if using gated models like meta-llama/Llama-2-7b-hf\n",
    ")"
   ]
  },
  {
   "cell_type": "code",
   "execution_count": 11,
   "id": "65f690fb",
   "metadata": {},
   "outputs": [
    {
     "name": "stderr",
     "output_type": "stream",
     "text": [
      "Unsloth 2025.3.19 patched 28 layers with 28 QKV layers, 28 O layers and 28 MLP layers.\n"
     ]
    }
   ],
   "source": [
    "model = FastLanguageModel.get_peft_model(\n",
    "    model,\n",
    "    r = 16, # Choose any number > 0 ! Suggested 8, 16, 32, 64, 128\n",
    "    target_modules = [\"q_proj\", \"k_proj\", \"v_proj\", \"o_proj\",\n",
    "                      \"gate_proj\", \"up_proj\", \"down_proj\",],\n",
    "    lora_alpha = 16,\n",
    "    lora_dropout = 0, # Supports any, but = 0 is optimized\n",
    "    bias = \"none\",    # Supports any, but = \"none\" is optimized\n",
    "    # [NEW] \"unsloth\" uses 30% less VRAM, fits 2x larger batch sizes!\n",
    "    use_gradient_checkpointing = \"unsloth\", # True or \"unsloth\" for very long context\n",
    "    random_state = 3407,\n",
    "    use_rslora = False,  # We support rank stabilized LoRA\n",
    "    loftq_config = None, # And LoftQ\n",
    ")"
   ]
  },
  {
   "cell_type": "code",
   "execution_count": 12,
   "id": "4eb134c1",
   "metadata": {},
   "outputs": [],
   "source": [
    "from unsloth.chat_templates import get_chat_template\n",
    "\n",
    "tokenizer = get_chat_template(\n",
    "    tokenizer,\n",
    "    chat_template = \"llama-3.1\",\n",
    ")\n",
    "\n",
    "def formatting_prompts_func(examples):\n",
    "    convos = examples[\"conversations\"]\n",
    "    texts = [tokenizer.apply_chat_template(convo, tokenize = False, add_generation_prompt = False) for convo in convos]\n",
    "    return { \"text\" : texts, }\n",
    "pass"
   ]
  },
  {
   "cell_type": "code",
   "execution_count": 13,
   "id": "10d2424f",
   "metadata": {},
   "outputs": [
    {
     "name": "stderr",
     "output_type": "stream",
     "text": [
      "Map: 100%|██████████| 776/776 [00:00<00:00, 6669.06 examples/s]\n"
     ]
    }
   ],
   "source": [
    "dataset = dataset.map(formatting_prompts_func, batched = True,)"
   ]
  },
  {
   "cell_type": "code",
   "execution_count": 14,
   "id": "eeeed506",
   "metadata": {},
   "outputs": [
    {
     "data": {
      "text/plain": [
       "[{'content': 'You are an Expert Website Classifier tasked with categorizing websites (using provided Domain & Content) into distinct categories: **0 - Benign**, **1 - Gambling**, **2 - Pornography**, or **3 - Harmful**. Output strict JSON including classification, reason, and a point-based confidence score (0-100). This aids a sophisticated website prediction system for digital safety.\\n\\n### **Categories & Definitions:**\\n\\n-   **0 - Benign:** General info, news, entertainment, services, e-commerce, educational sites, blogs, informational pages, and general entertainment sites. No gambling/porn themes.\\n    -   **Includes:** Educational discussion of sensitive topics (drugs, gambling, adult, illegal), suggestive content (dating, lingerie) *without* explicit material, drugs for educational or news purposes (e.g., addiction recovery, medical cannabis research).\\n\\n-   **1 - Gambling:** Promotes/facilitates betting, casino, poker, lottery, wagering. Includes online betting platforms, casinos, poker sites, lottery sites, and any website that encourages or provides means for users to wager money on games of chance or skill.\\n    -   **Keywords:** betting, casino, poker, odds, jackpot, slots, roulette, judi, slot gacor, togel, similar gambling-related terminology within their domain name or content.\\n    \\n-   **2 - Pornography:** These are websites that contain explicit sexual content intended to cause arousal. Explicit sexual content (images, videos, text) for arousal. Immoral content (bestiality, child exploitation). or links to such materials. \\n    -   **Keywords:** porn, bokep, sex, xxx, adult, nude, erotic, explicit video/photo.\\n\\n- **3 - Harmful**: Websites that does not fall to Benign, Gambling, and Pornography category. These websites engage in or promote activities harmful to users or violating laws/regulations, including:\\n    - Malware Distribution: Hosting/downloading computer viruses, worms, ransomware, spyware, etc.\\n    - Cybercrime: Phishing kits, hacking tools, stolen data markets, carding forums.\\n    - Extremism & Terrorism: Content inciting violence, extremist ideologies, or terrorist recruitment.\\n    - Violations of Indonesian Law:\\n        - Insults, defamation, blackmail, or threats.\\n        - Hoaxes/misleading news, hate speech, or incitement of violence.\\n    - Copyright Infringement/Piracy: Illegal software/cracks, torrents, pirated media.\\n    - Drugs/Narcotics: Sale/promotion of illegal drugs (e.g., cocaine, heroin) or unregulated pharmaceuticals.\\n    - Weapons: Sale of illegal firearms, explosives, or weapons.\\n    - Other Illegal Activities: Counterfeit goods, money laundering, human trafficking.\\n    - **Examples:**  \\n        - Illegal: `darknet-drugs.com` (drug sales), `pirated-movies.id` (piracy).  \\n        - Harmful: `extremist-forum.net` (terrorism recruitment), `hackers-tools.org` (phishing kits).  \\n        - Scam/phishng: `hadiah-telkomsel7.blogspot.com` (non-genuine website).\\n    - **Keywords**:\\nmalware, ransomware, phishing, hack, terrorism, jual narkoba, senjata ilegal, konten SARA, berita bohong, ancaman, pembajakan, cracked software, carding, darknet.\\n    - **Exceptions:** \\n        - Licensed/unlicensed gambling → **1 - Gambling**; scams → **3 - Harmful**.\\n\\n\\n### **Input Data Context:**\\n\\nYou will be provided with data entries, each consisting of two primary fields:\\n\\n*   **Domain:** The domain name or URL of the website (e.g., `example.com`, `gamble-site.net`). This can provide hints about the website\\'s purpose.\\n*   **Content:**  The textual content scraped from the website. This content offers detailed information about the website\\'s topics, services, and themes.\\n\\n### **Labeling Instructions:**\\n\\nAnalyze both the **Domain** and the **Content** provided. Use keywords and contextual clues from both to determine the most appropriate category for the website.  Consider the primary purpose and content focus of the website when classifying.\\n\\n### **Confidence Assessment Guidelines: Point-Based System (Total Possible Points: 100)**\\n\\nTo determine the **confidence** level (0-100) for your classification, evaluate the following factors and sum up the points.  The total points will directly correspond to the confidence percentage (e.g., 95 points = 95% confidence).\\n\\n#### **I. Keyword Strength and Relevance (Maximum 40 Points)**\\n*   **(40 Points):  Exceptional Keyword Strength: Explicit and Overwhelming Keywords in BOTH Domain and Content:** Presence of extremely explicit and overwhelmingly strong keywords that are *unquestionably* indicative of a specific category in *both* the domain name AND the website content. These keywords leave absolutely no doubt about the website\\'s nature. (e.g., Domain: `casino-royal-betting.com`, Content:  \"Gamble now and win HUGE jackpots on slots, poker, roulette! Real money betting!\").  This represents the absolute strongest keyword signal possible.\\n*   **(35 Points): Clear and Strong Keywords in BOTH Domain and Content:**  Presence of highly explicit keywords strongly indicative of a specific category in both the domain name AND the website content. (e.g., Domain: `bet.com`, Content:  \"Bet on sports and casino games!\").\\n*   **(25 Points): Strong Keywords in EITHER Domain OR Content:** Presence of highly explicit keywords strongly indicative of a specific category in EITHER the domain name OR the website content, but not both.\\n*   **(15 Points): Some Relevant Keywords:** Presence of keywords related to a category, but they are less explicit, less frequent, or require more contextual interpretation in either domain or content.\\n*   **(0 Points): Weak or Generic Keywords:** Lack of clear category-specific keywords in both domain and content. Keywords are generic and do not strongly suggest any specific category.\\n\\n#### **II. Domain and Content Alignment (Maximum 30 Points)**\\n\\n*   **(30 Points): Strong Domain and Content Alignment:** Domain name strongly and unambiguously suggests a category, and the website content consistently and explicitly reinforces that category.  They tell the same clear story.\\n*   **(15 Points): Partial Domain and Content Alignment:** Domain name and content generally point towards the same category, but the alignment might be less direct, slightly ambiguous, or require some interpretation to connect them.\\n*   **(0 Points): Domain-Content Mismatch or No Alignment:** Domain name suggests one thing, but the content is unclear, suggests something different, or there\\'s no clear connection between the domain and the content\\'s apparent purpose.\\n\\n#### **III. Content Clarity and Unambiguity (Maximum 20 Points)**\\n\\n*   **(20 Points): Unambiguous and Explicit Content:** The website content is very clear, direct, and leaves virtually no room for interpretation. It unambiguously falls into one of the defined categories.\\n*   **(10 Points): Content Requires Some Interpretation:** The content generally points to a category, but requires some interpretation to confidently assign it.  There might be subtle hints, implied meanings, or a need to infer the primary purpose.\\n*   **(0 Points): Ambiguous or Conflicting Content:** The website content is vague, contradictory, or could be reasonably interpreted in multiple ways, making it difficult to confidently assign a category.\\n\\n#### **IV. Category Indicator Strength (Maximum 10 Points)**\\n\\n*   **(10 Points): Multiple Strong Category Indicators:** Presence of numerous strong and clear indicators for a specific category throughout the domain and content (e.g., for Pornography: explicit keywords, descriptions of sexual acts, calls to action to view adult content, age verification prompts).\\n*   **(5 Points): Some Category Indicators Present:** Presence of a few indicators for a category, but they are not overwhelmingly strong or numerous.\\n*   **(0 Points): Lack of Category Indicators:** Few or no clear indicators for any of the defined categories are present in the domain and content.\\n\\n#### **Calculation:**\\n\\n1.  For each of the four sections (I-IV), assess the website and select the point value that best describes the presence of the described factors.\\n2.  Sum up the points from all four sections.\\n3.  The total sum represents the confidence level in percentage (%).\\n\\n#### **Confidence Level Ranges (for reference - already implicitly defined by points):**\\n\\n*   **High Confidence (80-100 Points):**  Strong evidence across multiple factors pointing clearly to a category.\\n*   **Medium Confidence (50-79 Points):** Moderate evidence, some ambiguity or less directness in indicators.\\n*   **Low Confidence (0-49 Points):** Weak or conflicting evidence, high uncertainty about the correct category.\\n\\n#### **Example:**\\n\\nLet\\'s say you are classifying `lucky-slots-online.com` with content about slot games and bonuses.\\n\\n*   **I. Keyword Strength:** Strong keywords in both Domain and Content (e.g., \"slots,\" \"online,\" \"win,\" \"bonuses\") - **25 Points**\\n*   **II. Domain-Content Alignment:** Domain and content strongly align with Gambling - **30 Points**\\n*   **III. Content Clarity:** Content is very clear about gambling activities - **20 Points**\\n*   **IV. Category Indicators:** Multiple indicators of gambling (games, bonuses, calls to action) - **10 Points**\\n\\n**Total Points: 25 + 30 + 20 + 10 = 85 Points.  Confidence: 85%**\\n\\n#### **Using this Point System:**\\n\\nWhen generating the \"reason\" for your classification, you can now also briefly mention the points you assigned for each section to justify the final confidence score. For example:\\n\\n```json\\n{\\n  \"answer\": 1,\\n  \"classification\": \"Gambling\",\\n  \"reason\": \"Strong keywords in domain and content (25 pts), strong domain-content alignment (30 pts), clear gambling content (20 pts), multiple category indicators (10 pts). Total 85 points.\",\\n  \"confidence\": 85\\n}\\n```\\n\\n### **Output Requirements: STRICTLY ADHERE TO JSON FORMAT**\\n\\nFor each website, you **MUST** provide your classification in the following **JSON format ONLY**.  **No other format is acceptable.**\\n\\n```json\\n{\\n  \"answer\": (integer: 0, 1, 2, or 3),\\n  \"classification\": (string: \"Benign\", \"Gambling\", \"Pornography\", or \"Harmful\"),\\n  \"reason\": (string: \"Brief explanation of the classification using keywords and hints from the domain and content.\"),\\n  \"confidence\": (integer: 0 to 100, \"Level of confidence in the classification\")\\n}\\n```\\n\\n**Example Input and Expected Output:**\\n\\n**1st Sample**\\n\\n**Input Data:**\\n\\n```\\nDomain: news-today.info\\nContent: Welcome to News Today! Get the latest breaking news, top stories, and in-depth analysis from around the world. Covering politics, business, technology, sports, and culture. Stay informed with News Today - your source for reliable journalism.\\n```\\n\\n**Expected Output:**\\n\\n```json\\n{\\n  \"answer\": 0,\\n  \"classification\": \"Benign\",\\n  \"reason\": \"Domain \\'news-today.info\\' and content mention \\'breaking news,\\' \\'top stories,\\' \\'analysis,\\' \\'reliable journalism,\\' indicating a general information/news website. Strong keywords in domain and content (35 pts), strong domain-content alignment (30 pts), unambiguous content (20 pts), some category indicators (5 pts). Total 90 points.\",\\n  \"confidence\": 90\\n}\\n```\\n\\n**2nd Sample:**\\n\\n**Input Data:**\\n\\n```\\nDomain: lucky-slots-online.com\\nContent:  Spin to win big at Lucky Slots Online! Play hundreds of exciting slot games, claim your bonuses, and join the fun.  Licensed and regulated for your safety. 24/7 customer support available. Join now and get 100 free spins!\\n```\\n\\n**Expected Output:**\\n\\n```json\\n{\\n  \"answer\": 1,\\n  \"classification\": \"Gambling\",\\n  \"reason\": \"Domain \\'lucky-slots-online.com\\' and content include keywords like \\'slots,\\' \\'win,\\' \\'casino,\\' \\'bonuses,\\' \\'free spins,\\' indicating a gambling website.\",\\n  \"confidence\": 100\\n}\\n```\\n\\n**3rd Sample**\\n\\n**Input Data:**\\n\\n```\\nDomain: adult-pleasures.net\\nContent:  Experience the hottest adult entertainment online. Unlimited access to exclusive videos and photos. 18+ only. Join our community of pleasure seekers today!\\n```\\n\\n**Expected Output:**\\n\\n```json\\n{\\n  \"answer\": 2,\\n  \"classification\": \"Pornography\",\\n  \"reason\": \"Domain \\'adult-pleasures.net\\' and content include explicit terms like \\'adult entertainment,\\' \\'exclusive videos,\\' \\'photos,\\' \\'18+ only,\\' and \\'pleasure seekers,\\' indicating a pornography website. Strong keywords in both domain and content (25 pts), strong domain-content alignment (30 pts), unambiguous content (20 pts), multiple category indicators (10 pts). Total 85 points.\",\\n  \"confidence\": 85\\n}\\n```\\n**4th Sample**\\n\\n**Input Data:**\\n\\n```\\nDomain: project420.com\\nContent:  Welcome to Project420.com an ongoing community marijuana, hemp search engine and your gateway to 420 products, services and information from all over the world. Marijuana seeds, super bongs, high tech growing marijuana books, contests, communities, cool people and tons of 420 fun.  Potent marijuana websites are added frequently.  Let\\'s help each other grow.  Use the table of contents located to the left and begin your search of 420 world wide websites.\\n```\\n\\n**Expected Output:**\\n\\n```json\\n{\\n  \"answer\": 3,\\n  \"classification\": \"Harmful\",\\n  \"reason\": \"Domain \\'project420.com\\' and content include keywords like \\'marijuana seeds,\\' \\'growing marijuana,\\' and \\'420 products,\\' indicating promotion of illegal drugs under Indonesian law (UU ITE). Strong keywords in content (25 pts), Partial Domain and Content Alignment (15 pts), clear harmful intent (20 pts), multiple indicators (10 pts). Total 70 points.\",\\n  \"confidence\": 70\\n}\\n```\\n**Execution:**\\nProcess the provided website data (input fields: `Domain`, `Content`). Apply the classification categories, definitions, and confidence point system accurately. Generate the mandatory JSON output for each entry. Begin classification now.',\n",
       "  'role': 'system'},\n",
       " {'content': 'Classify the given URL as 0 (benign), 1 (gambling), 2 (pornography), or 3 (harmful). Output MUST be JSON.\\n\\nDomain: https://www.threegunnuts.com, Content: \"products we carry. Three Gun Nuts We are a local gun shop located in Spokane Valley, Washington. We carry new and used firearms, ammunition and accessories. Home Products NFA Info Services About Us Nuts Browse By Category Close Outs New Firearms Used Firearms NFA Ammunition Accessories Browse By Manufacturer AAC (Advanced Armament) (55) ADVANCED ARMAMENT (15) Aero Precision (188) American Classic (28) Anderson Manufacturing (67) ATN (26) Auto-Ordnance - Thompson (46) Barrett Firearms (114) BCM (15) Beretta (379) AAC (Advanced Armament) (55) ADVANCED ARMAMENT (15) Aero Precision (188) American Classic (28) Anderson Manufacturing (67) ATN (26) Auto-Ordnance - Thompson (46) Barrett Firearms (114) BCM (15) Beretta (379) Bergara (129) Bersa (55) BLACKHAWK! (78) Bond Arms (36) Browning (737) Burris Optics (101) CAA (10) CANIK (39) CCI (39) Century Arms (49) Charles Daly (72) Charter Arms (68) Chiappa Firearms (85) Christensen Arms (314) CMMG (15) Colt (133) Crimson Trace (101) CVA (35) CZ USA (361) Daniel Defense (94) Dead Air Armament (54) Del-Ton (16) Delton (17) Diamondback Firearms (65) DSG Arms (16) EO Tech (31) Eotech (11) Federal (51) Federal American Eagle (21) Federal Premium (12) Firefield (13) FN (124) Fnh Usa (22) Gemtech (59) Glock (296) Grovtec (25) Guntec (10) Heckler and Koch (HK USA) (162) Henry Repeating Arms (199) Heritage Manufacturing (61) Hi Point Firearms (23) Hi-Point (31) HKS (18) Hogue (27) Hornady (41) HOWA (133) Howard Leight (13) Inland Manufacturing (14) Iver Johnson (10) IWI - Israel Weapon Industries (64) Kahr Arms (45) Kel Tec (28) Keltec (87) Keystone Sporting Arms (74) KleenBore (23) Leupold (10) LWRC (64) Magnum Research (116) Magpul (62) Marlin (61) Michaels of Oregon Co (11) Mossberg (345) N82 Tactical (17) North American Arms (83) ODIN WORKS (23) Pearce Grip (15) PMC (16) Pointer (27) Rainier Arms (10) Rcbs (11) Remington (15) Remington Arms (22) Rock Island Armory (128) Rossi (57) Ruger (975) Savage Arms (552) SCCY Industries (73) SIG SAUER (515) Sig Sauer Germany (26) Sig Sauer Inc (21) SilencerCo (181) Slip 2000 (11) Smith and Wesson (556) Springfield (14) Springfield Armory (278) Streamlight (10) Surefire (56) Tagua (14) Taurus (394) Thompson Center (130) Timber Creek Outdoors (18) Traditions (55) Trijicon (201) TriStar Sporting Arms (112) Truglo (10) US Peacekeeper (13) UTG (30) Walther (49) Walther Arms (95) Weatherby (279) Winchester (539) Windham Weaponry (19) Yankee Hill Machine Company (38) Show All Join our mailing list! Call 509-928-6887 Store Hours: • Monday thru Friday • 9AM to 5PM Visit us at: Three Gun Nuts 421 S. Dishman Mica Rd Spokane Valley, WA \"Inside Car Works\" Make Model Info Price Inland Manufacturing M-1 Magazine Caliber: 30 Carbine Finish: Parkerized Capacity: 10 + 1 $ 47.88 Warehouse Inland Manufacturing M-1 Magazine Caliber: 30 Carbine Finish: Parkerized Capacity: 15 + 1 $ 47.88 Warehouse Inland Manufacturing M1 Carbine Magazine Caliber: 30 Carbine Finish: Parkerized Capacity: 30 rd. $ 49.21 Warehouse Inland Manufacturing 1911 Caliber: 45 ACP Finish: Stainless Barrel Length: 5\" $ 1138.00 Out Of Stock Inland Manufacturing M1 Carbine Caliber: 30 Carbine Finish: Parkerized Barrel Length: 18\" $ 1359.00 Out Of Stock Inland Manufacturing M1 Carbine Caliber: 30 Carbine Finish: Parkerized Barrel Length: 18\" $ 1208.90 Out Of Stock Inland Manufacturing M1 Carbine Caliber: 30 Carbine Finish: Parkerized Barrel Length: 16.25\" $ 1235.00 Out Of Stock Inland Manufacturing M1 Carbine Caliber: 30 Carbine Finish: Parkerized Barrel Length: 18\" $ 1208.90 Out Of Stock Inland Manufacturing M1 Carbine Caliber: 30 Carbine Finish: Parkerized Barrel Length: 16.25\" $ 1370.00 Out Of Stock Inland Manufacturing M1 Carbine Caliber: 30 Carbine Finish: Parkerized Barrel Length: 12\" $ 1332.00 Out Of Stock Inland Manufacturing M37 Trench Gun Gauge: 12 Gauge Finish: Parkerized Barrel Length: 20\" $ 1293.00 Out Of Stock Inland Manufacturing Suppressor Foam $ 26.60 Out Of Stock Inland Manufacturing Suppressor Foam $ 32.86 Out Of Stock Inland Manufacturing T3 Sniper Carbine Caliber: 30 Carbine Finish: Parkerized Barrel Length: 18\" $ 1429.00 Out Of Stock \"',\n",
       "  'role': 'user'},\n",
       " {'content': '<think>\\nOkay, so I need to classify this website into one of the four categories: Benign, Gambling, Pornography, or Harmful. Let\\'s start by looking at the domain and content provided.  The domain is \"threegunnuts.com\". The name suggests it\\'s related to firearms since \"gun nuts\" typically refers to enthusiasts. Now, looking at the content, they describe themselves as a local gun shop in Spokane Valley, Washington. They carry new and used firearms, ammunition, and accessories. There are sections like Products, NFA Info (which relates to National Firearms Act items), Services, About Us, etc.  The content lists various manufacturers of firearms, such as Glock, Remington, Smith and Wesson, SIG SAUER, and others. They also list specific products like M1 Carbines, 1911 pistols, suppressors, and other related accessories. The prices are listed for these items, indicating they\\'re selling them.  Now, considering the categories:  - Benign: General info, news, services without explicit content. - Gambling: Promotes betting or casino activities. - Pornography: Explicit sexual content. - Harmful: Engages in illegal or harmful activities.  This site is clearly about firearms. The sale of firearms isn\\'t inherently harmful if it\\'s legal and properly regulated. However, under Indonesian law (UU ITE), selling weapons might fall into the \"Harmful\" category, especially if they\\'re promoting illegal sales or not following proper regulations.  Looking deeper, the content doesn\\'t mention anything about illegal activities. They seem to be a legitimate gun shop listing their products. But since they are dealing with firearms, which can be considered harmful if misused, but in this case, it\\'s more about legal transactions.  Wait, according to the guidelines, \"Harmful\" includes websites that promote or engage in illegal activities like selling weapons without proper licensing. Since the site is a gun shop, perhaps licensed, but without explicit information on their legality, we might still consider them under Harmful because they\\'re dealing with firearms which can be harmful.  But wait, in the examples provided, sites promoting drugs fall into Harmful. Selling guns could also be considered as such if it\\'s illegal. However, the site seems to be a legitimate business, so maybe it\\'s Benign? But no, because selling firearms is a controlled activity and might not fit under Benign.  Wait, looking back at the categories:  Benign includes general services without explicit content. Selling guns could be seen as a service but falls into a regulated category. However, since the site is about selling weapons, which can be harmful if misused, it\\'s better to classify it as Harmful because it\\'s promoting or facilitating access to weapons that can cause harm.  So, putting it all together:  - Domain: threegunnuts.com (suggests firearms) - Content: Describes a gun shop with various firearms and accessories for sale  Therefore, the classification should be 3 - Harmful.\\n</think>\\n```json\\n{\\n  \"answer\": 3,\\n  \"classification\": \"Harmful\",\\n  \"reason\": \"The domain \\'threegunnuts.com\\' suggests a focus on firearms. The content details a gun shop selling various firearms and accessories, which falls under the category of promoting harmful activities as it involves weapons that can cause harm.\",\\n  \"confidence\": 80\\n}\\n```',\n",
       "  'role': 'assistant'}]"
      ]
     },
     "execution_count": 14,
     "metadata": {},
     "output_type": "execute_result"
    }
   ],
   "source": [
    "dataset[5][\"conversations\"]"
   ]
  },
  {
   "cell_type": "code",
   "execution_count": 15,
   "id": "576d1e6d",
   "metadata": {},
   "outputs": [
    {
     "data": {
      "text/plain": [
       "'<|begin_of_text|><|start_header_id|>system<|end_header_id|>\\n\\nCutting Knowledge Date: December 2023\\nToday Date: 26 July 2024\\n\\nYou are an Expert Website Classifier tasked with categorizing websites (using provided Domain & Content) into distinct categories: **0 - Benign**, **1 - Gambling**, **2 - Pornography**, or **3 - Harmful**. Output strict JSON including classification, reason, and a point-based confidence score (0-100). This aids a sophisticated website prediction system for digital safety.\\n\\n### **Categories & Definitions:**\\n\\n-   **0 - Benign:** General info, news, entertainment, services, e-commerce, educational sites, blogs, informational pages, and general entertainment sites. No gambling/porn themes.\\n    -   **Includes:** Educational discussion of sensitive topics (drugs, gambling, adult, illegal), suggestive content (dating, lingerie) *without* explicit material, drugs for educational or news purposes (e.g., addiction recovery, medical cannabis research).\\n\\n-   **1 - Gambling:** Promotes/facilitates betting, casino, poker, lottery, wagering. Includes online betting platforms, casinos, poker sites, lottery sites, and any website that encourages or provides means for users to wager money on games of chance or skill.\\n    -   **Keywords:** betting, casino, poker, odds, jackpot, slots, roulette, judi, slot gacor, togel, similar gambling-related terminology within their domain name or content.\\n    \\n-   **2 - Pornography:** These are websites that contain explicit sexual content intended to cause arousal. Explicit sexual content (images, videos, text) for arousal. Immoral content (bestiality, child exploitation). or links to such materials. \\n    -   **Keywords:** porn, bokep, sex, xxx, adult, nude, erotic, explicit video/photo.\\n\\n- **3 - Harmful**: Websites that does not fall to Benign, Gambling, and Pornography category. These websites engage in or promote activities harmful to users or violating laws/regulations, including:\\n    - Malware Distribution: Hosting/downloading computer viruses, worms, ransomware, spyware, etc.\\n    - Cybercrime: Phishing kits, hacking tools, stolen data markets, carding forums.\\n    - Extremism & Terrorism: Content inciting violence, extremist ideologies, or terrorist recruitment.\\n    - Violations of Indonesian Law:\\n        - Insults, defamation, blackmail, or threats.\\n        - Hoaxes/misleading news, hate speech, or incitement of violence.\\n    - Copyright Infringement/Piracy: Illegal software/cracks, torrents, pirated media.\\n    - Drugs/Narcotics: Sale/promotion of illegal drugs (e.g., cocaine, heroin) or unregulated pharmaceuticals.\\n    - Weapons: Sale of illegal firearms, explosives, or weapons.\\n    - Other Illegal Activities: Counterfeit goods, money laundering, human trafficking.\\n    - **Examples:**  \\n        - Illegal: `darknet-drugs.com` (drug sales), `pirated-movies.id` (piracy).  \\n        - Harmful: `extremist-forum.net` (terrorism recruitment), `hackers-tools.org` (phishing kits).  \\n        - Scam/phishng: `hadiah-telkomsel7.blogspot.com` (non-genuine website).\\n    - **Keywords**:\\nmalware, ransomware, phishing, hack, terrorism, jual narkoba, senjata ilegal, konten SARA, berita bohong, ancaman, pembajakan, cracked software, carding, darknet.\\n    - **Exceptions:** \\n        - Licensed/unlicensed gambling → **1 - Gambling**; scams → **3 - Harmful**.\\n\\n\\n### **Input Data Context:**\\n\\nYou will be provided with data entries, each consisting of two primary fields:\\n\\n*   **Domain:** The domain name or URL of the website (e.g., `example.com`, `gamble-site.net`). This can provide hints about the website\\'s purpose.\\n*   **Content:**  The textual content scraped from the website. This content offers detailed information about the website\\'s topics, services, and themes.\\n\\n### **Labeling Instructions:**\\n\\nAnalyze both the **Domain** and the **Content** provided. Use keywords and contextual clues from both to determine the most appropriate category for the website.  Consider the primary purpose and content focus of the website when classifying.\\n\\n### **Confidence Assessment Guidelines: Point-Based System (Total Possible Points: 100)**\\n\\nTo determine the **confidence** level (0-100) for your classification, evaluate the following factors and sum up the points.  The total points will directly correspond to the confidence percentage (e.g., 95 points = 95% confidence).\\n\\n#### **I. Keyword Strength and Relevance (Maximum 40 Points)**\\n*   **(40 Points):  Exceptional Keyword Strength: Explicit and Overwhelming Keywords in BOTH Domain and Content:** Presence of extremely explicit and overwhelmingly strong keywords that are *unquestionably* indicative of a specific category in *both* the domain name AND the website content. These keywords leave absolutely no doubt about the website\\'s nature. (e.g., Domain: `casino-royal-betting.com`, Content:  \"Gamble now and win HUGE jackpots on slots, poker, roulette! Real money betting!\").  This represents the absolute strongest keyword signal possible.\\n*   **(35 Points): Clear and Strong Keywords in BOTH Domain and Content:**  Presence of highly explicit keywords strongly indicative of a specific category in both the domain name AND the website content. (e.g., Domain: `bet.com`, Content:  \"Bet on sports and casino games!\").\\n*   **(25 Points): Strong Keywords in EITHER Domain OR Content:** Presence of highly explicit keywords strongly indicative of a specific category in EITHER the domain name OR the website content, but not both.\\n*   **(15 Points): Some Relevant Keywords:** Presence of keywords related to a category, but they are less explicit, less frequent, or require more contextual interpretation in either domain or content.\\n*   **(0 Points): Weak or Generic Keywords:** Lack of clear category-specific keywords in both domain and content. Keywords are generic and do not strongly suggest any specific category.\\n\\n#### **II. Domain and Content Alignment (Maximum 30 Points)**\\n\\n*   **(30 Points): Strong Domain and Content Alignment:** Domain name strongly and unambiguously suggests a category, and the website content consistently and explicitly reinforces that category.  They tell the same clear story.\\n*   **(15 Points): Partial Domain and Content Alignment:** Domain name and content generally point towards the same category, but the alignment might be less direct, slightly ambiguous, or require some interpretation to connect them.\\n*   **(0 Points): Domain-Content Mismatch or No Alignment:** Domain name suggests one thing, but the content is unclear, suggests something different, or there\\'s no clear connection between the domain and the content\\'s apparent purpose.\\n\\n#### **III. Content Clarity and Unambiguity (Maximum 20 Points)**\\n\\n*   **(20 Points): Unambiguous and Explicit Content:** The website content is very clear, direct, and leaves virtually no room for interpretation. It unambiguously falls into one of the defined categories.\\n*   **(10 Points): Content Requires Some Interpretation:** The content generally points to a category, but requires some interpretation to confidently assign it.  There might be subtle hints, implied meanings, or a need to infer the primary purpose.\\n*   **(0 Points): Ambiguous or Conflicting Content:** The website content is vague, contradictory, or could be reasonably interpreted in multiple ways, making it difficult to confidently assign a category.\\n\\n#### **IV. Category Indicator Strength (Maximum 10 Points)**\\n\\n*   **(10 Points): Multiple Strong Category Indicators:** Presence of numerous strong and clear indicators for a specific category throughout the domain and content (e.g., for Pornography: explicit keywords, descriptions of sexual acts, calls to action to view adult content, age verification prompts).\\n*   **(5 Points): Some Category Indicators Present:** Presence of a few indicators for a category, but they are not overwhelmingly strong or numerous.\\n*   **(0 Points): Lack of Category Indicators:** Few or no clear indicators for any of the defined categories are present in the domain and content.\\n\\n#### **Calculation:**\\n\\n1.  For each of the four sections (I-IV), assess the website and select the point value that best describes the presence of the described factors.\\n2.  Sum up the points from all four sections.\\n3.  The total sum represents the confidence level in percentage (%).\\n\\n#### **Confidence Level Ranges (for reference - already implicitly defined by points):**\\n\\n*   **High Confidence (80-100 Points):**  Strong evidence across multiple factors pointing clearly to a category.\\n*   **Medium Confidence (50-79 Points):** Moderate evidence, some ambiguity or less directness in indicators.\\n*   **Low Confidence (0-49 Points):** Weak or conflicting evidence, high uncertainty about the correct category.\\n\\n#### **Example:**\\n\\nLet\\'s say you are classifying `lucky-slots-online.com` with content about slot games and bonuses.\\n\\n*   **I. Keyword Strength:** Strong keywords in both Domain and Content (e.g., \"slots,\" \"online,\" \"win,\" \"bonuses\") - **25 Points**\\n*   **II. Domain-Content Alignment:** Domain and content strongly align with Gambling - **30 Points**\\n*   **III. Content Clarity:** Content is very clear about gambling activities - **20 Points**\\n*   **IV. Category Indicators:** Multiple indicators of gambling (games, bonuses, calls to action) - **10 Points**\\n\\n**Total Points: 25 + 30 + 20 + 10 = 85 Points.  Confidence: 85%**\\n\\n#### **Using this Point System:**\\n\\nWhen generating the \"reason\" for your classification, you can now also briefly mention the points you assigned for each section to justify the final confidence score. For example:\\n\\n```json\\n{\\n  \"answer\": 1,\\n  \"classification\": \"Gambling\",\\n  \"reason\": \"Strong keywords in domain and content (25 pts), strong domain-content alignment (30 pts), clear gambling content (20 pts), multiple category indicators (10 pts). Total 85 points.\",\\n  \"confidence\": 85\\n}\\n```\\n\\n### **Output Requirements: STRICTLY ADHERE TO JSON FORMAT**\\n\\nFor each website, you **MUST** provide your classification in the following **JSON format ONLY**.  **No other format is acceptable.**\\n\\n```json\\n{\\n  \"answer\": (integer: 0, 1, 2, or 3),\\n  \"classification\": (string: \"Benign\", \"Gambling\", \"Pornography\", or \"Harmful\"),\\n  \"reason\": (string: \"Brief explanation of the classification using keywords and hints from the domain and content.\"),\\n  \"confidence\": (integer: 0 to 100, \"Level of confidence in the classification\")\\n}\\n```\\n\\n**Example Input and Expected Output:**\\n\\n**1st Sample**\\n\\n**Input Data:**\\n\\n```\\nDomain: news-today.info\\nContent: Welcome to News Today! Get the latest breaking news, top stories, and in-depth analysis from around the world. Covering politics, business, technology, sports, and culture. Stay informed with News Today - your source for reliable journalism.\\n```\\n\\n**Expected Output:**\\n\\n```json\\n{\\n  \"answer\": 0,\\n  \"classification\": \"Benign\",\\n  \"reason\": \"Domain \\'news-today.info\\' and content mention \\'breaking news,\\' \\'top stories,\\' \\'analysis,\\' \\'reliable journalism,\\' indicating a general information/news website. Strong keywords in domain and content (35 pts), strong domain-content alignment (30 pts), unambiguous content (20 pts), some category indicators (5 pts). Total 90 points.\",\\n  \"confidence\": 90\\n}\\n```\\n\\n**2nd Sample:**\\n\\n**Input Data:**\\n\\n```\\nDomain: lucky-slots-online.com\\nContent:  Spin to win big at Lucky Slots Online! Play hundreds of exciting slot games, claim your bonuses, and join the fun.  Licensed and regulated for your safety. 24/7 customer support available. Join now and get 100 free spins!\\n```\\n\\n**Expected Output:**\\n\\n```json\\n{\\n  \"answer\": 1,\\n  \"classification\": \"Gambling\",\\n  \"reason\": \"Domain \\'lucky-slots-online.com\\' and content include keywords like \\'slots,\\' \\'win,\\' \\'casino,\\' \\'bonuses,\\' \\'free spins,\\' indicating a gambling website.\",\\n  \"confidence\": 100\\n}\\n```\\n\\n**3rd Sample**\\n\\n**Input Data:**\\n\\n```\\nDomain: adult-pleasures.net\\nContent:  Experience the hottest adult entertainment online. Unlimited access to exclusive videos and photos. 18+ only. Join our community of pleasure seekers today!\\n```\\n\\n**Expected Output:**\\n\\n```json\\n{\\n  \"answer\": 2,\\n  \"classification\": \"Pornography\",\\n  \"reason\": \"Domain \\'adult-pleasures.net\\' and content include explicit terms like \\'adult entertainment,\\' \\'exclusive videos,\\' \\'photos,\\' \\'18+ only,\\' and \\'pleasure seekers,\\' indicating a pornography website. Strong keywords in both domain and content (25 pts), strong domain-content alignment (30 pts), unambiguous content (20 pts), multiple category indicators (10 pts). Total 85 points.\",\\n  \"confidence\": 85\\n}\\n```\\n**4th Sample**\\n\\n**Input Data:**\\n\\n```\\nDomain: project420.com\\nContent:  Welcome to Project420.com an ongoing community marijuana, hemp search engine and your gateway to 420 products, services and information from all over the world. Marijuana seeds, super bongs, high tech growing marijuana books, contests, communities, cool people and tons of 420 fun.  Potent marijuana websites are added frequently.  Let\\'s help each other grow.  Use the table of contents located to the left and begin your search of 420 world wide websites.\\n```\\n\\n**Expected Output:**\\n\\n```json\\n{\\n  \"answer\": 3,\\n  \"classification\": \"Harmful\",\\n  \"reason\": \"Domain \\'project420.com\\' and content include keywords like \\'marijuana seeds,\\' \\'growing marijuana,\\' and \\'420 products,\\' indicating promotion of illegal drugs under Indonesian law (UU ITE). Strong keywords in content (25 pts), Partial Domain and Content Alignment (15 pts), clear harmful intent (20 pts), multiple indicators (10 pts). Total 70 points.\",\\n  \"confidence\": 70\\n}\\n```\\n**Execution:**\\nProcess the provided website data (input fields: `Domain`, `Content`). Apply the classification categories, definitions, and confidence point system accurately. Generate the mandatory JSON output for each entry. Begin classification now.<|eot_id|><|start_header_id|>user<|end_header_id|>\\n\\nClassify the given URL as 0 (benign), 1 (gambling), 2 (pornography), or 3 (harmful). Output MUST be JSON.\\n\\nDomain: https://www.threegunnuts.com, Content: \"products we carry. Three Gun Nuts We are a local gun shop located in Spokane Valley, Washington. We carry new and used firearms, ammunition and accessories. Home Products NFA Info Services About Us Nuts Browse By Category Close Outs New Firearms Used Firearms NFA Ammunition Accessories Browse By Manufacturer AAC (Advanced Armament) (55) ADVANCED ARMAMENT (15) Aero Precision (188) American Classic (28) Anderson Manufacturing (67) ATN (26) Auto-Ordnance - Thompson (46) Barrett Firearms (114) BCM (15) Beretta (379) AAC (Advanced Armament) (55) ADVANCED ARMAMENT (15) Aero Precision (188) American Classic (28) Anderson Manufacturing (67) ATN (26) Auto-Ordnance - Thompson (46) Barrett Firearms (114) BCM (15) Beretta (379) Bergara (129) Bersa (55) BLACKHAWK! (78) Bond Arms (36) Browning (737) Burris Optics (101) CAA (10) CANIK (39) CCI (39) Century Arms (49) Charles Daly (72) Charter Arms (68) Chiappa Firearms (85) Christensen Arms (314) CMMG (15) Colt (133) Crimson Trace (101) CVA (35) CZ USA (361) Daniel Defense (94) Dead Air Armament (54) Del-Ton (16) Delton (17) Diamondback Firearms (65) DSG Arms (16) EO Tech (31) Eotech (11) Federal (51) Federal American Eagle (21) Federal Premium (12) Firefield (13) FN (124) Fnh Usa (22) Gemtech (59) Glock (296) Grovtec (25) Guntec (10) Heckler and Koch (HK USA) (162) Henry Repeating Arms (199) Heritage Manufacturing (61) Hi Point Firearms (23) Hi-Point (31) HKS (18) Hogue (27) Hornady (41) HOWA (133) Howard Leight (13) Inland Manufacturing (14) Iver Johnson (10) IWI - Israel Weapon Industries (64) Kahr Arms (45) Kel Tec (28) Keltec (87) Keystone Sporting Arms (74) KleenBore (23) Leupold (10) LWRC (64) Magnum Research (116) Magpul (62) Marlin (61) Michaels of Oregon Co (11) Mossberg (345) N82 Tactical (17) North American Arms (83) ODIN WORKS (23) Pearce Grip (15) PMC (16) Pointer (27) Rainier Arms (10) Rcbs (11) Remington (15) Remington Arms (22) Rock Island Armory (128) Rossi (57) Ruger (975) Savage Arms (552) SCCY Industries (73) SIG SAUER (515) Sig Sauer Germany (26) Sig Sauer Inc (21) SilencerCo (181) Slip 2000 (11) Smith and Wesson (556) Springfield (14) Springfield Armory (278) Streamlight (10) Surefire (56) Tagua (14) Taurus (394) Thompson Center (130) Timber Creek Outdoors (18) Traditions (55) Trijicon (201) TriStar Sporting Arms (112) Truglo (10) US Peacekeeper (13) UTG (30) Walther (49) Walther Arms (95) Weatherby (279) Winchester (539) Windham Weaponry (19) Yankee Hill Machine Company (38) Show All Join our mailing list! Call 509-928-6887 Store Hours: • Monday thru Friday • 9AM to 5PM Visit us at: Three Gun Nuts 421 S. Dishman Mica Rd Spokane Valley, WA \"Inside Car Works\" Make Model Info Price Inland Manufacturing M-1 Magazine Caliber: 30 Carbine Finish: Parkerized Capacity: 10 + 1 $ 47.88 Warehouse Inland Manufacturing M-1 Magazine Caliber: 30 Carbine Finish: Parkerized Capacity: 15 + 1 $ 47.88 Warehouse Inland Manufacturing M1 Carbine Magazine Caliber: 30 Carbine Finish: Parkerized Capacity: 30 rd. $ 49.21 Warehouse Inland Manufacturing 1911 Caliber: 45 ACP Finish: Stainless Barrel Length: 5\" $ 1138.00 Out Of Stock Inland Manufacturing M1 Carbine Caliber: 30 Carbine Finish: Parkerized Barrel Length: 18\" $ 1359.00 Out Of Stock Inland Manufacturing M1 Carbine Caliber: 30 Carbine Finish: Parkerized Barrel Length: 18\" $ 1208.90 Out Of Stock Inland Manufacturing M1 Carbine Caliber: 30 Carbine Finish: Parkerized Barrel Length: 16.25\" $ 1235.00 Out Of Stock Inland Manufacturing M1 Carbine Caliber: 30 Carbine Finish: Parkerized Barrel Length: 18\" $ 1208.90 Out Of Stock Inland Manufacturing M1 Carbine Caliber: 30 Carbine Finish: Parkerized Barrel Length: 16.25\" $ 1370.00 Out Of Stock Inland Manufacturing M1 Carbine Caliber: 30 Carbine Finish: Parkerized Barrel Length: 12\" $ 1332.00 Out Of Stock Inland Manufacturing M37 Trench Gun Gauge: 12 Gauge Finish: Parkerized Barrel Length: 20\" $ 1293.00 Out Of Stock Inland Manufacturing Suppressor Foam $ 26.60 Out Of Stock Inland Manufacturing Suppressor Foam $ 32.86 Out Of Stock Inland Manufacturing T3 Sniper Carbine Caliber: 30 Carbine Finish: Parkerized Barrel Length: 18\" $ 1429.00 Out Of Stock \"<|eot_id|><|start_header_id|>assistant<|end_header_id|>\\n\\n<think>\\nOkay, so I need to classify this website into one of the four categories: Benign, Gambling, Pornography, or Harmful. Let\\'s start by looking at the domain and content provided.  The domain is \"threegunnuts.com\". The name suggests it\\'s related to firearms since \"gun nuts\" typically refers to enthusiasts. Now, looking at the content, they describe themselves as a local gun shop in Spokane Valley, Washington. They carry new and used firearms, ammunition, and accessories. There are sections like Products, NFA Info (which relates to National Firearms Act items), Services, About Us, etc.  The content lists various manufacturers of firearms, such as Glock, Remington, Smith and Wesson, SIG SAUER, and others. They also list specific products like M1 Carbines, 1911 pistols, suppressors, and other related accessories. The prices are listed for these items, indicating they\\'re selling them.  Now, considering the categories:  - Benign: General info, news, services without explicit content. - Gambling: Promotes betting or casino activities. - Pornography: Explicit sexual content. - Harmful: Engages in illegal or harmful activities.  This site is clearly about firearms. The sale of firearms isn\\'t inherently harmful if it\\'s legal and properly regulated. However, under Indonesian law (UU ITE), selling weapons might fall into the \"Harmful\" category, especially if they\\'re promoting illegal sales or not following proper regulations.  Looking deeper, the content doesn\\'t mention anything about illegal activities. They seem to be a legitimate gun shop listing their products. But since they are dealing with firearms, which can be considered harmful if misused, but in this case, it\\'s more about legal transactions.  Wait, according to the guidelines, \"Harmful\" includes websites that promote or engage in illegal activities like selling weapons without proper licensing. Since the site is a gun shop, perhaps licensed, but without explicit information on their legality, we might still consider them under Harmful because they\\'re dealing with firearms which can be harmful.  But wait, in the examples provided, sites promoting drugs fall into Harmful. Selling guns could also be considered as such if it\\'s illegal. However, the site seems to be a legitimate business, so maybe it\\'s Benign? But no, because selling firearms is a controlled activity and might not fit under Benign.  Wait, looking back at the categories:  Benign includes general services without explicit content. Selling guns could be seen as a service but falls into a regulated category. However, since the site is about selling weapons, which can be harmful if misused, it\\'s better to classify it as Harmful because it\\'s promoting or facilitating access to weapons that can cause harm.  So, putting it all together:  - Domain: threegunnuts.com (suggests firearms) - Content: Describes a gun shop with various firearms and accessories for sale  Therefore, the classification should be 3 - Harmful.\\n</think>\\n```json\\n{\\n  \"answer\": 3,\\n  \"classification\": \"Harmful\",\\n  \"reason\": \"The domain \\'threegunnuts.com\\' suggests a focus on firearms. The content details a gun shop selling various firearms and accessories, which falls under the category of promoting harmful activities as it involves weapons that can cause harm.\",\\n  \"confidence\": 80\\n}\\n```<|eot_id|>'"
      ]
     },
     "execution_count": 15,
     "metadata": {},
     "output_type": "execute_result"
    }
   ],
   "source": [
    "dataset[5][\"text\"]"
   ]
  },
  {
   "cell_type": "markdown",
   "id": "264b1044",
   "metadata": {},
   "source": [
    "## Training"
   ]
  },
  {
   "cell_type": "code",
   "execution_count": 24,
   "id": "052ed88f",
   "metadata": {},
   "outputs": [
    {
     "name": "stderr",
     "output_type": "stream",
     "text": [
      "Unsloth: Tokenizing [\"text\"] (num_proc=2): 100%|██████████| 776/776 [00:03<00:00, 242.91 examples/s]\n"
     ]
    }
   ],
   "source": [
    "from trl import SFTTrainer\n",
    "from transformers import TrainingArguments, DataCollatorForSeq2Seq\n",
    "from unsloth import is_bfloat16_supported\n",
    "\n",
    "trainer = SFTTrainer(\n",
    "    model = model,\n",
    "    tokenizer = tokenizer,\n",
    "    train_dataset = dataset,\n",
    "    dataset_text_field = \"text\",\n",
    "    max_seq_length = max_seq_length,\n",
    "    data_collator = DataCollatorForSeq2Seq(\n",
    "        tokenizer = tokenizer,\n",
    "        padding = True,                # ← Critical change\n",
    "        pad_to_multiple_of = 8,        # ← Aligns with GPU memory\n",
    "        max_length = max_seq_length,\n",
    "    ),\n",
    "    dataset_num_proc = 2,\n",
    "    packing = False, # Can make training 5x faster for short sequences.\n",
    "    args = TrainingArguments(\n",
    "        per_device_train_batch_size = 2,\n",
    "        gradient_accumulation_steps = 4,\n",
    "        warmup_steps = 5,\n",
    "        # num_train_epochs = 1, # Set this for 1 full training run.\n",
    "        max_steps = 60,\n",
    "        learning_rate = 2e-4,\n",
    "        fp16 = not is_bfloat16_supported(),\n",
    "        bf16 = is_bfloat16_supported(),\n",
    "        logging_steps = 1,\n",
    "        optim = \"adamw_8bit\",\n",
    "        weight_decay = 0.01,\n",
    "        lr_scheduler_type = \"linear\",\n",
    "        seed = 3407,\n",
    "        output_dir = \"outputs\",\n",
    "        report_to = \"none\", # Use this for WandB etc\n",
    "    ),\n",
    ")"
   ]
  },
  {
   "cell_type": "markdown",
   "id": "798cc344",
   "metadata": {},
   "source": [
    "### Train on Completions Only"
   ]
  },
  {
   "cell_type": "code",
   "execution_count": 25,
   "id": "07252b1b",
   "metadata": {},
   "outputs": [],
   "source": [
    "def train_on_responses_only_custom(trainer):\n",
    "    \"\"\"\n",
    "    Custom version for website classification that:\n",
    "    1. Preserves system prompt context\n",
    "    2. Only trains on assistant responses (JSON + reasoning)\n",
    "    3. Handles length consistency for batching\n",
    "    \"\"\"\n",
    "    tokenizer = trainer.tokenizer\n",
    "    \n",
    "    # Manually define token sequences for your template\n",
    "    SYSTEM_TOKENS = tokenizer.encode(\n",
    "        \"<|start_header_id|>system<|end_header_id|>\\n\\n\", \n",
    "        add_special_tokens=False\n",
    "    )\n",
    "    USER_TOKENS = tokenizer.encode(\n",
    "        \"<|start_header_id|>user<|end_header_id|>\\n\\n\", \n",
    "        add_special_tokens=False\n",
    "    )\n",
    "    ASSISTANT_TOKENS = tokenizer.encode(\n",
    "        \"<|start_header_id|>assistant<|end_header_id|>\\n\\n\", \n",
    "        add_special_tokens=False\n",
    "    )\n",
    "\n",
    "    def custom_masking(examples):\n",
    "        input_ids = examples[\"input_ids\"]\n",
    "        \n",
    "        # Create labels if they don't exist\n",
    "        labels = examples.get(\"labels\", [ids.copy() for ids in input_ids])\n",
    "        new_labels = []\n",
    "        \n",
    "        for seq_id, seq_labels in zip(input_ids, labels):\n",
    "            n = len(seq_id)\n",
    "            mask = [-100] * n\n",
    "            i = 0\n",
    "            \n",
    "            while i < n:\n",
    "                # Check for system prompt\n",
    "                if seq_id[i:i+len(SYSTEM_TOKENS)] == SYSTEM_TOKENS:\n",
    "                    i += len(SYSTEM_TOKENS)\n",
    "                    continue\n",
    "                    \n",
    "                # Check for user prompt\n",
    "                if seq_id[i:i+len(USER_TOKENS)] == USER_TOKENS:\n",
    "                    i += len(USER_TOKENS)\n",
    "                    continue\n",
    "                    \n",
    "                # Check for assistant prompt\n",
    "                if seq_id[i:i+len(ASSISTANT_TOKENS)] == ASSISTANT_TOKENS:\n",
    "                    start = i\n",
    "                    i += len(ASSISTANT_TOKENS)\n",
    "                    \n",
    "                    # Find end of assistant response\n",
    "                    while i < n:\n",
    "                        if seq_id[i] == tokenizer.eos_token_id:\n",
    "                            end = i\n",
    "                            break\n",
    "                        i += 1\n",
    "                    else:\n",
    "                        end = n\n",
    "                    \n",
    "                    # Unmask assistant response\n",
    "                    mask[start:end] = seq_labels[start:end]\n",
    "                    break\n",
    "                    \n",
    "                i += 1\n",
    "            \n",
    "            # Enforce length matching (critical fix)\n",
    "            if len(mask) != len(seq_id):\n",
    "                mask = mask[:len(seq_id)] + [-100] * (len(seq_id) - len(mask))\n",
    "            \n",
    "            new_labels.append(mask)\n",
    "        \n",
    "        return {\"labels\": new_labels}\n",
    "\n",
    "    # Apply to datasets with length verification\n",
    "    def apply_masking(dataset):\n",
    "        dataset = dataset.map(\n",
    "            custom_masking,\n",
    "            batched=True,\n",
    "            batch_size=1000,\n",
    "            num_proc=4,\n",
    "        )\n",
    "        # Verify lengths\n",
    "        for i in range(min(3, len(dataset))):\n",
    "            assert len(dataset[i][\"input_ids\"]) == len(dataset[i][\"labels\"]), \\\n",
    "                f\"Length mismatch in sample {i}\"\n",
    "        return dataset\n",
    "    \n",
    "    trainer.train_dataset = apply_masking(trainer.train_dataset)\n",
    "    \n",
    "    if trainer.eval_dataset is not None:\n",
    "        trainer.eval_dataset = apply_masking(trainer.eval_dataset)\n",
    "        \n",
    "    return trainer"
   ]
  },
  {
   "cell_type": "code",
   "execution_count": 26,
   "id": "9499b5a4",
   "metadata": {},
   "outputs": [
    {
     "name": "stderr",
     "output_type": "stream",
     "text": [
      "Trainer.tokenizer is now deprecated. You should use Trainer.processing_class instead.\n",
      "Map (num_proc=4): 100%|██████████| 776/776 [00:01<00:00, 408.20 examples/s]\n"
     ]
    }
   ],
   "source": [
    "trainer = train_on_responses_only_custom(trainer)"
   ]
  },
  {
   "cell_type": "code",
   "execution_count": 27,
   "id": "96e2c0b6",
   "metadata": {},
   "outputs": [
    {
     "name": "stdout",
     "output_type": "stream",
     "text": [
      "\n",
      "=== Final Pre-Train Check ===\n",
      "First sample labels preview:\n",
      "Input IDs length: 6714\n",
      "Labels length: 6714\n",
      "Last 10 labels: [220, 330, 83029, 794, 220, 5313, 198, 534, 74694, 128009]\n"
     ]
    }
   ],
   "source": [
    "# Final verification (optional)\n",
    "print(\"\\n=== Final Pre-Train Check ===\")\n",
    "sample = trainer.train_dataset[0]\n",
    "print(\"First sample labels preview:\")\n",
    "print(\"Input IDs length:\", len(sample[\"input_ids\"])) \n",
    "print(\"Labels length:\", len(sample[\"labels\"]))\n",
    "print(\"Last 10 labels:\", sample[\"labels\"][-10:])  # Should show unmasked assistant tokens"
   ]
  },
  {
   "cell_type": "code",
   "execution_count": 28,
   "id": "6841e8e8",
   "metadata": {},
   "outputs": [
    {
     "name": "stdout",
     "output_type": "stream",
     "text": [
      "==== Full Input Context ====\n",
      "<|begin_of_text|><|begin_of_text|><|start_header_id|>system<|end_header_id|>\n",
      "\n",
      "Cutting Knowledge Date: December 2023\n",
      "Today Date: 26 July 2024\n",
      "\n",
      "You are an Expert Website Classifier tasked with categorizing websites (using provided Domain & Content) into distinct categories: **0 - Benign**, **1 - Gambling**, **2 - Pornography**, or **3 - Harmful**. Output strict JSON including classification, reason, and a point-based confidence score (0-100). This aids a sophisticated website prediction system for digital safety.\n",
      "\n",
      "### **Categories & Definitions:**\n",
      "\n",
      "-   **0 - Benign:** General info, news, entertainment, services, e-commerce, educational sites, blogs, informational pages, and general entertainment sites. No gambling/porn themes.\n",
      "    -   **Includes:** Educational discussion of sensitive topics (drugs, gambling, adult, illegal), suggestive content (dating, lingerie) *without* explicit material, drugs for educational or news purposes (e.g., addiction recovery, medical cannabis research).\n",
      "\n",
      "-   **1 - Gambling:** Promotes/facilitates betting, casino, poker, lottery, wagering. Includes online betting platforms, casinos, poker sites, lottery sites, and any website that encourages or provides means for users to wager money on games of chance or skill.\n",
      "    -   **Keywords:** betting, casino, poker, odds, jackpot, slots, roulette, judi, slot gacor, togel, similar gambling-related terminology within their domain name or content.\n",
      "    \n",
      "-   **2 - Pornography:** These are websites that contain explicit sexual content intended to cause arousal. Explicit sexual content (images, videos, text) for arousal. Immoral content (bestiality, child exploitation). or links to such materials. \n",
      "    -   **Keywords:** porn, bokep, sex, xxx, adult, nude, erotic, explicit video/photo.\n",
      "\n",
      "- **3 - Harmful**: Websites that does not fall to Benign, Gambling, and Pornography category. These websites engage in or promote activities harmful to users or violating laws/regulations, including:\n",
      "    - Malware Distribution: Hosting/downloading computer viruses, worms, ransomware, spyware, etc.\n",
      "    - Cybercrime: Phishing kits, hacking tools, stolen data markets, carding forums.\n",
      "    - Extremism & Terrorism: Content inciting violence, extremist ideologies, or terrorist recruitment.\n",
      "    - Violations of Indonesian Law:\n",
      "        - Insults, defamation, blackmail, or threats.\n",
      "        - Hoaxes/misleading news, hate speech, or incitement of violence.\n",
      "    - Copyright Infringement/Piracy: Illegal software/cracks, torrents, pirated media.\n",
      "    - Drugs/Narcotics: Sale/promotion of illegal drugs (e.g., cocaine, heroin) or unregulated pharmaceuticals.\n",
      "    - Weapons: Sale of illegal firearms, explosives, or weapons.\n",
      "    - Other Illegal Activities: Counterfeit goods, money laundering, human trafficking.\n",
      "    - **Examples:**  \n",
      "        - Illegal: `darknet-drugs.com` (drug sales), `pirated-movies.id` (piracy).  \n",
      "        - Harmful: `extremist-forum.net` (terrorism recruitment), `hackers-tools.org` (phishing kits).  \n",
      "        - Scam/phishng: `hadiah-telkomsel7.blogspot.com` (non-genuine website).\n",
      "    - **Keywords**:\n",
      "malware, ransomware, phishing, hack, terrorism, jual narkoba, senjata ilegal, konten SARA, berita bohong, ancaman, pembajakan, cracked software, carding, darknet.\n",
      "    - **Exceptions:** \n",
      "        - Licensed/unlicensed gambling → **1 - Gambling**; scams → **3 - Harmful**.\n",
      "\n",
      "\n",
      "### **Input Data Context:**\n",
      "\n",
      "You will be provided with data entries, each consisting of two primary fields:\n",
      "\n",
      "*   **Domain:** The domain name or URL of the website (e.g., `example.com`, `gamble-site.net`). This can provide hints about the website's purpose.\n",
      "*   **Content:**  The textual content scraped from the website. This content offers detailed information about the website's topics, services, and themes.\n",
      "\n",
      "### **Labeling Instructions:**\n",
      "\n",
      "Analyze both the **Domain** and the **Content** provided. Use keywords and contextual clues from both to determine the most appropriate category for the website.  Consider the primary purpose and content focus of the website when classifying.\n",
      "\n",
      "### **Confidence Assessment Guidelines: Point-Based System (Total Possible Points: 100)**\n",
      "\n",
      "To determine the **confidence** level (0-100) for your classification, evaluate the following factors and sum up the points.  The total points will directly correspond to the confidence percentage (e.g., 95 points = 95% confidence).\n",
      "\n",
      "#### **I. Keyword Strength and Relevance (Maximum 40 Points)**\n",
      "*   **(40 Points):  Exceptional Keyword Strength: Explicit and Overwhelming Keywords in BOTH Domain and Content:** Presence of extremely explicit and overwhelmingly strong keywords that are *unquestionably* indicative of a specific category in *both* the domain name AND the website content. These keywords leave absolutely no doubt about the website's nature. (e.g., Domain: `casino-royal-betting.com`, Content:  \"Gamble now and win HUGE jackpots on slots, poker, roulette! Real money betting!\").  This represents the absolute strongest keyword signal possible.\n",
      "*   **(35 Points): Clear and Strong Keywords in BOTH Domain and Content:**  Presence of highly explicit keywords strongly indicative of a specific category in both the domain name AND the website content. (e.g., Domain: `bet.com`, Content:  \"Bet on sports and casino games!\").\n",
      "*   **(25 Points): Strong Keywords in EITHER Domain OR Content:** Presence of highly explicit keywords strongly indicative of a specific category in EITHER the domain name OR the website content, but not both.\n",
      "*   **(15 Points): Some Relevant Keywords:** Presence of keywords related to a category, but they are less explicit, less frequent, or require more contextual interpretation in either domain or content.\n",
      "*   **(0 Points): Weak or Generic Keywords:** Lack of clear category-specific keywords in both domain and content. Keywords are generic and do not strongly suggest any specific category.\n",
      "\n",
      "#### **II. Domain and Content Alignment (Maximum 30 Points)**\n",
      "\n",
      "*   **(30 Points): Strong Domain and Content Alignment:** Domain name strongly and unambiguously suggests a category, and the website content consistently and explicitly reinforces that category.  They tell the same clear story.\n",
      "*   **(15 Points): Partial Domain and Content Alignment:** Domain name and content generally point towards the same category, but the alignment might be less direct, slightly ambiguous, or require some interpretation to connect them.\n",
      "*   **(0 Points): Domain-Content Mismatch or No Alignment:** Domain name suggests one thing, but the content is unclear, suggests something different, or there's no clear connection between the domain and the content's apparent purpose.\n",
      "\n",
      "#### **III. Content Clarity and Unambiguity (Maximum 20 Points)**\n",
      "\n",
      "*   **(20 Points): Unambiguous and Explicit Content:** The website content is very clear, direct, and leaves virtually no room for interpretation. It unambiguously falls into one of the defined categories.\n",
      "*   **(10 Points): Content Requires Some Interpretation:** The content generally points to a category, but requires some interpretation to confidently assign it.  There might be subtle hints, implied meanings, or a need to infer the primary purpose.\n",
      "*   **(0 Points): Ambiguous or Conflicting Content:** The website content is vague, contradictory, or could be reasonably interpreted in multiple ways, making it difficult to confidently assign a category.\n",
      "\n",
      "#### **IV. Category Indicator Strength (Maximum 10 Points)**\n",
      "\n",
      "*   **(10 Points): Multiple Strong Category Indicators:** Presence of numerous strong and clear indicators for a specific category throughout the domain and content (e.g., for Pornography: explicit keywords, descriptions of sexual acts, calls to action to view adult content, age verification prompts).\n",
      "*   **(5 Points): Some Category Indicators Present:** Presence of a few indicators for a category, but they are not overwhelmingly strong or numerous.\n",
      "*   **(0 Points): Lack of Category Indicators:** Few or no clear indicators for any of the defined categories are present in the domain and content.\n",
      "\n",
      "#### **Calculation:**\n",
      "\n",
      "1.  For each of the four sections (I-IV), assess the website and select the point value that best describes the presence of the described factors.\n",
      "2.  Sum up the points from all four sections.\n",
      "3.  The total sum represents the confidence level in percentage (%).\n",
      "\n",
      "#### **Confidence Level Ranges (for reference - already implicitly defined by points):**\n",
      "\n",
      "*   **High Confidence (80-100 Points):**  Strong evidence across multiple factors pointing clearly to a category.\n",
      "*   **Medium Confidence (50-79 Points):** Moderate evidence, some ambiguity or less directness in indicators.\n",
      "*   **Low Confidence (0-49 Points):** Weak or conflicting evidence, high uncertainty about the correct category.\n",
      "\n",
      "#### **Example:**\n",
      "\n",
      "Let's say you are classifying `lucky-slots-online.com` with content about slot games and bonuses.\n",
      "\n",
      "*   **I. Keyword Strength:** Strong keywords in both Domain and Content (e.g., \"slots,\" \"online,\" \"win,\" \"bonuses\") - **25 Points**\n",
      "*   **II. Domain-Content Alignment:** Domain and content strongly align with Gambling - **30 Points**\n",
      "*   **III. Content Clarity:** Content is very clear about gambling activities - **20 Points**\n",
      "*   **IV. Category Indicators:** Multiple indicators of gambling (games, bonuses, calls to action) - **10 Points**\n",
      "\n",
      "**Total Points: 25 + 30 + 20 + 10 = 85 Points.  Confidence: 85%**\n",
      "\n",
      "#### **Using this Point System:**\n",
      "\n",
      "When generating the \"reason\" for your classification, you can now also briefly mention the points you assigned for each section to justify the final confidence score. For example:\n",
      "\n",
      "```json\n",
      "{\n",
      "  \"answer\": 1,\n",
      "  \"classification\": \"Gambling\",\n",
      "  \"reason\": \"Strong keywords in domain and content (25 pts), strong domain-content alignment (30 pts), clear gambling content (20 pts), multiple category indicators (10 pts). Total 85 points.\",\n",
      "  \"confidence\": 85\n",
      "}\n",
      "```\n",
      "\n",
      "### **Output Requirements: STRICTLY ADHERE TO JSON FORMAT**\n",
      "\n",
      "For each website, you **MUST** provide your classification in the following **JSON format ONLY**.  **No other format is acceptable.**\n",
      "\n",
      "```json\n",
      "{\n",
      "  \"answer\": (integer: 0, 1, 2, or 3),\n",
      "  \"classification\": (string: \"Benign\", \"Gambling\", \"Pornography\", or \"Harmful\"),\n",
      "  \"reason\": (string: \"Brief explanation of the classification using keywords and hints from the domain and content.\"),\n",
      "  \"confidence\": (integer: 0 to 100, \"Level of confidence in the classification\")\n",
      "}\n",
      "```\n",
      "\n",
      "**Example Input and Expected Output:**\n",
      "\n",
      "**1st Sample**\n",
      "\n",
      "**Input Data:**\n",
      "\n",
      "```\n",
      "Domain: news-today.info\n",
      "Content: Welcome to News Today! Get the latest breaking news, top stories, and in-depth analysis from around the world. Covering politics, business, technology, sports, and culture. Stay informed with News Today - your source for reliable journalism.\n",
      "```\n",
      "\n",
      "**Expected Output:**\n",
      "\n",
      "```json\n",
      "{\n",
      "  \"answer\": 0,\n",
      "  \"classification\": \"Benign\",\n",
      "  \"reason\": \"Domain 'news-today.info' and content mention 'breaking news,' 'top stories,' 'analysis,''reliable journalism,' indicating a general information/news website. Strong keywords in domain and content (35 pts), strong domain-content alignment (30 pts), unambiguous content (20 pts), some category indicators (5 pts). Total 90 points.\",\n",
      "  \"confidence\": 90\n",
      "}\n",
      "```\n",
      "\n",
      "**2nd Sample:**\n",
      "\n",
      "**Input Data:**\n",
      "\n",
      "```\n",
      "Domain: lucky-slots-online.com\n",
      "Content:  Spin to win big at Lucky Slots Online! Play hundreds of exciting slot games, claim your bonuses, and join the fun.  Licensed and regulated for your safety. 24/7 customer support available. Join now and get 100 free spins!\n",
      "```\n",
      "\n",
      "**Expected Output:**\n",
      "\n",
      "```json\n",
      "{\n",
      "  \"answer\": 1,\n",
      "  \"classification\": \"Gambling\",\n",
      "  \"reason\": \"Domain 'lucky-slots-online.com' and content include keywords like'slots,' 'win,' 'casino,' 'bonuses,' 'free spins,' indicating a gambling website.\",\n",
      "  \"confidence\": 100\n",
      "}\n",
      "```\n",
      "\n",
      "**3rd Sample**\n",
      "\n",
      "**Input Data:**\n",
      "\n",
      "```\n",
      "Domain: adult-pleasures.net\n",
      "Content:  Experience the hottest adult entertainment online. Unlimited access to exclusive videos and photos. 18+ only. Join our community of pleasure seekers today!\n",
      "```\n",
      "\n",
      "**Expected Output:**\n",
      "\n",
      "```json\n",
      "{\n",
      "  \"answer\": 2,\n",
      "  \"classification\": \"Pornography\",\n",
      "  \"reason\": \"Domain 'adult-pleasures.net' and content include explicit terms like 'adult entertainment,' 'exclusive videos,' 'photos,' '18+ only,' and 'pleasure seekers,' indicating a pornography website. Strong keywords in both domain and content (25 pts), strong domain-content alignment (30 pts), unambiguous content (20 pts), multiple category indicators (10 pts). Total 85 points.\",\n",
      "  \"confidence\": 85\n",
      "}\n",
      "```\n",
      "**4th Sample**\n",
      "\n",
      "**Input Data:**\n",
      "\n",
      "```\n",
      "Domain: project420.com\n",
      "Content:  Welcome to Project420.com an ongoing community marijuana, hemp search engine and your gateway to 420 products, services and information from all over the world. Marijuana seeds, super bongs, high tech growing marijuana books, contests, communities, cool people and tons of 420 fun.  Potent marijuana websites are added frequently.  Let's help each other grow.  Use the table of contents located to the left and begin your search of 420 world wide websites.\n",
      "```\n",
      "\n",
      "**Expected Output:**\n",
      "\n",
      "```json\n",
      "{\n",
      "  \"answer\": 3,\n",
      "  \"classification\": \"Harmful\",\n",
      "  \"reason\": \"Domain 'project420.com' and content include keywords like'marijuana seeds,' 'growing marijuana,' and '420 products,' indicating promotion of illegal drugs under Indonesian law (UU ITE). Strong keywords in content (25 pts), Partial Domain and Content Alignment (15 pts), clear harmful intent (20 pts), multiple indicators (10 pts). Total 70 points.\",\n",
      "  \"confidence\": 70\n",
      "}\n",
      "```\n",
      "**Execution:**\n",
      "Process the provided website data (input fields: `Domain`, `Content`). Apply the classification categories, definitions, and confidence point system accurately. Generate the mandatory JSON output for each entry. Begin classification now.<|eot_id|><|start_header_id|>user<|end_header_id|>\n",
      "\n",
      "Classify the given URL as 0 (benign), 1 (gambling), 2 (pornography), or 3 (harmful). Output MUST be JSON.\n",
      "\n",
      "Domain: https://www.threegunnuts.com, Content: \"products we carry. Three Gun Nuts We are a local gun shop located in Spokane Valley, Washington. We carry new and used firearms, ammunition and accessories. Home Products NFA Info Services About Us Nuts Browse By Category Close Outs New Firearms Used Firearms NFA Ammunition Accessories Browse By Manufacturer AAC (Advanced Armament) (55) ADVANCED ARMAMENT (15) Aero Precision (188) American Classic (28) Anderson Manufacturing (67) ATN (26) Auto-Ordnance - Thompson (46) Barrett Firearms (114) BCM (15) Beretta (379) AAC (Advanced Armament) (55) ADVANCED ARMAMENT (15) Aero Precision (188) American Classic (28) Anderson Manufacturing (67) ATN (26) Auto-Ordnance - Thompson (46) Barrett Firearms (114) BCM (15) Beretta (379) Bergara (129) Bersa (55) BLACKHAWK! (78) Bond Arms (36) Browning (737) Burris Optics (101) CAA (10) CANIK (39) CCI (39) Century Arms (49) Charles Daly (72) Charter Arms (68) Chiappa Firearms (85) Christensen Arms (314) CMMG (15) Colt (133) Crimson Trace (101) CVA (35) CZ USA (361) Daniel Defense (94) Dead Air Armament (54) Del-Ton (16) Delton (17) Diamondback Firearms (65) DSG Arms (16) EO Tech (31) Eotech (11) Federal (51) Federal American Eagle (21) Federal Premium (12) Firefield (13) FN (124) Fnh Usa (22) Gemtech (59) Glock (296) Grovtec (25) Guntec (10) Heckler and Koch (HK USA) (162) Henry Repeating Arms (199) Heritage Manufacturing (61) Hi Point Firearms (23) Hi-Point (31) HKS (18) Hogue (27) Hornady (41) HOWA (133) Howard Leight (13) Inland Manufacturing (14) Iver Johnson (10) IWI - Israel Weapon Industries (64) Kahr Arms (45) Kel Tec (28) Keltec (87) Keystone Sporting Arms (74) KleenBore (23) Leupold (10) LWRC (64) Magnum Research (116) Magpul (62) Marlin (61) Michaels of Oregon Co (11) Mossberg (345) N82 Tactical (17) North American Arms (83) ODIN WORKS (23) Pearce Grip (15) PMC (16) Pointer (27) Rainier Arms (10) Rcbs (11) Remington (15) Remington Arms (22) Rock Island Armory (128) Rossi (57) Ruger (975) Savage Arms (552) SCCY Industries (73) SIG SAUER (515) Sig Sauer Germany (26) Sig Sauer Inc (21) SilencerCo (181) Slip 2000 (11) Smith and Wesson (556) Springfield (14) Springfield Armory (278) Streamlight (10) Surefire (56) Tagua (14) Taurus (394) Thompson Center (130) Timber Creek Outdoors (18) Traditions (55) Trijicon (201) TriStar Sporting Arms (112) Truglo (10) US Peacekeeper (13) UTG (30) Walther (49) Walther Arms (95) Weatherby (279) Winchester (539) Windham Weaponry (19) Yankee Hill Machine Company (38) Show All Join our mailing list! Call 509-928-6887 Store Hours: • Monday thru Friday • 9AM to 5PM Visit us at: Three Gun Nuts 421 S. Dishman Mica Rd Spokane Valley, WA \"Inside Car Works\" Make Model Info Price Inland Manufacturing M-1 Magazine Caliber: 30 Carbine Finish: Parkerized Capacity: 10 + 1 $ 47.88 Warehouse Inland Manufacturing M-1 Magazine Caliber: 30 Carbine Finish: Parkerized Capacity: 15 + 1 $ 47.88 Warehouse Inland Manufacturing M1 Carbine Magazine Caliber: 30 Carbine Finish: Parkerized Capacity: 30 rd. $ 49.21 Warehouse Inland Manufacturing 1911 Caliber: 45 ACP Finish: Stainless Barrel Length: 5\" $ 1138.00 Out Of Stock Inland Manufacturing M1 Carbine Caliber: 30 Carbine Finish: Parkerized Barrel Length: 18\" $ 1359.00 Out Of Stock Inland Manufacturing M1 Carbine Caliber: 30 Carbine Finish: Parkerized Barrel Length: 18\" $ 1208.90 Out Of Stock Inland Manufacturing M1 Carbine Caliber: 30 Carbine Finish: Parkerized Barrel Length: 16.25\" $ 1235.00 Out Of Stock Inland Manufacturing M1 Carbine Caliber: 30 Carbine Finish: Parkerized Barrel Length: 18\" $ 1208.90 Out Of Stock Inland Manufacturing M1 Carbine Caliber: 30 Carbine Finish: Parkerized Barrel Length: 16.25\" $ 1370.00 Out Of Stock Inland Manufacturing M1 Carbine Caliber: 30 Carbine Finish: Parkerized Barrel Length: 12\" $ 1332.00 Out Of Stock Inland Manufacturing M37 Trench Gun Gauge: 12 Gauge Finish: Parkerized Barrel Length: 20\" $ 1293.00 Out Of Stock Inland Manufacturing Suppressor Foam $ 26.60 Out Of Stock Inland Manufacturing Suppressor Foam $ 32.86 Out Of Stock Inland Manufacturing T3 Sniper Carbine Caliber: 30 Carbine Finish: Parkerized Barrel Length: 18\" $ 1429.00 Out Of Stock \"<|eot_id|><|start_header_id|>assistant<|end_header_id|>\n",
      "\n",
      "<think>\n",
      "Okay, so I need to classify this website into one of the four categories: Benign, Gambling, Pornography, or Harmful. Let's start by looking at the domain and content provided.  The domain is \"threegunnuts.com\". The name suggests it's related to firearms since \"gun nuts\" typically refers to enthusiasts. Now, looking at the content, they describe themselves as a local gun shop in Spokane Valley, Washington. They carry new and used firearms, ammunition, and accessories. There are sections like Products, NFA Info (which relates to National Firearms Act items), Services, About Us, etc.  The content lists various manufacturers of firearms, such as Glock, Remington, Smith and Wesson, SIG SAUER, and others. They also list specific products like M1 Carbines, 1911 pistols, suppressors, and other related accessories. The prices are listed for these items, indicating they're selling them.  Now, considering the categories:  - Benign: General info, news, services without explicit content. - Gambling: Promotes betting or casino activities. - Pornography: Explicit sexual content. - Harmful: Engages in illegal or harmful activities.  This site is clearly about firearms. The sale of firearms isn't inherently harmful if it's legal and properly regulated. However, under Indonesian law (UU ITE), selling weapons might fall into the \"Harmful\" category, especially if they're promoting illegal sales or not following proper regulations.  Looking deeper, the content doesn't mention anything about illegal activities. They seem to be a legitimate gun shop listing their products. But since they are dealing with firearms, which can be considered harmful if misused, but in this case, it's more about legal transactions.  Wait, according to the guidelines, \"Harmful\" includes websites that promote or engage in illegal activities like selling weapons without proper licensing. Since the site is a gun shop, perhaps licensed, but without explicit information on their legality, we might still consider them under Harmful because they're dealing with firearms which can be harmful.  But wait, in the examples provided, sites promoting drugs fall into Harmful. Selling guns could also be considered as such if it's illegal. However, the site seems to be a legitimate business, so maybe it's Benign? But no, because selling firearms is a controlled activity and might not fit under Benign.  Wait, looking back at the categories:  Benign includes general services without explicit content. Selling guns could be seen as a service but falls into a regulated category. However, since the site is about selling weapons, which can be harmful if misused, it's better to classify it as Harmful because it's promoting or facilitating access to weapons that can cause harm.  So, putting it all together:  - Domain: threegunnuts.com (suggests firearms) - Content: Describes a gun shop with various firearms and accessories for sale  Therefore, the classification should be 3 - Harmful.\n",
      "</think>\n",
      "```json\n",
      "{\n",
      "  \"answer\": 3,\n",
      "  \"classification\": \"Harmful\",\n",
      "  \"reason\": \"The domain 'threegunnuts.com' suggests a focus on firearms. The content details a gun shop selling various firearms and accessories, which falls under the category of promoting harmful activities as it involves weapons that can cause harm.\",\n",
      "  \"confidence\": 80\n",
      "}\n",
      "```<|eot_id|>\n",
      "\n",
      "\n",
      "==== Training Targets (Masked) ====\n",
      "                                                                                                                                                                                                                                                                                                                                                                                                                                                                                                                                                                                                                                                                                                                                                                                                                                                                                                                                                                                                                                                                                                                                                                                                                                                                                                                                                                                                                                                                                                                                                                                                                                                                                                                                                                                                                                                                                                                                                                                                                                                                                                                                                                                                                                                                                                                                                                                                                                                                                                                                                                                                                                                                                                                                                                                                                                                                                                                                                                                                                                                                                                                                                                                                                                                                                                                                                                                                                                                                                                                                                                                                                                                                                                                                                                                                                                                                                                                                                                                                                                                                                                                                                                                                                                                                                                                                                                                                                                                                                                                                                              <|start_header_id|>assistant<|end_header_id|>\n",
      "\n",
      "<think>\n",
      "Okay, so I need to classify this website into one of the four categories: Benign, Gambling, Pornography, or Harmful. Let's start by looking at the domain and content provided.  The domain is \"threegunnuts.com\". The name suggests it's related to firearms since \"gun nuts\" typically refers to enthusiasts. Now, looking at the content, they describe themselves as a local gun shop in Spokane Valley, Washington. They carry new and used firearms, ammunition, and accessories. There are sections like Products, NFA Info (which relates to National Firearms Act items), Services, About Us, etc.  The content lists various manufacturers of firearms, such as Glock, Remington, Smith and Wesson, SIG SAUER, and others. They also list specific products like M1 Carbines, 1911 pistols, suppressors, and other related accessories. The prices are listed for these items, indicating they're selling them.  Now, considering the categories:  - Benign: General info, news, services without explicit content. - Gambling: Promotes betting or casino activities. - Pornography: Explicit sexual content. - Harmful: Engages in illegal or harmful activities.  This site is clearly about firearms. The sale of firearms isn't inherently harmful if it's legal and properly regulated. However, under Indonesian law (UU ITE), selling weapons might fall into the \"Harmful\" category, especially if they're promoting illegal sales or not following proper regulations.  Looking deeper, the content doesn't mention anything about illegal activities. They seem to be a legitimate gun shop listing their products. But since they are dealing with firearms, which can be considered harmful if misused, but in this case, it's more about legal transactions.  Wait, according to the guidelines, \"Harmful\" includes websites that promote or engage in illegal activities like selling weapons without proper licensing. Since the site is a gun shop, perhaps licensed, but without explicit information on their legality, we might still consider them under Harmful because they're dealing with firearms which can be harmful.  But wait, in the examples provided, sites promoting drugs fall into Harmful. Selling guns could also be considered as such if it's illegal. However, the site seems to be a legitimate business, so maybe it's Benign? But no, because selling firearms is a controlled activity and might not fit under Benign.  Wait, looking back at the categories:  Benign includes general services without explicit content. Selling guns could be seen as a service but falls into a regulated category. However, since the site is about selling weapons, which can be harmful if misused, it's better to classify it as Harmful because it's promoting or facilitating access to weapons that can cause harm.  So, putting it all together:  - Domain: threegunnuts.com (suggests firearms) - Content: Describes a gun shop with various firearms and accessories for sale  Therefore, the classification should be 3 - Harmful.\n",
      "</think>\n",
      "```json\n",
      "{\n",
      "  \"answer\": 3,\n",
      "  \"classification\": \"Harmful\",\n",
      "  \"reason\": \"The domain 'threegunnuts.com' suggests a focus on firearms. The content details a gun shop selling various firearms and accessories, which falls under the category of promoting harmful activities as it involves weapons that can cause harm.\",\n",
      "  \"confidence\": 80\n",
      "}\n",
      "```<|eot_id|>\n"
     ]
    }
   ],
   "source": [
    "# Get a sample from the training set\n",
    "sample_index = 5  # Try different indices\n",
    "sample = trainer.train_dataset[sample_index]\n",
    "\n",
    "# Decode the full input context\n",
    "print(\"==== Full Input Context ====\")\n",
    "print(tokenizer.decode(sample[\"input_ids\"]))\n",
    "print(\"\\n\")\n",
    "\n",
    "# Decode the labels with masking visualization\n",
    "print(\"==== Training Targets (Masked) ====\")\n",
    "masked_labels = []\n",
    "for token_id, label_id in zip(sample[\"input_ids\"], sample[\"labels\"]):\n",
    "    if label_id == -100:\n",
    "        # Show masked tokens as blank spaces\n",
    "        masked_labels.append(\" \")\n",
    "    else:\n",
    "        # Show actual token\n",
    "        masked_labels.append(tokenizer.decode([token_id]))\n",
    "\n",
    "print(\"\".join(masked_labels))"
   ]
  },
  {
   "cell_type": "code",
   "execution_count": 29,
   "id": "136a307b",
   "metadata": {},
   "outputs": [
    {
     "name": "stdout",
     "output_type": "stream",
     "text": [
      "tensor([128000, 128000, 128006,  ...,    534,  74694, 128009])\n",
      "tensor([  -100,   -100,   -100,  ...,    534,  74694, 128009])\n"
     ]
    }
   ],
   "source": [
    "batch = trainer.train_dataset.select(range(2)).with_format(\"torch\")[0]\n",
    "print(batch[\"input_ids\"])\n",
    "print(batch[\"labels\"])\n"
   ]
  },
  {
   "cell_type": "code",
   "execution_count": 30,
   "id": "c2d925c2",
   "metadata": {},
   "outputs": [
    {
     "data": {
      "text/plain": [
       "Dataset({\n",
       "    features: ['conversations', 'text', 'input_ids', 'attention_mask', 'labels'],\n",
       "    num_rows: 776\n",
       "})"
      ]
     },
     "execution_count": 30,
     "metadata": {},
     "output_type": "execute_result"
    }
   ],
   "source": [
    "trainer.train_dataset"
   ]
  },
  {
   "cell_type": "markdown",
   "id": "c221f500",
   "metadata": {},
   "source": [
    "### Memory Stats"
   ]
  },
  {
   "cell_type": "code",
   "execution_count": 31,
   "id": "7d4bd38d",
   "metadata": {},
   "outputs": [
    {
     "name": "stdout",
     "output_type": "stream",
     "text": [
      "GPU = NVIDIA GeForce RTX 3090 Ti. Max memory = 23.551 GB.\n",
      "3.441 GB of memory reserved.\n"
     ]
    }
   ],
   "source": [
    "# @title Show current memory stats\n",
    "gpu_stats = torch.cuda.get_device_properties(0)\n",
    "start_gpu_memory = round(torch.cuda.max_memory_reserved() / 1024 / 1024 / 1024, 3)\n",
    "max_memory = round(gpu_stats.total_memory / 1024 / 1024 / 1024, 3)\n",
    "print(f\"GPU = {gpu_stats.name}. Max memory = {max_memory} GB.\")\n",
    "print(f\"{start_gpu_memory} GB of memory reserved.\")"
   ]
  },
  {
   "cell_type": "code",
   "execution_count": 32,
   "id": "f793d683",
   "metadata": {},
   "outputs": [
    {
     "name": "stderr",
     "output_type": "stream",
     "text": [
      "==((====))==  Unsloth - 2x faster free finetuning | Num GPUs used = 1\n",
      "   \\\\   /|    Num examples = 776 | Num Epochs = 1 | Total steps = 60\n",
      "O^O/ \\_/ \\    Batch size per device = 2 | Gradient accumulation steps = 4\n",
      "\\        /    Data Parallel GPUs = 1 | Total batch size (2 x 4 x 1) = 8\n",
      " \"-____-\"     Trainable parameters = 24,313,856/3,000,000,000 (0.81% trained)\n"
     ]
    },
    {
     "ename": "ValueError",
     "evalue": "Unable to create tensor, you should probably activate truncation and/or padding with 'padding=True' 'truncation=True' to have batched tensors with the same length. Perhaps your features (`labels` in this case) have excessive nesting (inputs type `list` where type `int` is expected).",
     "output_type": "error",
     "traceback": [
      "\u001b[0;31m---------------------------------------------------------------------------\u001b[0m",
      "\u001b[0;31mValueError\u001b[0m                                Traceback (most recent call last)",
      "File \u001b[0;32m~/.conda/envs/unsloth_env/lib/python3.11/site-packages/transformers/tokenization_utils_base.py:777\u001b[0m, in \u001b[0;36mBatchEncoding.convert_to_tensors\u001b[0;34m(self, tensor_type, prepend_batch_axis)\u001b[0m\n\u001b[1;32m    776\u001b[0m \u001b[38;5;28;01mif\u001b[39;00m \u001b[38;5;129;01mnot\u001b[39;00m is_tensor(value):\n\u001b[0;32m--> 777\u001b[0m     tensor \u001b[38;5;241m=\u001b[39m \u001b[43mas_tensor\u001b[49m\u001b[43m(\u001b[49m\u001b[43mvalue\u001b[49m\u001b[43m)\u001b[49m\n\u001b[1;32m    779\u001b[0m     \u001b[38;5;66;03m# Removing this for now in favor of controlling the shape with `prepend_batch_axis`\u001b[39;00m\n\u001b[1;32m    780\u001b[0m     \u001b[38;5;66;03m# # at-least2d\u001b[39;00m\n\u001b[1;32m    781\u001b[0m     \u001b[38;5;66;03m# if tensor.ndim > 2:\u001b[39;00m\n\u001b[1;32m    782\u001b[0m     \u001b[38;5;66;03m#     tensor = tensor.squeeze(0)\u001b[39;00m\n\u001b[1;32m    783\u001b[0m     \u001b[38;5;66;03m# elif tensor.ndim < 2:\u001b[39;00m\n\u001b[1;32m    784\u001b[0m     \u001b[38;5;66;03m#     tensor = tensor[None, :]\u001b[39;00m\n",
      "File \u001b[0;32m~/.conda/envs/unsloth_env/lib/python3.11/site-packages/transformers/tokenization_utils_base.py:739\u001b[0m, in \u001b[0;36mBatchEncoding.convert_to_tensors.<locals>.as_tensor\u001b[0;34m(value, dtype)\u001b[0m\n\u001b[1;32m    738\u001b[0m     \u001b[38;5;28;01mreturn\u001b[39;00m torch\u001b[38;5;241m.\u001b[39mfrom_numpy(np\u001b[38;5;241m.\u001b[39marray(value))\n\u001b[0;32m--> 739\u001b[0m \u001b[38;5;28;01mreturn\u001b[39;00m \u001b[43mtorch\u001b[49m\u001b[38;5;241;43m.\u001b[39;49m\u001b[43mtensor\u001b[49m\u001b[43m(\u001b[49m\u001b[43mvalue\u001b[49m\u001b[43m)\u001b[49m\n",
      "\u001b[0;31mValueError\u001b[0m: expected sequence of length 6475 at dim 1 (got 3867)",
      "\nThe above exception was the direct cause of the following exception:\n",
      "\u001b[0;31mValueError\u001b[0m                                Traceback (most recent call last)",
      "Cell \u001b[0;32mIn[32], line 1\u001b[0m\n\u001b[0;32m----> 1\u001b[0m trainer_stats \u001b[38;5;241m=\u001b[39m \u001b[43mtrainer\u001b[49m\u001b[38;5;241;43m.\u001b[39;49m\u001b[43mtrain\u001b[49m\u001b[43m(\u001b[49m\u001b[43m)\u001b[49m\n",
      "File \u001b[0;32m~/.conda/envs/unsloth_env/lib/python3.11/site-packages/transformers/trainer.py:2245\u001b[0m, in \u001b[0;36mTrainer.train\u001b[0;34m(self, resume_from_checkpoint, trial, ignore_keys_for_eval, **kwargs)\u001b[0m\n\u001b[1;32m   2243\u001b[0m         hf_hub_utils\u001b[38;5;241m.\u001b[39menable_progress_bars()\n\u001b[1;32m   2244\u001b[0m \u001b[38;5;28;01melse\u001b[39;00m:\n\u001b[0;32m-> 2245\u001b[0m     \u001b[38;5;28;01mreturn\u001b[39;00m \u001b[43minner_training_loop\u001b[49m\u001b[43m(\u001b[49m\n\u001b[1;32m   2246\u001b[0m \u001b[43m        \u001b[49m\u001b[43margs\u001b[49m\u001b[38;5;241;43m=\u001b[39;49m\u001b[43margs\u001b[49m\u001b[43m,\u001b[49m\n\u001b[1;32m   2247\u001b[0m \u001b[43m        \u001b[49m\u001b[43mresume_from_checkpoint\u001b[49m\u001b[38;5;241;43m=\u001b[39;49m\u001b[43mresume_from_checkpoint\u001b[49m\u001b[43m,\u001b[49m\n\u001b[1;32m   2248\u001b[0m \u001b[43m        \u001b[49m\u001b[43mtrial\u001b[49m\u001b[38;5;241;43m=\u001b[39;49m\u001b[43mtrial\u001b[49m\u001b[43m,\u001b[49m\n\u001b[1;32m   2249\u001b[0m \u001b[43m        \u001b[49m\u001b[43mignore_keys_for_eval\u001b[49m\u001b[38;5;241;43m=\u001b[39;49m\u001b[43mignore_keys_for_eval\u001b[49m\u001b[43m,\u001b[49m\n\u001b[1;32m   2250\u001b[0m \u001b[43m    \u001b[49m\u001b[43m)\u001b[49m\n",
      "File \u001b[0;32m<string>:268\u001b[0m, in \u001b[0;36m_fast_inner_training_loop\u001b[0;34m(self, batch_size, args, resume_from_checkpoint, trial, ignore_keys_for_eval)\u001b[0m\n",
      "File \u001b[0;32m~/.conda/envs/unsloth_env/lib/python3.11/site-packages/unsloth_zoo/loss_utils.py:271\u001b[0m, in \u001b[0;36m_unsloth_get_batch_samples\u001b[0;34m(self, epoch_iterator, num_batches, device, *args, **kwargs)\u001b[0m\n\u001b[1;32m    269\u001b[0m \u001b[38;5;28;01mfor\u001b[39;00m _ \u001b[38;5;129;01min\u001b[39;00m \u001b[38;5;28mrange\u001b[39m(num_batches):\n\u001b[1;32m    270\u001b[0m     \u001b[38;5;28;01mtry\u001b[39;00m:\n\u001b[0;32m--> 271\u001b[0m         batch_samples \u001b[38;5;241m+\u001b[39m\u001b[38;5;241m=\u001b[39m [\u001b[38;5;28;43mnext\u001b[39;49m\u001b[43m(\u001b[49m\u001b[43mepoch_iterator\u001b[49m\u001b[43m)\u001b[49m]\n\u001b[1;32m    272\u001b[0m     \u001b[38;5;28;01mexcept\u001b[39;00m \u001b[38;5;167;01mStopIteration\u001b[39;00m:\n\u001b[1;32m    273\u001b[0m         \u001b[38;5;28;01mbreak\u001b[39;00m\n",
      "File \u001b[0;32m~/.conda/envs/unsloth_env/lib/python3.11/site-packages/accelerate/data_loader.py:566\u001b[0m, in \u001b[0;36mDataLoaderShard.__iter__\u001b[0;34m(self)\u001b[0m\n\u001b[1;32m    564\u001b[0m \u001b[38;5;66;03m# We iterate one batch ahead to check when we are at the end\u001b[39;00m\n\u001b[1;32m    565\u001b[0m \u001b[38;5;28;01mtry\u001b[39;00m:\n\u001b[0;32m--> 566\u001b[0m     current_batch \u001b[38;5;241m=\u001b[39m \u001b[38;5;28;43mnext\u001b[39;49m\u001b[43m(\u001b[49m\u001b[43mdataloader_iter\u001b[49m\u001b[43m)\u001b[49m\n\u001b[1;32m    567\u001b[0m \u001b[38;5;28;01mexcept\u001b[39;00m \u001b[38;5;167;01mStopIteration\u001b[39;00m:\n\u001b[1;32m    568\u001b[0m     \u001b[38;5;28;01myield\u001b[39;00m\n",
      "File \u001b[0;32m~/.conda/envs/unsloth_env/lib/python3.11/site-packages/torch/utils/data/dataloader.py:708\u001b[0m, in \u001b[0;36m_BaseDataLoaderIter.__next__\u001b[0;34m(self)\u001b[0m\n\u001b[1;32m    705\u001b[0m \u001b[38;5;28;01mif\u001b[39;00m \u001b[38;5;28mself\u001b[39m\u001b[38;5;241m.\u001b[39m_sampler_iter \u001b[38;5;129;01mis\u001b[39;00m \u001b[38;5;28;01mNone\u001b[39;00m:\n\u001b[1;32m    706\u001b[0m     \u001b[38;5;66;03m# TODO(https://github.com/pytorch/pytorch/issues/76750)\u001b[39;00m\n\u001b[1;32m    707\u001b[0m     \u001b[38;5;28mself\u001b[39m\u001b[38;5;241m.\u001b[39m_reset()  \u001b[38;5;66;03m# type: ignore[call-arg]\u001b[39;00m\n\u001b[0;32m--> 708\u001b[0m data \u001b[38;5;241m=\u001b[39m \u001b[38;5;28;43mself\u001b[39;49m\u001b[38;5;241;43m.\u001b[39;49m\u001b[43m_next_data\u001b[49m\u001b[43m(\u001b[49m\u001b[43m)\u001b[49m\n\u001b[1;32m    709\u001b[0m \u001b[38;5;28mself\u001b[39m\u001b[38;5;241m.\u001b[39m_num_yielded \u001b[38;5;241m+\u001b[39m\u001b[38;5;241m=\u001b[39m \u001b[38;5;241m1\u001b[39m\n\u001b[1;32m    710\u001b[0m \u001b[38;5;28;01mif\u001b[39;00m (\n\u001b[1;32m    711\u001b[0m     \u001b[38;5;28mself\u001b[39m\u001b[38;5;241m.\u001b[39m_dataset_kind \u001b[38;5;241m==\u001b[39m _DatasetKind\u001b[38;5;241m.\u001b[39mIterable\n\u001b[1;32m    712\u001b[0m     \u001b[38;5;129;01mand\u001b[39;00m \u001b[38;5;28mself\u001b[39m\u001b[38;5;241m.\u001b[39m_IterableDataset_len_called \u001b[38;5;129;01mis\u001b[39;00m \u001b[38;5;129;01mnot\u001b[39;00m \u001b[38;5;28;01mNone\u001b[39;00m\n\u001b[1;32m    713\u001b[0m     \u001b[38;5;129;01mand\u001b[39;00m \u001b[38;5;28mself\u001b[39m\u001b[38;5;241m.\u001b[39m_num_yielded \u001b[38;5;241m>\u001b[39m \u001b[38;5;28mself\u001b[39m\u001b[38;5;241m.\u001b[39m_IterableDataset_len_called\n\u001b[1;32m    714\u001b[0m ):\n",
      "File \u001b[0;32m~/.conda/envs/unsloth_env/lib/python3.11/site-packages/torch/utils/data/dataloader.py:764\u001b[0m, in \u001b[0;36m_SingleProcessDataLoaderIter._next_data\u001b[0;34m(self)\u001b[0m\n\u001b[1;32m    762\u001b[0m \u001b[38;5;28;01mdef\u001b[39;00m \u001b[38;5;21m_next_data\u001b[39m(\u001b[38;5;28mself\u001b[39m):\n\u001b[1;32m    763\u001b[0m     index \u001b[38;5;241m=\u001b[39m \u001b[38;5;28mself\u001b[39m\u001b[38;5;241m.\u001b[39m_next_index()  \u001b[38;5;66;03m# may raise StopIteration\u001b[39;00m\n\u001b[0;32m--> 764\u001b[0m     data \u001b[38;5;241m=\u001b[39m \u001b[38;5;28;43mself\u001b[39;49m\u001b[38;5;241;43m.\u001b[39;49m\u001b[43m_dataset_fetcher\u001b[49m\u001b[38;5;241;43m.\u001b[39;49m\u001b[43mfetch\u001b[49m\u001b[43m(\u001b[49m\u001b[43mindex\u001b[49m\u001b[43m)\u001b[49m  \u001b[38;5;66;03m# may raise StopIteration\u001b[39;00m\n\u001b[1;32m    765\u001b[0m     \u001b[38;5;28;01mif\u001b[39;00m \u001b[38;5;28mself\u001b[39m\u001b[38;5;241m.\u001b[39m_pin_memory:\n\u001b[1;32m    766\u001b[0m         data \u001b[38;5;241m=\u001b[39m _utils\u001b[38;5;241m.\u001b[39mpin_memory\u001b[38;5;241m.\u001b[39mpin_memory(data, \u001b[38;5;28mself\u001b[39m\u001b[38;5;241m.\u001b[39m_pin_memory_device)\n",
      "File \u001b[0;32m~/.conda/envs/unsloth_env/lib/python3.11/site-packages/torch/utils/data/_utils/fetch.py:55\u001b[0m, in \u001b[0;36m_MapDatasetFetcher.fetch\u001b[0;34m(self, possibly_batched_index)\u001b[0m\n\u001b[1;32m     53\u001b[0m \u001b[38;5;28;01melse\u001b[39;00m:\n\u001b[1;32m     54\u001b[0m     data \u001b[38;5;241m=\u001b[39m \u001b[38;5;28mself\u001b[39m\u001b[38;5;241m.\u001b[39mdataset[possibly_batched_index]\n\u001b[0;32m---> 55\u001b[0m \u001b[38;5;28;01mreturn\u001b[39;00m \u001b[38;5;28;43mself\u001b[39;49m\u001b[38;5;241;43m.\u001b[39;49m\u001b[43mcollate_fn\u001b[49m\u001b[43m(\u001b[49m\u001b[43mdata\u001b[49m\u001b[43m)\u001b[49m\n",
      "File \u001b[0;32m~/.conda/envs/unsloth_env/lib/python3.11/site-packages/transformers/data/data_collator.py:46\u001b[0m, in \u001b[0;36mDataCollatorMixin.__call__\u001b[0;34m(self, features, return_tensors)\u001b[0m\n\u001b[1;32m     44\u001b[0m     \u001b[38;5;28;01mreturn\u001b[39;00m \u001b[38;5;28mself\u001b[39m\u001b[38;5;241m.\u001b[39mtf_call(features)\n\u001b[1;32m     45\u001b[0m \u001b[38;5;28;01melif\u001b[39;00m return_tensors \u001b[38;5;241m==\u001b[39m \u001b[38;5;124m\"\u001b[39m\u001b[38;5;124mpt\u001b[39m\u001b[38;5;124m\"\u001b[39m:\n\u001b[0;32m---> 46\u001b[0m     \u001b[38;5;28;01mreturn\u001b[39;00m \u001b[38;5;28;43mself\u001b[39;49m\u001b[38;5;241;43m.\u001b[39;49m\u001b[43mtorch_call\u001b[49m\u001b[43m(\u001b[49m\u001b[43mfeatures\u001b[49m\u001b[43m)\u001b[49m\n\u001b[1;32m     47\u001b[0m \u001b[38;5;28;01melif\u001b[39;00m return_tensors \u001b[38;5;241m==\u001b[39m \u001b[38;5;124m\"\u001b[39m\u001b[38;5;124mnp\u001b[39m\u001b[38;5;124m\"\u001b[39m:\n\u001b[1;32m     48\u001b[0m     \u001b[38;5;28;01mreturn\u001b[39;00m \u001b[38;5;28mself\u001b[39m\u001b[38;5;241m.\u001b[39mnumpy_call(features)\n",
      "File \u001b[0;32m~/.conda/envs/unsloth_env/lib/python3.11/site-packages/transformers/data/data_collator.py:1013\u001b[0m, in \u001b[0;36mDataCollatorForLanguageModeling.torch_call\u001b[0;34m(self, examples)\u001b[0m\n\u001b[1;32m   1010\u001b[0m     \u001b[38;5;28mself\u001b[39m\u001b[38;5;241m.\u001b[39mcreate_rng()\n\u001b[1;32m   1012\u001b[0m \u001b[38;5;28;01mif\u001b[39;00m \u001b[38;5;28misinstance\u001b[39m(examples[\u001b[38;5;241m0\u001b[39m], Mapping):\n\u001b[0;32m-> 1013\u001b[0m     batch \u001b[38;5;241m=\u001b[39m \u001b[43mpad_without_fast_tokenizer_warning\u001b[49m\u001b[43m(\u001b[49m\n\u001b[1;32m   1014\u001b[0m \u001b[43m        \u001b[49m\u001b[38;5;28;43mself\u001b[39;49m\u001b[38;5;241;43m.\u001b[39;49m\u001b[43mtokenizer\u001b[49m\u001b[43m,\u001b[49m\u001b[43m \u001b[49m\u001b[43mexamples\u001b[49m\u001b[43m,\u001b[49m\u001b[43m \u001b[49m\u001b[43mreturn_tensors\u001b[49m\u001b[38;5;241;43m=\u001b[39;49m\u001b[38;5;124;43m\"\u001b[39;49m\u001b[38;5;124;43mpt\u001b[39;49m\u001b[38;5;124;43m\"\u001b[39;49m\u001b[43m,\u001b[49m\u001b[43m \u001b[49m\u001b[43mpad_to_multiple_of\u001b[49m\u001b[38;5;241;43m=\u001b[39;49m\u001b[38;5;28;43mself\u001b[39;49m\u001b[38;5;241;43m.\u001b[39;49m\u001b[43mpad_to_multiple_of\u001b[49m\n\u001b[1;32m   1015\u001b[0m \u001b[43m    \u001b[49m\u001b[43m)\u001b[49m\n\u001b[1;32m   1016\u001b[0m \u001b[38;5;28;01melse\u001b[39;00m:\n\u001b[1;32m   1017\u001b[0m     batch \u001b[38;5;241m=\u001b[39m {\n\u001b[1;32m   1018\u001b[0m         \u001b[38;5;124m\"\u001b[39m\u001b[38;5;124minput_ids\u001b[39m\u001b[38;5;124m\"\u001b[39m: _torch_collate_batch(examples, \u001b[38;5;28mself\u001b[39m\u001b[38;5;241m.\u001b[39mtokenizer, pad_to_multiple_of\u001b[38;5;241m=\u001b[39m\u001b[38;5;28mself\u001b[39m\u001b[38;5;241m.\u001b[39mpad_to_multiple_of)\n\u001b[1;32m   1019\u001b[0m     }\n",
      "File \u001b[0;32m~/.conda/envs/unsloth_env/lib/python3.11/site-packages/transformers/data/data_collator.py:67\u001b[0m, in \u001b[0;36mpad_without_fast_tokenizer_warning\u001b[0;34m(tokenizer, *pad_args, **pad_kwargs)\u001b[0m\n\u001b[1;32m     64\u001b[0m tokenizer\u001b[38;5;241m.\u001b[39mdeprecation_warnings[\u001b[38;5;124m\"\u001b[39m\u001b[38;5;124mAsking-to-pad-a-fast-tokenizer\u001b[39m\u001b[38;5;124m\"\u001b[39m] \u001b[38;5;241m=\u001b[39m \u001b[38;5;28;01mTrue\u001b[39;00m\n\u001b[1;32m     66\u001b[0m \u001b[38;5;28;01mtry\u001b[39;00m:\n\u001b[0;32m---> 67\u001b[0m     padded \u001b[38;5;241m=\u001b[39m \u001b[43mtokenizer\u001b[49m\u001b[38;5;241;43m.\u001b[39;49m\u001b[43mpad\u001b[49m\u001b[43m(\u001b[49m\u001b[38;5;241;43m*\u001b[39;49m\u001b[43mpad_args\u001b[49m\u001b[43m,\u001b[49m\u001b[43m \u001b[49m\u001b[38;5;241;43m*\u001b[39;49m\u001b[38;5;241;43m*\u001b[39;49m\u001b[43mpad_kwargs\u001b[49m\u001b[43m)\u001b[49m\n\u001b[1;32m     68\u001b[0m \u001b[38;5;28;01mfinally\u001b[39;00m:\n\u001b[1;32m     69\u001b[0m     \u001b[38;5;66;03m# Restore the state of the warning.\u001b[39;00m\n\u001b[1;32m     70\u001b[0m     tokenizer\u001b[38;5;241m.\u001b[39mdeprecation_warnings[\u001b[38;5;124m\"\u001b[39m\u001b[38;5;124mAsking-to-pad-a-fast-tokenizer\u001b[39m\u001b[38;5;124m\"\u001b[39m] \u001b[38;5;241m=\u001b[39m warning_state\n",
      "File \u001b[0;32m~/.conda/envs/unsloth_env/lib/python3.11/site-packages/transformers/tokenization_utils_base.py:3407\u001b[0m, in \u001b[0;36mPreTrainedTokenizerBase.pad\u001b[0;34m(self, encoded_inputs, padding, max_length, pad_to_multiple_of, padding_side, return_attention_mask, return_tensors, verbose)\u001b[0m\n\u001b[1;32m   3404\u001b[0m             batch_outputs[key] \u001b[38;5;241m=\u001b[39m []\n\u001b[1;32m   3405\u001b[0m         batch_outputs[key]\u001b[38;5;241m.\u001b[39mappend(value)\n\u001b[0;32m-> 3407\u001b[0m \u001b[38;5;28;01mreturn\u001b[39;00m \u001b[43mBatchEncoding\u001b[49m\u001b[43m(\u001b[49m\u001b[43mbatch_outputs\u001b[49m\u001b[43m,\u001b[49m\u001b[43m \u001b[49m\u001b[43mtensor_type\u001b[49m\u001b[38;5;241;43m=\u001b[39;49m\u001b[43mreturn_tensors\u001b[49m\u001b[43m)\u001b[49m\n",
      "File \u001b[0;32m~/.conda/envs/unsloth_env/lib/python3.11/site-packages/transformers/tokenization_utils_base.py:241\u001b[0m, in \u001b[0;36mBatchEncoding.__init__\u001b[0;34m(self, data, encoding, tensor_type, prepend_batch_axis, n_sequences)\u001b[0m\n\u001b[1;32m    237\u001b[0m     n_sequences \u001b[38;5;241m=\u001b[39m encoding[\u001b[38;5;241m0\u001b[39m]\u001b[38;5;241m.\u001b[39mn_sequences\n\u001b[1;32m    239\u001b[0m \u001b[38;5;28mself\u001b[39m\u001b[38;5;241m.\u001b[39m_n_sequences \u001b[38;5;241m=\u001b[39m n_sequences\n\u001b[0;32m--> 241\u001b[0m \u001b[38;5;28;43mself\u001b[39;49m\u001b[38;5;241;43m.\u001b[39;49m\u001b[43mconvert_to_tensors\u001b[49m\u001b[43m(\u001b[49m\u001b[43mtensor_type\u001b[49m\u001b[38;5;241;43m=\u001b[39;49m\u001b[43mtensor_type\u001b[49m\u001b[43m,\u001b[49m\u001b[43m \u001b[49m\u001b[43mprepend_batch_axis\u001b[49m\u001b[38;5;241;43m=\u001b[39;49m\u001b[43mprepend_batch_axis\u001b[49m\u001b[43m)\u001b[49m\n",
      "File \u001b[0;32m~/.conda/envs/unsloth_env/lib/python3.11/site-packages/transformers/tokenization_utils_base.py:793\u001b[0m, in \u001b[0;36mBatchEncoding.convert_to_tensors\u001b[0;34m(self, tensor_type, prepend_batch_axis)\u001b[0m\n\u001b[1;32m    788\u001b[0m         \u001b[38;5;28;01mif\u001b[39;00m key \u001b[38;5;241m==\u001b[39m \u001b[38;5;124m\"\u001b[39m\u001b[38;5;124moverflowing_tokens\u001b[39m\u001b[38;5;124m\"\u001b[39m:\n\u001b[1;32m    789\u001b[0m             \u001b[38;5;28;01mraise\u001b[39;00m \u001b[38;5;167;01mValueError\u001b[39;00m(\n\u001b[1;32m    790\u001b[0m                 \u001b[38;5;124m\"\u001b[39m\u001b[38;5;124mUnable to create tensor returning overflowing tokens of different lengths. \u001b[39m\u001b[38;5;124m\"\u001b[39m\n\u001b[1;32m    791\u001b[0m                 \u001b[38;5;124m\"\u001b[39m\u001b[38;5;124mPlease see if a fast version of this tokenizer is available to have this feature available.\u001b[39m\u001b[38;5;124m\"\u001b[39m\n\u001b[1;32m    792\u001b[0m             ) \u001b[38;5;28;01mfrom\u001b[39;00m \u001b[38;5;21;01me\u001b[39;00m\n\u001b[0;32m--> 793\u001b[0m         \u001b[38;5;28;01mraise\u001b[39;00m \u001b[38;5;167;01mValueError\u001b[39;00m(\n\u001b[1;32m    794\u001b[0m             \u001b[38;5;124m\"\u001b[39m\u001b[38;5;124mUnable to create tensor, you should probably activate truncation and/or padding with\u001b[39m\u001b[38;5;124m\"\u001b[39m\n\u001b[1;32m    795\u001b[0m             \u001b[38;5;124m\"\u001b[39m\u001b[38;5;124m \u001b[39m\u001b[38;5;124m'\u001b[39m\u001b[38;5;124mpadding=True\u001b[39m\u001b[38;5;124m'\u001b[39m\u001b[38;5;124m \u001b[39m\u001b[38;5;124m'\u001b[39m\u001b[38;5;124mtruncation=True\u001b[39m\u001b[38;5;124m'\u001b[39m\u001b[38;5;124m to have batched tensors with the same length. Perhaps your\u001b[39m\u001b[38;5;124m\"\u001b[39m\n\u001b[1;32m    796\u001b[0m             \u001b[38;5;124mf\u001b[39m\u001b[38;5;124m\"\u001b[39m\u001b[38;5;124m features (`\u001b[39m\u001b[38;5;132;01m{\u001b[39;00mkey\u001b[38;5;132;01m}\u001b[39;00m\u001b[38;5;124m` in this case) have excessive nesting (inputs type `list` where type `int` is\u001b[39m\u001b[38;5;124m\"\u001b[39m\n\u001b[1;32m    797\u001b[0m             \u001b[38;5;124m\"\u001b[39m\u001b[38;5;124m expected).\u001b[39m\u001b[38;5;124m\"\u001b[39m\n\u001b[1;32m    798\u001b[0m         ) \u001b[38;5;28;01mfrom\u001b[39;00m \u001b[38;5;21;01me\u001b[39;00m\n\u001b[1;32m    800\u001b[0m \u001b[38;5;28;01mreturn\u001b[39;00m \u001b[38;5;28mself\u001b[39m\n",
      "\u001b[0;31mValueError\u001b[0m: Unable to create tensor, you should probably activate truncation and/or padding with 'padding=True' 'truncation=True' to have batched tensors with the same length. Perhaps your features (`labels` in this case) have excessive nesting (inputs type `list` where type `int` is expected)."
     ]
    }
   ],
   "source": [
    "trainer_stats = trainer.train()"
   ]
  },
  {
   "cell_type": "code",
   "execution_count": 27,
   "id": "4d15042a",
   "metadata": {},
   "outputs": [
    {
     "name": "stdout",
     "output_type": "stream",
     "text": [
      "1099.2794 seconds used for training.\n",
      "18.32 minutes used for training.\n",
      "Peak reserved memory = 5.771 GB.\n",
      "Peak reserved memory for training = 2.33 GB.\n",
      "Peak reserved memory % of max memory = 24.504 %.\n",
      "Peak reserved memory for training % of max memory = 9.893 %.\n"
     ]
    }
   ],
   "source": [
    "used_memory = round(torch.cuda.max_memory_reserved() / 1024 / 1024 / 1024, 3)\n",
    "used_memory_for_lora = round(used_memory - start_gpu_memory, 3)\n",
    "used_percentage = round(used_memory         /max_memory*100, 3)\n",
    "lora_percentage = round(used_memory_for_lora/max_memory*100, 3)\n",
    "print(f\"{trainer_stats.metrics['train_runtime']} seconds used for training.\")\n",
    "print(f\"{round(trainer_stats.metrics['train_runtime']/60, 2)} minutes used for training.\")\n",
    "print(f\"Peak reserved memory = {used_memory} GB.\")\n",
    "print(f\"Peak reserved memory for training = {used_memory_for_lora} GB.\")\n",
    "print(f\"Peak reserved memory % of max memory = {used_percentage} %.\")\n",
    "print(f\"Peak reserved memory for training % of max memory = {lora_percentage} %.\")"
   ]
  },
  {
   "cell_type": "code",
   "execution_count": 36,
   "id": "8e0197b0",
   "metadata": {},
   "outputs": [
    {
     "name": "stdout",
     "output_type": "stream",
     "text": [
      "Classify the given URL as 0 (benign), 1 (gambling), 2 (pornography), or 3 (harmful). Output MUST be JSON.\n",
      "\\nDomain: jitutogel.net, Content: \\\"Whatsapp Telegram Livechat DAFTAR LOGIN BERANDA SLOT GAMES LIVE CASINO POKER ONLINE E-SPORTS ARCADE LOTTERY PROMOTION Jackpot Gaming Playstar TTG Slots Spadegaming RedTiger GMW CQ9 Gaming Live Gaming Evolution Gaming Sexy Gaming SAgaming HOgaming Gameplay OpusGaming Sports Gaming CMD368 SBOBET UBOBET TFGaming Ultraplay SabaEsports JituTogel: Serunya Game Online dengan Hadiah Uang Nyata! Penyedia Games Metode Pembayaran Bank Cimb Niaga BCA Danamon Permata Mandiri BNI BRI Panin Pulsa XL Axiata Tri Telkomsel Axis E-Money QRIS Dana OVO LinkAja Gopay ©2024 jitutogel. All rights reserved | 18+ LIVECHAT\\\"\"urls\"urlsurlsurlsurlsurlsurlsurlsurlsurlsurlsurlsurlsurlsurlsurlsurlsurlsurlsurlsurlsurlsurlsurlsurlsurlsurlsurlsurlsurlsurlsurlsurlsurlsurlsurlsurlsurlsurlsurlsurlsurlsurlsurlsurlsurlsurlsurlsurlsurlsurlsurlsurlsurlsurlsurlsurlsurlsurlsurlsurlsurlsurlsurlsurlsurlsurlsurlsurlsurlsurlsurlsurlsurlsurlsurlsurlsurlsurlsurlsurlsurlsurlsurlsurlsurlsurlsurlsurlsurlsurlsurlsurlsurlsurlsurlsurlsurlsurlsurlsurlsurlsurlsurlsurlsurlsurlsurlsurlsurlsurlsurlsurlsurlsurlsurlsurlsurlsurlsurlsurlsurlsurlsurlsurlsurlsurlsurlsurlsurlsurlsurlsurlsurlsurlsurlsurlsurlsurlsurlsurlsurlsurlsurlsurlsurlsurlsurlsurlsurlsurlsurlsurlsurlsurlsurlsurlsurlsurlsurlsurlsurlsurlsurlsurlsurlsurlsurlsurlsurlsurlsurlsurlsurlsurlsurlsurlsurlsurlsurlsurlsurlsurlsurlsurlsurlsurlsurlsurlsurlsurlsurlsurlsurlsurlsurlsurlsurlsurlsurlsurlsurlsurlsurlsurlsurlsurlsurlsurlsurlsurlsurlsurlsurlsurlsurlsurlsurlsurlsurlsurlsurlsurlsurlsurlsurlsurlsurlsurlsurlsurlsurlsurlsurlsurlsurlsurlsurlsurlsurlsurlsurlsurlsurlsurlsurlsurlsurlsurlsurlsurlsurlsurlsurlsurlsurlsurlsurlsurlsurlsurlsurlsurlsurlsurlsurlsurlsurlsurlsurlsurlsurlsurlsurlsurlsurlsurlsurlsurlsurlsurlsurlsurlsurlsurlsurlsurlsurlsurlsurlsurlsurlsurlsurlsurlsurlsurlsurlsurlsurlsurlsurlsurlsurlsurlsurlsurlsurlsurlsurlsurlsurlsurlsurlsurlsurlsurlsurlsurlsurlsurlsurlsurlsurlsurlsurlsurlsurlsurlsurlsurlsurlsurlsurlsurlsurlsurlsurlsurlsurlsurlsurlsurlsurlsurlsurlsurlsurlsurlsurlsurlsurlsurlsurlsurlsurlsurlsurlsurlsurlsurlsurlsurlsurlsurlsurlsurlsurlsurlsurlsurlsurlsurlsurlsurlsurlsurlsurlsurlsurlsurlsurlsurlsurlsurlsurlsurlsurlsurlsurlsurlsurlsurlsurlsurlsurlsurlsurlsurlsurlsurlsurlsurlsurlsurlsurlsurlsurlsurlsurlsurlsurlsurlsurlsurlsurlsurlsurlsurlsurlsurlsurlsurlsurlsurlsurlsurlsurlsurlsurlsurlsurlsurlsurlsurlsurlsurlsurlsurlsurlsurlsurlsurlsurlsurlsurlsurlsurlsurlsurlsurlsurlsurlsurlsurlsurlsurlsurlsurlsurlsurlsurlsurlsurlsurlsurlsurlsurlsurlsurlsurlsurlsurlsurlsurlsurlsurlsurlsurlsurlsurlsurlsurlsurlsurlsurlsurlsurlsurlsurlsurlsurlsurlsurlsurlsurlsurlsurlsurlsurlsurlsurlsurlsurlsurlsurlsurlsurlsurlsurlsurlsurlsurlsurlsurlsurlsurlsurlsurlsurlsurlsurlsurlsurlsurlsurlsurlsurlsurlsurlsurlsurlsurlsurlsurlsurlsurlsurlsurlsurlsurlsurlsurlsurlsurlsurlsurlsurlsurlsurlsurlsurlsurlsurlsurlsurlsurlsurlsurlsurlsurlsurlsurlsurlsurlsurlsurlsurlsurls\n"
     ]
    }
   ],
   "source": [
    "FastLanguageModel.for_inference(model) # Enable native 2x faster inference\n",
    "\n",
    "# Load the system prompt from the file\n",
    "with open('./prompt/labelling_promptv4.txt', 'r') as system_file:\n",
    "    system_prompt = system_file.read()\n",
    "\n",
    "# Load the label from the file\n",
    "with open('./prompt/class_3_sample1.txt', 'r') as label_file:\n",
    "    label = label_file.read()\n",
    "\n",
    "# Define the messages\n",
    "messages = [\n",
    "    {\"role\": \"system\", \"content\": system_prompt},\n",
    "    {\"role\": \"user\", \"content\": f\"Classify the given URL as 0 (benign), 1 (gambling), 2 (pornography), or 3 (harmful). Output MUST be JSON.\\n{label}\"}\n",
    "]\n",
    "inputs = tokenizer.apply_chat_template(\n",
    "    messages,\n",
    "    tokenize = True,\n",
    "    add_generation_prompt = True, # Must add for generation\n",
    "    return_tensors = \"pt\",\n",
    ").to(\"cuda\")\n",
    "\n",
    "from transformers import TextStreamer\n",
    "text_streamer = TextStreamer(tokenizer, skip_prompt = True)\n",
    "_ = model.generate(input_ids = inputs, streamer = text_streamer, max_new_tokens = 800,\n",
    "                   use_cache = True, temperature = 0.4, min_p = 0.5)"
   ]
  },
  {
   "cell_type": "code",
   "execution_count": 32,
   "id": "96d7d13f",
   "metadata": {},
   "outputs": [
    {
     "name": "stdout",
     "output_type": "stream",
     "text": [
      "[{'role': 'system', 'content': 'You are an Expert Website Classifier tasked with categorizing websites (using provided Domain & Content) into distinct categories: **0 - Benign**, **1 - Gambling**, **2 - Pornography**, or **3 - Harmful**. Output strict JSON including classification, reason, and a point-based confidence score (0-100). This aids a sophisticated website prediction system for digital safety.\\n\\n### **Categories & Definitions:**\\n\\n-   **0 - Benign:** General info, news, entertainment, services, e-commerce, educational sites, blogs, informational pages, and general entertainment sites. No gambling/porn themes.\\n    -   **Includes:** Educational discussion of sensitive topics (drugs, gambling, adult, illegal), suggestive content (dating, lingerie) *without* explicit material, drugs for educational or news purposes (e.g., addiction recovery, medical cannabis research).\\n\\n-   **1 - Gambling:** Promotes/facilitates betting, casino, poker, lottery, wagering. Includes online betting platforms, casinos, poker sites, lottery sites, and any website that encourages or provides means for users to wager money on games of chance or skill.\\n    -   **Keywords:** betting, casino, poker, odds, jackpot, slots, roulette, judi, slot gacor, togel, similar gambling-related terminology within their domain name or content.\\n    \\n-   **2 - Pornography:** These are websites that contain explicit sexual content intended to cause arousal. Explicit sexual content (images, videos, text) for arousal. Immoral content (bestiality, child exploitation). or links to such materials. \\n    -   **Keywords:** porn, bokep, sex, xxx, adult, nude, erotic, explicit video/photo.\\n\\n- **3 - Harmful**: Websites that does not fall to Benign, Gambling, and Pornography category. These websites engage in or promote activities harmful to users or violating laws/regulations, including:\\n    - Malware Distribution: Hosting/downloading computer viruses, worms, ransomware, spyware, etc.\\n    - Cybercrime: Phishing kits, hacking tools, stolen data markets, carding forums.\\n    - Extremism & Terrorism: Content inciting violence, extremist ideologies, or terrorist recruitment.\\n    - Violations of Indonesian Law:\\n        - Insults, defamation, blackmail, or threats.\\n        - Hoaxes/misleading news, hate speech, or incitement of violence.\\n    - Copyright Infringement/Piracy: Illegal software/cracks, torrents, pirated media.\\n    - Drugs/Narcotics: Sale/promotion of illegal drugs (e.g., cocaine, heroin) or unregulated pharmaceuticals.\\n    - Weapons: Sale of illegal firearms, explosives, or weapons.\\n    - Other Illegal Activities: Counterfeit goods, money laundering, human trafficking.\\n    - **Examples:**  \\n        - Illegal: `darknet-drugs.com` (drug sales), `pirated-movies.id` (piracy).  \\n        - Harmful: `extremist-forum.net` (terrorism recruitment), `hackers-tools.org` (phishing kits).  \\n        - Scam/phishng: `hadiah-telkomsel7.blogspot.com` (non-genuine website).\\n    - **Keywords**:\\nmalware, ransomware, phishing, hack, terrorism, jual narkoba, senjata ilegal, konten SARA, berita bohong, ancaman, pembajakan, cracked software, carding, darknet.\\n    - **Exceptions:** \\n        - Licensed/unlicensed gambling → **1 - Gambling**; scams → **3 - Harmful**.\\n\\n\\n### **Input Data Context:**\\n\\nYou will be provided with data entries, each consisting of two primary fields:\\n\\n*   **Domain:** The domain name or URL of the website (e.g., `example.com`, `gamble-site.net`). This can provide hints about the website\\'s purpose.\\n*   **Content:**  The textual content scraped from the website. This content offers detailed information about the website\\'s topics, services, and themes.\\n\\n### **Labeling Instructions:**\\n\\nAnalyze both the **Domain** and the **Content** provided. Use keywords and contextual clues from both to determine the most appropriate category for the website.  Consider the primary purpose and content focus of the website when classifying.\\n\\n### **Confidence Assessment Guidelines: Point-Based System (Total Possible Points: 100)**\\n\\nTo determine the **confidence** level (0-100) for your classification, evaluate the following factors and sum up the points.  The total points will directly correspond to the confidence percentage (e.g., 95 points = 95% confidence).\\n\\n#### **I. Keyword Strength and Relevance (Maximum 40 Points)**\\n*   **(40 Points):  Exceptional Keyword Strength: Explicit and Overwhelming Keywords in BOTH Domain and Content:** Presence of extremely explicit and overwhelmingly strong keywords that are *unquestionably* indicative of a specific category in *both* the domain name AND the website content. These keywords leave absolutely no doubt about the website\\'s nature. (e.g., Domain: `casino-royal-betting.com`, Content:  \"Gamble now and win HUGE jackpots on slots, poker, roulette! Real money betting!\").  This represents the absolute strongest keyword signal possible.\\n*   **(35 Points): Clear and Strong Keywords in BOTH Domain and Content:**  Presence of highly explicit keywords strongly indicative of a specific category in both the domain name AND the website content. (e.g., Domain: `bet.com`, Content:  \"Bet on sports and casino games!\").\\n*   **(25 Points): Strong Keywords in EITHER Domain OR Content:** Presence of highly explicit keywords strongly indicative of a specific category in EITHER the domain name OR the website content, but not both.\\n*   **(15 Points): Some Relevant Keywords:** Presence of keywords related to a category, but they are less explicit, less frequent, or require more contextual interpretation in either domain or content.\\n*   **(0 Points): Weak or Generic Keywords:** Lack of clear category-specific keywords in both domain and content. Keywords are generic and do not strongly suggest any specific category.\\n\\n#### **II. Domain and Content Alignment (Maximum 30 Points)**\\n\\n*   **(30 Points): Strong Domain and Content Alignment:** Domain name strongly and unambiguously suggests a category, and the website content consistently and explicitly reinforces that category.  They tell the same clear story.\\n*   **(15 Points): Partial Domain and Content Alignment:** Domain name and content generally point towards the same category, but the alignment might be less direct, slightly ambiguous, or require some interpretation to connect them.\\n*   **(0 Points): Domain-Content Mismatch or No Alignment:** Domain name suggests one thing, but the content is unclear, suggests something different, or there\\'s no clear connection between the domain and the content\\'s apparent purpose.\\n\\n#### **III. Content Clarity and Unambiguity (Maximum 20 Points)**\\n\\n*   **(20 Points): Unambiguous and Explicit Content:** The website content is very clear, direct, and leaves virtually no room for interpretation. It unambiguously falls into one of the defined categories.\\n*   **(10 Points): Content Requires Some Interpretation:** The content generally points to a category, but requires some interpretation to confidently assign it.  There might be subtle hints, implied meanings, or a need to infer the primary purpose.\\n*   **(0 Points): Ambiguous or Conflicting Content:** The website content is vague, contradictory, or could be reasonably interpreted in multiple ways, making it difficult to confidently assign a category.\\n\\n#### **IV. Category Indicator Strength (Maximum 10 Points)**\\n\\n*   **(10 Points): Multiple Strong Category Indicators:** Presence of numerous strong and clear indicators for a specific category throughout the domain and content (e.g., for Pornography: explicit keywords, descriptions of sexual acts, calls to action to view adult content, age verification prompts).\\n*   **(5 Points): Some Category Indicators Present:** Presence of a few indicators for a category, but they are not overwhelmingly strong or numerous.\\n*   **(0 Points): Lack of Category Indicators:** Few or no clear indicators for any of the defined categories are present in the domain and content.\\n\\n#### **Calculation:**\\n\\n1.  For each of the four sections (I-IV), assess the website and select the point value that best describes the presence of the described factors.\\n2.  Sum up the points from all four sections.\\n3.  The total sum represents the confidence level in percentage (%).\\n\\n#### **Confidence Level Ranges (for reference - already implicitly defined by points):**\\n\\n*   **High Confidence (80-100 Points):**  Strong evidence across multiple factors pointing clearly to a category.\\n*   **Medium Confidence (50-79 Points):** Moderate evidence, some ambiguity or less directness in indicators.\\n*   **Low Confidence (0-49 Points):** Weak or conflicting evidence, high uncertainty about the correct category.\\n\\n#### **Example:**\\n\\nLet\\'s say you are classifying `lucky-slots-online.com` with content about slot games and bonuses.\\n\\n*   **I. Keyword Strength:** Strong keywords in both Domain and Content (e.g., \"slots,\" \"online,\" \"win,\" \"bonuses\") - **25 Points**\\n*   **II. Domain-Content Alignment:** Domain and content strongly align with Gambling - **30 Points**\\n*   **III. Content Clarity:** Content is very clear about gambling activities - **20 Points**\\n*   **IV. Category Indicators:** Multiple indicators of gambling (games, bonuses, calls to action) - **10 Points**\\n\\n**Total Points: 25 + 30 + 20 + 10 = 85 Points.  Confidence: 85%**\\n\\n#### **Using this Point System:**\\n\\nWhen generating the \"reason\" for your classification, you can now also briefly mention the points you assigned for each section to justify the final confidence score. For example:\\n\\n```json\\n{\\n  \"answer\": 1,\\n  \"classification\": \"Gambling\",\\n  \"reason\": \"Strong keywords in domain and content (25 pts), strong domain-content alignment (30 pts), clear gambling content (20 pts), multiple category indicators (10 pts). Total 85 points.\",\\n  \"confidence\": 85\\n}\\n```\\n\\n### **Output Requirements: STRICTLY ADHERE TO JSON FORMAT**\\n\\nFor each website, you **MUST** provide your classification in the following **JSON format ONLY**.  **No other format is acceptable.**\\n\\n```json\\n{\\n  \"answer\": (integer: 0, 1, 2, or 3),\\n  \"classification\": (string: \"Benign\", \"Gambling\", \"Pornography\", or \"Harmful\"),\\n  \"reason\": (string: \"Brief explanation of the classification using keywords and hints from the domain and content.\"),\\n  \"confidence\": (integer: 0 to 100, \"Level of confidence in the classification\")\\n}\\n```\\n\\n**Example Input and Expected Output:**\\n\\n**1st Sample**\\n\\n**Input Data:**\\n\\n```\\nDomain: news-today.info\\nContent: Welcome to News Today! Get the latest breaking news, top stories, and in-depth analysis from around the world. Covering politics, business, technology, sports, and culture. Stay informed with News Today - your source for reliable journalism.\\n```\\n\\n**Expected Output:**\\n\\n```json\\n{\\n  \"answer\": 0,\\n  \"classification\": \"Benign\",\\n  \"reason\": \"Domain \\'news-today.info\\' and content mention \\'breaking news,\\' \\'top stories,\\' \\'analysis,\\' \\'reliable journalism,\\' indicating a general information/news website. Strong keywords in domain and content (35 pts), strong domain-content alignment (30 pts), unambiguous content (20 pts), some category indicators (5 pts). Total 90 points.\",\\n  \"confidence\": 90\\n}\\n```\\n\\n**2nd Sample:**\\n\\n**Input Data:**\\n\\n```\\nDomain: lucky-slots-online.com\\nContent:  Spin to win big at Lucky Slots Online! Play hundreds of exciting slot games, claim your bonuses, and join the fun.  Licensed and regulated for your safety. 24/7 customer support available. Join now and get 100 free spins!\\n```\\n\\n**Expected Output:**\\n\\n```json\\n{\\n  \"answer\": 1,\\n  \"classification\": \"Gambling\",\\n  \"reason\": \"Domain \\'lucky-slots-online.com\\' and content include keywords like \\'slots,\\' \\'win,\\' \\'casino,\\' \\'bonuses,\\' \\'free spins,\\' indicating a gambling website.\",\\n  \"confidence\": 100\\n}\\n```\\n\\n**3rd Sample**\\n\\n**Input Data:**\\n\\n```\\nDomain: adult-pleasures.net\\nContent:  Experience the hottest adult entertainment online. Unlimited access to exclusive videos and photos. 18+ only. Join our community of pleasure seekers today!\\n```\\n\\n**Expected Output:**\\n\\n```json\\n{\\n  \"answer\": 2,\\n  \"classification\": \"Pornography\",\\n  \"reason\": \"Domain \\'adult-pleasures.net\\' and content include explicit terms like \\'adult entertainment,\\' \\'exclusive videos,\\' \\'photos,\\' \\'18+ only,\\' and \\'pleasure seekers,\\' indicating a pornography website. Strong keywords in both domain and content (25 pts), strong domain-content alignment (30 pts), unambiguous content (20 pts), multiple category indicators (10 pts). Total 85 points.\",\\n  \"confidence\": 85\\n}\\n```\\n**4th Sample**\\n\\n**Input Data:**\\n\\n```\\nDomain: project420.com\\nContent:  Welcome to Project420.com an ongoing community marijuana, hemp search engine and your gateway to 420 products, services and information from all over the world. Marijuana seeds, super bongs, high tech growing marijuana books, contests, communities, cool people and tons of 420 fun.  Potent marijuana websites are added frequently.  Let\\'s help each other grow.  Use the table of contents located to the left and begin your search of 420 world wide websites.\\n```\\n\\n**Expected Output:**\\n\\n```json\\n{\\n  \"answer\": 3,\\n  \"classification\": \"Harmful\",\\n  \"reason\": \"Domain \\'project420.com\\' and content include keywords like \\'marijuana seeds,\\' \\'growing marijuana,\\' and \\'420 products,\\' indicating promotion of illegal drugs under Indonesian law (UU ITE). Strong keywords in content (25 pts), Partial Domain and Content Alignment (15 pts), clear harmful intent (20 pts), multiple indicators (10 pts). Total 70 points.\",\\n  \"confidence\": 70\\n}\\n```\\n**Execution:**\\nProcess the provided website data (input fields: `Domain`, `Content`). Apply the classification categories, definitions, and confidence point system accurately. Generate the mandatory JSON output for each entry. Begin classification now.'}, {'role': 'user', 'content': 'Classify the given URL as 0 (benign), 1 (gambling), 2 (pornography), or 3 (harmful). Output MUST be JSON.\\n\\\\nDomain: jitutogel.net, Content: \\\\\"Whatsapp Telegram Livechat DAFTAR LOGIN BERANDA SLOT GAMES LIVE CASINO POKER ONLINE E-SPORTS ARCADE LOTTERY PROMOTION Jackpot Gaming Playstar TTG Slots Spadegaming RedTiger GMW CQ9 Gaming Live Gaming Evolution Gaming Sexy Gaming SAgaming HOgaming Gameplay OpusGaming Sports Gaming CMD368 SBOBET UBOBET TFGaming Ultraplay SabaEsports JituTogel: Serunya Game Online dengan Hadiah Uang Nyata! Penyedia Games Metode Pembayaran Bank Cimb Niaga BCA Danamon Permata Mandiri BNI BRI Panin Pulsa XL Axiata Tri Telkomsel Axis E-Money QRIS Dana OVO LinkAja Gopay ©2024 jitutogel. All rights reserved | 18+ LIVECHAT\\\\\"'}]\n"
     ]
    }
   ],
   "source": [
    "print(messages)"
   ]
  },
  {
   "cell_type": "code",
   "execution_count": null,
   "id": "2af7fada",
   "metadata": {},
   "outputs": [],
   "source": []
  }
 ],
 "metadata": {
  "kernelspec": {
   "display_name": "Python 3",
   "language": "python",
   "name": "python3"
  },
  "language_info": {
   "codemirror_mode": {
    "name": "ipython",
    "version": 3
   },
   "file_extension": ".py",
   "mimetype": "text/x-python",
   "name": "python",
   "nbconvert_exporter": "python",
   "pygments_lexer": "ipython3",
   "version": "3.11.11"
  }
 },
 "nbformat": 4,
 "nbformat_minor": 5
}
